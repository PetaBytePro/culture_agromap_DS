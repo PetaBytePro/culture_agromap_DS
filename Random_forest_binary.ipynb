{
 "cells": [
  {
   "cell_type": "code",
   "execution_count": 1,
   "metadata": {},
   "outputs": [],
   "source": [
    "import numpy as np\n",
    "import pandas as pd\n",
    "from sklearn.model_selection import train_test_split, RandomizedSearchCV\n",
    "from sklearn.ensemble import RandomForestClassifier\n",
    "from sklearn.metrics import accuracy_score, precision_score, recall_score, f1_score, roc_auc_score, mean_squared_error\n",
    "from sklearn.preprocessing import LabelEncoder\n",
    "from sklearn.impute import KNNImputer\n",
    "import matplotlib.pyplot as plt\n",
    "from imblearn.over_sampling import SMOTE\n",
    "from imblearn.under_sampling import RandomUnderSampler\n",
    "\n",
    "%matplotlib inline\n",
    "# ignore warnings\n",
    "import warnings\n",
    "warnings.filterwarnings(\"ignore\")"
   ]
  },
  {
   "cell_type": "code",
   "execution_count": 2,
   "metadata": {},
   "outputs": [],
   "source": [
    "df = pd.read_json('./data/dataSet_Culture_06102023-POINT.json')"
   ]
  },
  {
   "cell_type": "code",
   "execution_count": 3,
   "metadata": {},
   "outputs": [],
   "source": [
    "# Extract the year from 'Analysis Date'\n",
    "df['year'] = df['Analysis Date'].apply(lambda x: x.split('-')[0])\n",
    "\n",
    "df['polygon_x'] = df['polygon'].apply(lambda x: x['x'])\n",
    "df['polygon_y'] = df['polygon'].apply(lambda x: x['y'])\n",
    "df['month'] = df['Analysis Date'].apply(lambda x: x.split('-')[1])\n",
    "df['day'] = df['Analysis Date'].apply(lambda x: x.split('-')[2])\n",
    "\n",
    "df['vegetation'] = (df['indextype'] == 'NDVI') & (df['averagevalue'] >= 0.15)\n",
    "df = df.drop(['polygon', 'soil_id'] , axis = 1)\n",
    "\n",
    "# Modify the 'combined' column to include year\n",
    "df['combined'] = df['polygon_x'].astype(str) + '_' + df['polygon_y'].astype(str) + '_' + df['year'].astype(str)\n",
    "\n",
    "# Assign unique ID based on the grouped column\n",
    "df['id'] = df.groupby('combined').ngroup() + 1\n",
    "\n",
    "# Drop the combined column and other temporary columns\n",
    "df = df.drop(columns=['combined', 'polygon_x', 'polygon_y', 'year'])"
   ]
  },
  {
   "cell_type": "code",
   "execution_count": 4,
   "metadata": {},
   "outputs": [],
   "source": [
    "df = df[df['indextype'] == 'NDVI']\n",
    "df = df.drop(columns=['indextype', 'year contour', 'month', 'day', 'vegetation', 'type_culture_name'])\n",
    "df = df.rename(columns={'culture_name': 'class'})\n",
    "df = df.rename(columns={'averagevalue': 'red'})\n",
    "df = df.rename(columns={'Analysis Date': 'date'})\n",
    "df['date'] = pd.to_datetime(df['date'])"
   ]
  },
  {
   "cell_type": "code",
   "execution_count": 5,
   "metadata": {},
   "outputs": [
    {
     "data": {
      "text/plain": [
       "array([ 2, 16, 21,  4, 11, 13,  7, 20, 18,  3,  0,  5, 17,  8, 12, 10, 15,\n",
       "       14,  6,  1, 19,  9])"
      ]
     },
     "execution_count": 5,
     "metadata": {},
     "output_type": "execute_result"
    }
   ],
   "source": [
    "label_encoder = LabelEncoder() \n",
    "  \n",
    "# Encode labels in column 'class'. \n",
    "df['class']= label_encoder.fit_transform(df['class']) \n",
    "df['district_name']= label_encoder.fit_transform(df['district_name']) \n",
    "df['soil_name']= label_encoder.fit_transform(df['soil_name']) \n",
    "df['class'].unique() "
   ]
  },
  {
   "cell_type": "code",
   "execution_count": 6,
   "metadata": {},
   "outputs": [],
   "source": [
    "# Convert date to multiple columns (year, month, day)\n",
    "df['year'] = pd.to_datetime(df['date']).dt.year\n",
    "df['month'] = pd.to_datetime(df['date']).dt.month\n",
    "df['day'] = pd.to_datetime(df['date']).dt.day\n",
    "df.drop('date', axis=1, inplace=True)\n",
    "\n",
    "# Splitting data    \n",
    "X = df.drop(['class', 'id', 'year', 'day'], axis=1) \n",
    "y = df['class']"
   ]
  },
  {
   "cell_type": "code",
   "execution_count": 7,
   "metadata": {},
   "outputs": [],
   "source": [
    "# Pivot table\n",
    "pivot_df = df.pivot_table(index='id', columns='month', values='red', aggfunc='mean')\n",
    "\n",
    "# Fill NaN values (assuming you want to fill with zeros, adjust if needed)\n",
    "# pivot_df = pivot_df.fillna(0)\n",
    "\n",
    "# Rename columns as needed\n",
    "pivot_df.columns = [f'red_{col}_month' for col in pivot_df.columns]\n",
    "\n",
    "# Reset the index so 'id' becomes a column\n",
    "pivot_df = pivot_df.reset_index()\n",
    "\n",
    "# Assuming each 'id' has a unique 'class', get the 'class' value for each 'id' and add to the pivot dataframe\n",
    "pivot_df['class'] = pivot_df['id'].map(df.drop_duplicates(subset='id').set_index('id')['class'])\n",
    "pivot_df['elevation_contour'] = pivot_df['id'].map(df.drop_duplicates(subset='id').set_index('id')['elevation_contour'])\n",
    "pivot_df['district_name'] = pivot_df['id'].map(df.drop_duplicates(subset='id').set_index('id')['district_name'])\n",
    "pivot_df['soil_name'] = pivot_df['id'].map(df.drop_duplicates(subset='id').set_index('id')['soil_name'])\n",
    "\n",
    "# Reordering columns\n",
    "pivot_df = pivot_df[['red_4_month', 'red_5_month', 'red_6_month', 'red_8_month', 'red_9_month', 'id', 'elevation_contour', 'district_name', 'soil_name', 'class']]"
   ]
  },
  {
   "cell_type": "code",
   "execution_count": 8,
   "metadata": {},
   "outputs": [],
   "source": [
    "# Splitting the data\n",
    "X = pivot_df.drop(['id', 'class'], axis=1)  # Features excluding 'id' and 'class'\n",
    "y = pivot_df['class']  # Target variable"
   ]
  },
  {
   "cell_type": "code",
   "execution_count": 9,
   "metadata": {},
   "outputs": [],
   "source": [
    "class_counts = y.value_counts()\n",
    "\n",
    "# Identify the classes with 99 or fewer samples\n",
    "small_sample_classes = class_counts[class_counts <= 99].index\n",
    "\n",
    "# Create a mask for these classes\n",
    "small_sample_mask = y.isin(small_sample_classes)\n",
    "\n",
    "# Set the values for these classes to 0\n",
    "y[small_sample_mask] = 0\n"
   ]
  },
  {
   "cell_type": "code",
   "execution_count": 10,
   "metadata": {},
   "outputs": [
    {
     "data": {
      "text/plain": [
       "class\n",
       "11    231\n",
       "21    193\n",
       "4     183\n",
       "13    163\n",
       "7     120\n",
       "0     105\n",
       "Name: count, dtype: int64"
      ]
     },
     "execution_count": 10,
     "metadata": {},
     "output_type": "execute_result"
    }
   ],
   "source": [
    "y.value_counts()"
   ]
  },
  {
   "cell_type": "code",
   "execution_count": 11,
   "metadata": {},
   "outputs": [],
   "source": [
    "class_counts = y.value_counts()\n",
    "single_sample_classes = class_counts[class_counts <= 100].index\n",
    "filter_mask = ~y.isin(single_sample_classes)\n",
    "X = X[filter_mask]\n",
    "y = y[filter_mask]"
   ]
  },
  {
   "cell_type": "code",
   "execution_count": 12,
   "metadata": {},
   "outputs": [
    {
     "data": {
      "text/plain": [
       "class\n",
       "11    231\n",
       "21    193\n",
       "4     183\n",
       "13    163\n",
       "7     120\n",
       "0     105\n",
       "Name: count, dtype: int64"
      ]
     },
     "execution_count": 12,
     "metadata": {},
     "output_type": "execute_result"
    }
   ],
   "source": [
    "y.value_counts()"
   ]
  },
  {
   "cell_type": "code",
   "execution_count": 13,
   "metadata": {},
   "outputs": [],
   "source": [
    "imputer = KNNImputer(n_neighbors=5)\n",
    "X = pd.DataFrame(imputer.fit_transform(X), columns=X.columns)"
   ]
  },
  {
   "cell_type": "code",
   "execution_count": 14,
   "metadata": {},
   "outputs": [
    {
     "name": "stdout",
     "output_type": "stream",
     "text": [
      "Class distribution before undersampling:\n",
      " class\n",
      "11    231\n",
      "21    193\n",
      "4     183\n",
      "13    163\n",
      "7     120\n",
      "0     105\n",
      "Name: count, dtype: int64\n"
     ]
    }
   ],
   "source": [
    "y = pd.Series(y)\n",
    "print('Class distribution before undersampling:\\n', y.value_counts())\n"
   ]
  },
  {
   "cell_type": "code",
   "execution_count": 15,
   "metadata": {},
   "outputs": [],
   "source": [
    "rus = RandomUnderSampler(sampling_strategy='auto')\n",
    "X_undersampled, y_undersampled = rus.fit_resample(X, y)"
   ]
  },
  {
   "cell_type": "code",
   "execution_count": 16,
   "metadata": {},
   "outputs": [
    {
     "name": "stdout",
     "output_type": "stream",
     "text": [
      "Class distribution after undersampling:\n",
      " class\n",
      "0     105\n",
      "4     105\n",
      "7     105\n",
      "11    105\n",
      "13    105\n",
      "21    105\n",
      "Name: count, dtype: int64\n"
     ]
    }
   ],
   "source": [
    "y_undersampled = pd.Series(y_undersampled)\n",
    "print('Class distribution after undersampling:\\n', y_undersampled.value_counts())\n"
   ]
  },
  {
   "cell_type": "code",
   "execution_count": 17,
   "metadata": {},
   "outputs": [],
   "source": [
    "# y = pd.Series(y)\n",
    "\n",
    "# # Print class distribution before SMOTE\n",
    "# print('Class distribution before SMOTE:\\n', y.value_counts())\n",
    "\n",
    "# # Apply SMOTE\n",
    "# smote = SMOTE(sampling_strategy='auto', k_neighbors=5)\n",
    "# X_resampled, y_resampled = smote.fit_resample(X, y)\n",
    "\n",
    "# # Convert y_resampled to a pandas Series (for value_counts)\n",
    "# y_resampled = pd.Series(y_resampled)\n",
    "\n",
    "# # Print class distribution after SMOTE\n",
    "# print('Class distribution after SMOTE:\\n', y_resampled.value_counts())"
   ]
  },
  {
   "cell_type": "code",
   "execution_count": 18,
   "metadata": {},
   "outputs": [],
   "source": [
    "X_train, X_test, y_train, y_test = train_test_split(X_undersampled, y_undersampled, test_size=0.2, stratify=y_undersampled)"
   ]
  },
  {
   "cell_type": "code",
   "execution_count": 19,
   "metadata": {},
   "outputs": [],
   "source": [
    "# Number of trees in random forest\n",
    "n_estimators = [int(x) for x in np.linspace(start = 10, stop = 80, num = 10)]\n",
    "# Number of features to consider at every split\n",
    "max_features = ['auto', 'sqrt']\n",
    "# Maximum number of levels in tree\n",
    "max_depth = [2,4]\n",
    "# Minimum number of samples required to split a node\n",
    "min_samples_split = [2, 5]\n",
    "# Minimum number of samples required at each leaf node\n",
    "min_samples_leaf = [1, 2]\n",
    "# Method of selecting samples for training each tree\n",
    "bootstrap = [True, False]\n",
    "criterion = ['gini', 'entropy']\n",
    "class_weight = ['balanced', 'balanced_subsample', None]\n"
   ]
  },
  {
   "cell_type": "code",
   "execution_count": 20,
   "metadata": {},
   "outputs": [
    {
     "name": "stdout",
     "output_type": "stream",
     "text": [
      "Class 0 - Best Parameters: {'n_estimators': 56, 'min_samples_split': 5, 'min_samples_leaf': 2, 'max_features': 'sqrt', 'max_depth': 4, 'criterion': 'gini', 'class_weight': None, 'bootstrap': False}\n",
      "Class 0 - Best CV Score: 0.865089108910891\n",
      "Class 0 - Test Set Score: 0.873015873015873\n",
      "Class 4 - Best Parameters: {'n_estimators': 80, 'min_samples_split': 5, 'min_samples_leaf': 2, 'max_features': 'sqrt', 'max_depth': 4, 'criterion': 'gini', 'class_weight': None, 'bootstrap': True}\n",
      "Class 4 - Best CV Score: 0.8353465346534653\n",
      "Class 4 - Test Set Score: 0.8333333333333334\n",
      "Class 7 - Best Parameters: {'n_estimators': 56, 'min_samples_split': 2, 'min_samples_leaf': 2, 'max_features': 'sqrt', 'max_depth': 4, 'criterion': 'gini', 'class_weight': None, 'bootstrap': True}\n",
      "Class 7 - Best CV Score: 0.8512277227722771\n",
      "Class 7 - Test Set Score: 0.8333333333333334\n",
      "Class 11 - Best Parameters: {'n_estimators': 72, 'min_samples_split': 5, 'min_samples_leaf': 2, 'max_features': 'sqrt', 'max_depth': 2, 'criterion': 'entropy', 'class_weight': None, 'bootstrap': True}\n",
      "Class 11 - Best CV Score: 0.8333465346534654\n",
      "Class 11 - Test Set Score: 0.8333333333333334\n",
      "Class 13 - Best Parameters: {'n_estimators': 17, 'min_samples_split': 5, 'min_samples_leaf': 2, 'max_features': 'sqrt', 'max_depth': 4, 'criterion': 'gini', 'class_weight': None, 'bootstrap': False}\n",
      "Class 13 - Best CV Score: 0.8373069306930694\n",
      "Class 13 - Test Set Score: 0.8333333333333334\n",
      "Class 21 - Best Parameters: {'n_estimators': 41, 'min_samples_split': 2, 'min_samples_leaf': 2, 'max_features': 'sqrt', 'max_depth': 2, 'criterion': 'entropy', 'class_weight': None, 'bootstrap': False}\n",
      "Class 21 - Best CV Score: 0.8333465346534654\n",
      "Class 21 - Test Set Score: 0.8333333333333334\n"
     ]
    }
   ],
   "source": [
    "from sklearn.model_selection import RandomizedSearchCV\n",
    "from sklearn.metrics import accuracy_score\n",
    "\n",
    "# Assuming X_train, X_test, y_train, y_test are already defined\n",
    "unique_classes = set(y_train)\n",
    "binary_classifications = {}\n",
    "evaluation_metrics = {}\n",
    "trained_classifiers = {}\n",
    "\n",
    "param_dist = {'n_estimators': n_estimators,\n",
    "               'max_features': max_features,\n",
    "               'max_depth': max_depth,\n",
    "               'min_samples_split': min_samples_split,\n",
    "               'min_samples_leaf': min_samples_leaf,\n",
    "               'bootstrap': bootstrap,\n",
    "               'criterion': criterion,\n",
    "               'class_weight':class_weight \n",
    "}\n",
    "\n",
    "for u_class in unique_classes:\n",
    "    # Convert the labels for one-vs-all classification\n",
    "    y_train_binary = [1 if label == u_class else 0 for label in y_train]\n",
    "    y_test_binary = [1 if label == u_class else 0 for label in y_test]\n",
    "\n",
    "    # Train a Gradient Boosting classifier using Randomized Search CV\n",
    "    gbm = RandomForestClassifier()\n",
    "    random_search = RandomizedSearchCV(\n",
    "        gbm, param_distributions=param_dist, n_iter=200, scoring='accuracy', \n",
    "        cv=5, verbose=0,  n_jobs=-1\n",
    "    )\n",
    "    random_search.fit(X_train, y_train_binary)\n",
    "    \n",
    "    # Storing the trained classifier\n",
    "    trained_classifiers[u_class] = random_search.best_estimator_\n",
    "    \n",
    "    # Evaluate on the test set\n",
    "    y_pred = random_search.predict(X_test)\n",
    "    test_accuracy = accuracy_score(y_test_binary, y_pred)\n",
    "    evaluation_metrics[u_class] = {\n",
    "        \"Best Parameters\": random_search.best_params_,\n",
    "        \"Best CV Score\": random_search.best_score_,\n",
    "        \"Test Accuracy\": test_accuracy\n",
    "    }\n",
    "\n",
    "    # Print results\n",
    "    print(f\"Class {u_class} - Best Parameters:\", random_search.best_params_)\n",
    "    print(f\"Class {u_class} - Best CV Score:\", random_search.best_score_)\n",
    "    print(f\"Class {u_class} - Test Set Score:\", test_accuracy)\n"
   ]
  },
  {
   "cell_type": "code",
   "execution_count": 21,
   "metadata": {},
   "outputs": [
    {
     "data": {
      "text/plain": [
       "{0: RandomForestClassifier(bootstrap=False, max_depth=4, min_samples_leaf=2,\n",
       "                        min_samples_split=5, n_estimators=56),\n",
       " 4: RandomForestClassifier(max_depth=4, min_samples_leaf=2, min_samples_split=5,\n",
       "                        n_estimators=80),\n",
       " 7: RandomForestClassifier(max_depth=4, min_samples_leaf=2, n_estimators=56),\n",
       " 11: RandomForestClassifier(criterion='entropy', max_depth=2, min_samples_leaf=2,\n",
       "                        min_samples_split=5, n_estimators=72),\n",
       " 13: RandomForestClassifier(bootstrap=False, max_depth=4, min_samples_leaf=2,\n",
       "                        min_samples_split=5, n_estimators=17),\n",
       " 21: RandomForestClassifier(bootstrap=False, criterion='entropy', max_depth=2,\n",
       "                        min_samples_leaf=2, n_estimators=41)}"
      ]
     },
     "execution_count": 21,
     "metadata": {},
     "output_type": "execute_result"
    }
   ],
   "source": [
    "trained_classifiers"
   ]
  },
  {
   "cell_type": "code",
   "execution_count": 22,
   "metadata": {},
   "outputs": [],
   "source": [
    "probabilities_batch = {u_class: [] for u_class in trained_classifiers.keys()}\n",
    "\n",
    "for u_class, gbm in trained_classifiers.items():\n",
    "    probs = gbm.predict_proba(X_test)[:, 1]\n",
    "    probabilities_batch[u_class] = probs\n",
    "\n",
    "final_class_predictions = []\n",
    "for i in range(len(X_test)):\n",
    "    final_class = max(probabilities_batch, key=lambda x: probabilities_batch[x][i])\n",
    "    final_class_predictions.append(final_class)"
   ]
  },
  {
   "cell_type": "code",
   "execution_count": 23,
   "metadata": {},
   "outputs": [
    {
     "data": {
      "text/plain": [
       "0.4126984126984127"
      ]
     },
     "execution_count": 23,
     "metadata": {},
     "output_type": "execute_result"
    }
   ],
   "source": [
    "accuracy_score(final_class_predictions, y_test)"
   ]
  },
  {
   "cell_type": "code",
   "execution_count": 24,
   "metadata": {},
   "outputs": [],
   "source": [
    "probabilities_batch = {u_class: [] for u_class in trained_classifiers.keys()}\n",
    "\n",
    "for u_class, gbm in trained_classifiers.items():\n",
    "    probs = gbm.predict_proba(X_train)[:, 1]\n",
    "    probabilities_batch[u_class] = probs\n",
    "\n",
    "final_class_predictions = []\n",
    "for i in range(len(X_train)):\n",
    "    final_class = max(probabilities_batch, key=lambda x: probabilities_batch[x][i])\n",
    "    final_class_predictions.append(final_class)"
   ]
  },
  {
   "cell_type": "code",
   "execution_count": 25,
   "metadata": {},
   "outputs": [
    {
     "data": {
      "text/plain": [
       "0.6428571428571429"
      ]
     },
     "execution_count": 25,
     "metadata": {},
     "output_type": "execute_result"
    }
   ],
   "source": [
    "accuracy_score(final_class_predictions, y_train)"
   ]
  },
  {
   "cell_type": "code",
   "execution_count": null,
   "metadata": {},
   "outputs": [],
   "source": []
  }
 ],
 "metadata": {
  "kernelspec": {
   "display_name": "venv",
   "language": "python",
   "name": "python3"
  },
  "language_info": {
   "codemirror_mode": {
    "name": "ipython",
    "version": 3
   },
   "file_extension": ".py",
   "mimetype": "text/x-python",
   "name": "python",
   "nbconvert_exporter": "python",
   "pygments_lexer": "ipython3",
   "version": "3.10.12"
  }
 },
 "nbformat": 4,
 "nbformat_minor": 2
}
