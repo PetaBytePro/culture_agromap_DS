{
 "cells": [
  {
   "cell_type": "code",
   "execution_count": 1,
   "metadata": {},
   "outputs": [],
   "source": [
    "import pandas as pd\n",
    "from pycaret.classification import *\n",
    "from  sklearn.metrics import classification_report"
   ]
  },
  {
   "cell_type": "code",
   "execution_count": 2,
   "metadata": {},
   "outputs": [],
   "source": [
    "df1 = pd.read_json('./newmodel/real/dataSet_Culture_10122023_2020_kirbi.json')\n",
    "df2 = pd.read_json('./newmodel/real/dataSet_Culture_10122023_2021_kirbi.json')\n",
    "df3 = pd.read_json('./newmodel/real/dataSet_Culture_10122023_2022_kirbi.json')\n",
    "df4 = pd.read_json('./newmodel/real/dataSet_Culture_10122023_2023_kirbi.json')\n",
    "df5 = pd.read_json('./newmodel/dataSet_Culture_21112023.json')"
   ]
  },
  {
   "cell_type": "code",
   "execution_count": 3,
   "metadata": {},
   "outputs": [],
   "source": [
    "combined_df = pd.concat([df1, df2, df3, df4, df5], ignore_index=True)"
   ]
  },
  {
   "cell_type": "code",
   "execution_count": 4,
   "metadata": {},
   "outputs": [
    {
     "data": {
      "text/plain": [
       "array(['Ячмень', 'Wheat', 'Морковь', 'Лук-Севок', 'Рапс', 'Люцерна',\n",
       "       'Лён', 'Соя', 'Эспарцет', 'Potato', 'Вика', 'Донник',\n",
       "       'Неизвестная Культура', 'Sunflower', 'Козлятник', 'Просо',\n",
       "       'Тритикале', 'Сорго', 'Сидераты', 'Пшеница', 'Кукуруза', 'Свекла',\n",
       "       'Томат', 'Картофель', 'Софлор', 'Лук', 'Клевер', 'Сил'],\n",
       "      dtype=object)"
      ]
     },
     "execution_count": 4,
     "metadata": {},
     "output_type": "execute_result"
    }
   ],
   "source": [
    "combined_df['culture_name'].unique()"
   ]
  },
  {
   "cell_type": "code",
   "execution_count": 5,
   "metadata": {},
   "outputs": [
    {
     "data": {
      "text/plain": [
       "0                   Ячмень\n",
       "1                  Пшеница\n",
       "2                  Морковь\n",
       "3                Лук-Севок\n",
       "4                     Рапс\n",
       "5                  Люцерна\n",
       "6                      Лён\n",
       "7                      Соя\n",
       "8                 Эспарцет\n",
       "9                Картофель\n",
       "10                    Вика\n",
       "11                  Донник\n",
       "12    Неизвестная Культура\n",
       "13            Подсолнечник\n",
       "14               Козлятник\n",
       "15                   Просо\n",
       "16               Тритикале\n",
       "17                   Сорго\n",
       "18                Сидераты\n",
       "19                 Пшеница\n",
       "20                Кукуруза\n",
       "21                  Свекла\n",
       "22                   Томат\n",
       "23               Картофель\n",
       "24                  Софлор\n",
       "25                     Лук\n",
       "26                  Клевер\n",
       "27                     Сил\n",
       "dtype: object"
      ]
     },
     "execution_count": 5,
     "metadata": {},
     "output_type": "execute_result"
    }
   ],
   "source": [
    "crops = ['Ячмень', 'Wheat', 'Морковь', 'Лук-Севок', 'Рапс', 'Люцерна',\n",
    "\n",
    "         'Лён', 'Соя', 'Эспарцет', 'Potato', 'Вика', 'Донник',\n",
    "\n",
    "         'Неизвестная Культура', 'Sunflower', 'Козлятник', 'Просо',\n",
    "\n",
    "         'Тритикале', 'Сорго', 'Сидераты', 'Пшеница', 'Кукуруза', 'Свекла',\n",
    "\n",
    "         'Томат', 'Картофель', 'Софлор', 'Лук', 'Клевер', 'Сил']\n",
    "\n",
    "\n",
    "\n",
    "# Translation dictionary for English names to Russian\n",
    "\n",
    "translations = {\n",
    "\n",
    "    'Wheat': 'Пшеница',\n",
    "\n",
    "    'Potato': 'Картофель',\n",
    "\n",
    "    'Sunflower': 'Подсолнечник'\n",
    "\n",
    "}\n",
    "\n",
    "\n",
    "\n",
    "# Translate the crop names to Russian\n",
    "\n",
    "crops_russian = [translations.get(crop, crop) for crop in crops]\n",
    "\n",
    "\n",
    "\n",
    "# Create a pandas Series from the list\n",
    "\n",
    "crops_series = pd.Series(crops_russian)\n",
    "\n",
    "crops_series"
   ]
  },
  {
   "cell_type": "code",
   "execution_count": 6,
   "metadata": {},
   "outputs": [
    {
     "data": {
      "text/plain": [
       "Пшеница                 122\n",
       "Ячмень                   69\n",
       "Кукуруза                 60\n",
       "Свекла                   56\n",
       "Люцерна                  44\n",
       "Картофель                39\n",
       "Эспарцет                 16\n",
       "Соя                      10\n",
       "Донник                    7\n",
       "Неизвестная Культура      6\n",
       "Сидераты                  3\n",
       "Тритикале                 3\n",
       "Подсолнечник              3\n",
       "Вика                      3\n",
       "Морковь                   3\n",
       "Козлятник                 2\n",
       "Лён                       2\n",
       "Рапс                      2\n",
       "Томат                     2\n",
       "Лук                       2\n",
       "Просо                     1\n",
       "Сорго                     1\n",
       "Лук-Севок                 1\n",
       "Софлор                    1\n",
       "Клевер                    1\n",
       "Сил                       1\n",
       "Name: culture_name, dtype: int64"
      ]
     },
     "execution_count": 6,
     "metadata": {},
     "output_type": "execute_result"
    }
   ],
   "source": [
    "combined_df['culture_name'] = combined_df['culture_name'].map(translations).fillna(combined_df['culture_name'])\n",
    "\n",
    "combined_df['culture_name'].value_counts()"
   ]
  },
  {
   "cell_type": "code",
   "execution_count": 7,
   "metadata": {},
   "outputs": [],
   "source": [
    "combined_df.to_csv('kirbi_norm.csv', index=False)"
   ]
  },
  {
   "cell_type": "code",
   "execution_count": 8,
   "metadata": {},
   "outputs": [
    {
     "data": {
      "text/plain": [
       "(   contour_id region  index_month_4  index_month_5  index_month_6  \\\n",
       " 0     16952.0   chui          0.383          0.492          0.261   \n",
       " 1     16953.0   chui          0.522          0.684          0.537   \n",
       " 2     16954.0   chui          0.592          0.610          0.429   \n",
       " 6     16958.0   chui          0.050          0.225          0.147   \n",
       " 8     16960.0   chui          0.112          0.190          0.289   \n",
       " \n",
       "    index_month_7  index_month_8  elevation culture_name  \n",
       " 0          0.065          0.071      634.0       Ячмень  \n",
       " 1          0.162          0.091      633.0      Пшеница  \n",
       " 2          0.140          0.096      625.0      Пшеница  \n",
       " 6          0.087          0.057      637.0      Люцерна  \n",
       " 8          0.514          0.546      621.0          Соя  ,\n",
       " Пшеница                 122\n",
       " Ячмень                   69\n",
       " Кукуруза                 60\n",
       " Свекла                   56\n",
       " Люцерна                  44\n",
       " Картофель                39\n",
       " Эспарцет                 16\n",
       " Соя                      10\n",
       " Донник                    7\n",
       " Неизвестная Культура      6\n",
       " Name: culture_name, dtype: int64)"
      ]
     },
     "execution_count": 8,
     "metadata": {},
     "output_type": "execute_result"
    }
   ],
   "source": [
    "# Counting the number of occurrences for each culture\n",
    "culture_counts = combined_df['culture_name'].value_counts()\n",
    "\n",
    "# Cultures with more than 5 members\n",
    "cultures_more_than_5 = culture_counts[culture_counts > 5].index\n",
    "\n",
    "# Filtering the dataset\n",
    "filtered_data = combined_df[combined_df['culture_name'].isin(cultures_more_than_5)]\n",
    "\n",
    "# Displaying the first few rows of the filtered dataset\n",
    "filtered_data.head(), filtered_data['culture_name'].value_counts()\n"
   ]
  },
  {
   "cell_type": "code",
   "execution_count": 9,
   "metadata": {},
   "outputs": [],
   "source": [
    "unique_cultures = filtered_data['culture_name'].unique()\n",
    "\n",
    "# Create a mapping from culture names to numeric values\n",
    "culture_mapping = {culture: i+1 for i, culture in enumerate(unique_cultures)}"
   ]
  },
  {
   "cell_type": "code",
   "execution_count": 10,
   "metadata": {},
   "outputs": [
    {
     "data": {
      "text/plain": [
       "{'Ячмень': 1,\n",
       " 'Пшеница': 2,\n",
       " 'Люцерна': 3,\n",
       " 'Соя': 4,\n",
       " 'Эспарцет': 5,\n",
       " 'Картофель': 6,\n",
       " 'Донник': 7,\n",
       " 'Неизвестная Культура': 8,\n",
       " 'Кукуруза': 9,\n",
       " 'Свекла': 10}"
      ]
     },
     "execution_count": 10,
     "metadata": {},
     "output_type": "execute_result"
    }
   ],
   "source": [
    "culture_mapping"
   ]
  },
  {
   "cell_type": "code",
   "execution_count": 11,
   "metadata": {},
   "outputs": [],
   "source": [
    "filtered_data['culture_name'] = filtered_data['culture_name'].map(culture_mapping)\n"
   ]
  },
  {
   "cell_type": "code",
   "execution_count": 12,
   "metadata": {},
   "outputs": [],
   "source": [
    "filtered_data_no_ik = filtered_data[filtered_data['region'] != 'ik']\n",
    "df = filtered_data_no_ik.drop(columns=['contour_id', 'region'])"
   ]
  },
  {
   "cell_type": "code",
   "execution_count": 13,
   "metadata": {},
   "outputs": [],
   "source": [
    "from sklearn.impute import KNNImputer\n",
    "imputer = KNNImputer(n_neighbors=2)\n",
    "\n",
    "# Perform KNN imputation\n",
    "imputed_df = pd.DataFrame(imputer.fit_transform(df), columns=df.columns)"
   ]
  },
  {
   "cell_type": "code",
   "execution_count": 14,
   "metadata": {},
   "outputs": [
    {
     "data": {
      "text/plain": [
       "index_month_4     2\n",
       "index_month_5    35\n",
       "index_month_6     3\n",
       "index_month_7    75\n",
       "index_month_8     3\n",
       "elevation        11\n",
       "culture_name      0\n",
       "dtype: int64"
      ]
     },
     "execution_count": 14,
     "metadata": {},
     "output_type": "execute_result"
    }
   ],
   "source": [
    "df.isna().sum()"
   ]
  },
  {
   "cell_type": "code",
   "execution_count": 15,
   "metadata": {},
   "outputs": [],
   "source": [
    "imputed_df['elevation'] = imputed_df['elevation'].astype(int)\n",
    "imputed_df['culture_name'] = imputed_df['culture_name'].astype(int)"
   ]
  },
  {
   "cell_type": "code",
   "execution_count": 17,
   "metadata": {},
   "outputs": [
    {
     "ename": "KeyError",
     "evalue": "'y_pshenica'",
     "output_type": "error",
     "traceback": [
      "\u001b[0;31m---------------------------------------------------------------------------\u001b[0m",
      "\u001b[0;31mKeyError\u001b[0m                                  Traceback (most recent call last)",
      "File \u001b[0;32m~/Documents/AgroMap/urojainost/venv/lib/python3.10/site-packages/pandas/core/indexes/base.py:3802\u001b[0m, in \u001b[0;36mIndex.get_loc\u001b[0;34m(self, key, method, tolerance)\u001b[0m\n\u001b[1;32m   3801\u001b[0m \u001b[38;5;28;01mtry\u001b[39;00m:\n\u001b[0;32m-> 3802\u001b[0m     \u001b[38;5;28;01mreturn\u001b[39;00m \u001b[38;5;28;43mself\u001b[39;49m\u001b[38;5;241;43m.\u001b[39;49m\u001b[43m_engine\u001b[49m\u001b[38;5;241;43m.\u001b[39;49m\u001b[43mget_loc\u001b[49m\u001b[43m(\u001b[49m\u001b[43mcasted_key\u001b[49m\u001b[43m)\u001b[49m\n\u001b[1;32m   3803\u001b[0m \u001b[38;5;28;01mexcept\u001b[39;00m \u001b[38;5;167;01mKeyError\u001b[39;00m \u001b[38;5;28;01mas\u001b[39;00m err:\n",
      "File \u001b[0;32m~/Documents/AgroMap/urojainost/venv/lib/python3.10/site-packages/pandas/_libs/index.pyx:138\u001b[0m, in \u001b[0;36mpandas._libs.index.IndexEngine.get_loc\u001b[0;34m()\u001b[0m\n",
      "File \u001b[0;32m~/Documents/AgroMap/urojainost/venv/lib/python3.10/site-packages/pandas/_libs/index.pyx:165\u001b[0m, in \u001b[0;36mpandas._libs.index.IndexEngine.get_loc\u001b[0;34m()\u001b[0m\n",
      "File \u001b[0;32mpandas/_libs/hashtable_class_helper.pxi:5745\u001b[0m, in \u001b[0;36mpandas._libs.hashtable.PyObjectHashTable.get_item\u001b[0;34m()\u001b[0m\n",
      "File \u001b[0;32mpandas/_libs/hashtable_class_helper.pxi:5753\u001b[0m, in \u001b[0;36mpandas._libs.hashtable.PyObjectHashTable.get_item\u001b[0;34m()\u001b[0m\n",
      "\u001b[0;31mKeyError\u001b[0m: 'y_pshenica'",
      "\nThe above exception was the direct cause of the following exception:\n",
      "\u001b[0;31mKeyError\u001b[0m                                  Traceback (most recent call last)",
      "Cell \u001b[0;32mIn[17], line 20\u001b[0m\n\u001b[1;32m     15\u001b[0m         \u001b[38;5;66;03m# You can add more classification metrics as needed\u001b[39;00m\n\u001b[1;32m     17\u001b[0m     \u001b[38;5;28;01mreturn\u001b[39;00m scores\n\u001b[0;32m---> 20\u001b[0m scores_classification \u001b[38;5;241m=\u001b[39m calculate_evaluation_scores(\u001b[43mdf\u001b[49m\u001b[43m[\u001b[49m\u001b[38;5;124;43m'\u001b[39;49m\u001b[38;5;124;43my_pshenica\u001b[39;49m\u001b[38;5;124;43m'\u001b[39;49m\u001b[43m]\u001b[49m, df[\u001b[38;5;124m'\u001b[39m\u001b[38;5;124my_pshenica_pred\u001b[39m\u001b[38;5;124m'\u001b[39m], problem_type\u001b[38;5;241m=\u001b[39m\u001b[38;5;124m'\u001b[39m\u001b[38;5;124mclassification\u001b[39m\u001b[38;5;124m'\u001b[39m)\n\u001b[1;32m     21\u001b[0m \u001b[38;5;28mprint\u001b[39m(\u001b[38;5;124m\"\u001b[39m\u001b[38;5;130;01m\\n\u001b[39;00m\u001b[38;5;124mClassification Scores:\u001b[39m\u001b[38;5;124m\"\u001b[39m)\n\u001b[1;32m     22\u001b[0m \u001b[38;5;28mprint\u001b[39m(scores_classification)\n",
      "File \u001b[0;32m~/Documents/AgroMap/urojainost/venv/lib/python3.10/site-packages/pandas/core/frame.py:3807\u001b[0m, in \u001b[0;36mDataFrame.__getitem__\u001b[0;34m(self, key)\u001b[0m\n\u001b[1;32m   3805\u001b[0m \u001b[38;5;28;01mif\u001b[39;00m \u001b[38;5;28mself\u001b[39m\u001b[38;5;241m.\u001b[39mcolumns\u001b[38;5;241m.\u001b[39mnlevels \u001b[38;5;241m>\u001b[39m \u001b[38;5;241m1\u001b[39m:\n\u001b[1;32m   3806\u001b[0m     \u001b[38;5;28;01mreturn\u001b[39;00m \u001b[38;5;28mself\u001b[39m\u001b[38;5;241m.\u001b[39m_getitem_multilevel(key)\n\u001b[0;32m-> 3807\u001b[0m indexer \u001b[38;5;241m=\u001b[39m \u001b[38;5;28;43mself\u001b[39;49m\u001b[38;5;241;43m.\u001b[39;49m\u001b[43mcolumns\u001b[49m\u001b[38;5;241;43m.\u001b[39;49m\u001b[43mget_loc\u001b[49m\u001b[43m(\u001b[49m\u001b[43mkey\u001b[49m\u001b[43m)\u001b[49m\n\u001b[1;32m   3808\u001b[0m \u001b[38;5;28;01mif\u001b[39;00m is_integer(indexer):\n\u001b[1;32m   3809\u001b[0m     indexer \u001b[38;5;241m=\u001b[39m [indexer]\n",
      "File \u001b[0;32m~/Documents/AgroMap/urojainost/venv/lib/python3.10/site-packages/pandas/core/indexes/base.py:3804\u001b[0m, in \u001b[0;36mIndex.get_loc\u001b[0;34m(self, key, method, tolerance)\u001b[0m\n\u001b[1;32m   3802\u001b[0m     \u001b[38;5;28;01mreturn\u001b[39;00m \u001b[38;5;28mself\u001b[39m\u001b[38;5;241m.\u001b[39m_engine\u001b[38;5;241m.\u001b[39mget_loc(casted_key)\n\u001b[1;32m   3803\u001b[0m \u001b[38;5;28;01mexcept\u001b[39;00m \u001b[38;5;167;01mKeyError\u001b[39;00m \u001b[38;5;28;01mas\u001b[39;00m err:\n\u001b[0;32m-> 3804\u001b[0m     \u001b[38;5;28;01mraise\u001b[39;00m \u001b[38;5;167;01mKeyError\u001b[39;00m(key) \u001b[38;5;28;01mfrom\u001b[39;00m \u001b[38;5;21;01merr\u001b[39;00m\n\u001b[1;32m   3805\u001b[0m \u001b[38;5;28;01mexcept\u001b[39;00m \u001b[38;5;167;01mTypeError\u001b[39;00m:\n\u001b[1;32m   3806\u001b[0m     \u001b[38;5;66;03m# If we have a listlike key, _check_indexing_error will raise\u001b[39;00m\n\u001b[1;32m   3807\u001b[0m     \u001b[38;5;66;03m#  InvalidIndexError. Otherwise we fall through and re-raise\u001b[39;00m\n\u001b[1;32m   3808\u001b[0m     \u001b[38;5;66;03m#  the TypeError.\u001b[39;00m\n\u001b[1;32m   3809\u001b[0m     \u001b[38;5;28mself\u001b[39m\u001b[38;5;241m.\u001b[39m_check_indexing_error(key)\n",
      "\u001b[0;31mKeyError\u001b[0m: 'y_pshenica'"
     ]
    }
   ],
   "source": [
    "from sklearn.metrics import mean_absolute_error, mean_squared_error, r2_score, accuracy_score, precision_score, recall_score, f1_score, roc_auc_score\n",
    "\n",
    "def calculate_evaluation_scores(y_true, y_pred, problem_type):\n",
    "    scores = {}\n",
    "    \n",
    "    if problem_type == 'regression':\n",
    "        scores['MAE'] = mean_absolute_error(y_true, y_pred)\n",
    "        scores['MSE'] = mean_squared_error(y_true, y_pred)\n",
    "        scores['R-squared'] = r2_score(y_true, y_pred)\n",
    "    elif problem_type == 'classification':\n",
    "        scores['Accuracy'] = accuracy_score(y_true, y_pred)\n",
    "        scores['Precision'] = precision_score(y_true, y_pred,average='weighted')\n",
    "        scores['Recall'] = recall_score(y_true, y_pred,average='weighted')\n",
    "        scores['F1-Score'] = f1_score(y_true, y_pred,average='weighted')\n",
    "        # You can add more classification metrics as needed\n",
    "    \n",
    "    return scores\n",
    "\n",
    "\n",
    "scores_classification = calculate_evaluation_scores(df['y_pshenica'], df['y_pshenica_pred'], problem_type='classification')\n",
    "print(\"\\nClassification Scores:\")\n",
    "print(scores_classification)"
   ]
  },
  {
   "cell_type": "code",
   "execution_count": 18,
   "metadata": {},
   "outputs": [
    {
     "data": {
      "text/plain": [
       "(   index_month_4  index_month_5  index_month_6  index_month_7  index_month_8  \\\n",
       " 0          0.383          0.492          0.261          0.065          0.071   \n",
       " 1          0.522          0.684          0.537          0.162          0.091   \n",
       " 2          0.592          0.610          0.429          0.140          0.096   \n",
       " 3          0.050          0.225          0.147          0.087          0.057   \n",
       " 4          0.112          0.190          0.289          0.514          0.546   \n",
       " \n",
       "    elevation  culture_name  \n",
       " 0        634             1  \n",
       " 1        633             2  \n",
       " 2        625             2  \n",
       " 3        637             3  \n",
       " 4        621             4  ,\n",
       " 2     104\n",
       " 1      60\n",
       " 9      60\n",
       " 10     56\n",
       " 3      41\n",
       " 6      33\n",
       " 4      10\n",
       " Name: culture_name, dtype: int64)"
      ]
     },
     "execution_count": 18,
     "metadata": {},
     "output_type": "execute_result"
    }
   ],
   "source": [
    "# Counting the number of occurrences for each culture\n",
    "culture_counts = imputed_df['culture_name'].value_counts()\n",
    "\n",
    "# Cultures with more than 5 members\n",
    "cultures_more_than_5 = culture_counts[culture_counts > 5].index\n",
    "\n",
    "# Filtering the dataset\n",
    "filtered_data = imputed_df[imputed_df['culture_name'].isin(cultures_more_than_5)]\n",
    "\n",
    "# Displaying the first few rows of the filtered dataset\n",
    "filtered_data.head(), filtered_data['culture_name'].value_counts()"
   ]
  },
  {
   "cell_type": "code",
   "execution_count": 19,
   "metadata": {},
   "outputs": [
    {
     "data": {
      "text/plain": [
       "2     104\n",
       "1      60\n",
       "9      60\n",
       "10     56\n",
       "3      41\n",
       "6      33\n",
       "4      10\n",
       "Name: culture_name, dtype: int64"
      ]
     },
     "execution_count": 19,
     "metadata": {},
     "output_type": "execute_result"
    }
   ],
   "source": [
    "filtered_data['culture_name'].value_counts()"
   ]
  },
  {
   "cell_type": "code",
   "execution_count": 20,
   "metadata": {},
   "outputs": [
    {
     "data": {
      "text/plain": [
       "2     104\n",
       "1      60\n",
       "9      60\n",
       "10     56\n",
       "3      41\n",
       "6      33\n",
       "4      10\n",
       "Name: culture_name, dtype: int64"
      ]
     },
     "execution_count": 20,
     "metadata": {},
     "output_type": "execute_result"
    }
   ],
   "source": [
    "filtered_data['culture_name'].value_counts()"
   ]
  },
  {
   "cell_type": "code",
   "execution_count": 81,
   "metadata": {},
   "outputs": [],
   "source": [
    "filtered_data.to_csv(\"kirbi_chuy.csv\", index=False)"
   ]
  },
  {
   "cell_type": "code",
   "execution_count": 84,
   "metadata": {},
   "outputs": [
    {
     "data": {
      "text/plain": [
       "1     104\n",
       "2     104\n",
       "3     104\n",
       "4     104\n",
       "6     104\n",
       "9     104\n",
       "10    104\n",
       "Name: culture_name, dtype: int64"
      ]
     },
     "execution_count": 84,
     "metadata": {},
     "output_type": "execute_result"
    }
   ],
   "source": [
    "from imblearn.over_sampling import SMOTE\n",
    "# Initialize SMOTE\n",
    "smote = SMOTE()\n",
    "\n",
    "# Apply SMOTE\n",
    "X_resampled, y_resampled = smote.fit_resample(X, y)\n",
    "\n",
    "# Check the new class distribution\n",
    "new_class_distribution = y_resampled.value_counts()\n",
    "\n",
    "new_class_distribution"
   ]
  },
  {
   "cell_type": "code",
   "execution_count": 91,
   "metadata": {},
   "outputs": [],
   "source": [
    "resampled_data = pd.concat([X_resampled, y_resampled], axis=1)"
   ]
  },
  {
   "cell_type": "code",
   "execution_count": 147,
   "metadata": {},
   "outputs": [],
   "source": [
    "resampled_data.to_json('balanced_chuy_kirbi_cultureName.json')"
   ]
  },
  {
   "cell_type": "code",
   "execution_count": 97,
   "metadata": {},
   "outputs": [],
   "source": [
    "train = resampled_data[ :650]\n",
    "test = resampled_data[ 651:]"
   ]
  },
  {
   "cell_type": "code",
   "execution_count": 148,
   "metadata": {},
   "outputs": [
    {
     "data": {
      "text/plain": [
       "{'Ячмень': 1,\n",
       " 'Пшеница': 2,\n",
       " 'Люцерна': 3,\n",
       " 'Соя': 4,\n",
       " 'Эспарцет': 5,\n",
       " 'Картофель': 6,\n",
       " 'Донник': 7,\n",
       " 'Неизвестная Культура': 8,\n",
       " 'Кукуруза': 9,\n",
       " 'Свекла': 10}"
      ]
     },
     "execution_count": 148,
     "metadata": {},
     "output_type": "execute_result"
    }
   ],
   "source": [
    "culture_mapping"
   ]
  },
  {
   "cell_type": "code",
   "execution_count": 98,
   "metadata": {},
   "outputs": [
    {
     "data": {
      "text/html": [
       "<style type=\"text/css\">\n",
       "#T_9c251_row9_col1 {\n",
       "  background-color: lightgreen;\n",
       "}\n",
       "</style>\n",
       "<table id=\"T_9c251\">\n",
       "  <thead>\n",
       "    <tr>\n",
       "      <th class=\"blank level0\" >&nbsp;</th>\n",
       "      <th id=\"T_9c251_level0_col0\" class=\"col_heading level0 col0\" >Description</th>\n",
       "      <th id=\"T_9c251_level0_col1\" class=\"col_heading level0 col1\" >Value</th>\n",
       "    </tr>\n",
       "  </thead>\n",
       "  <tbody>\n",
       "    <tr>\n",
       "      <th id=\"T_9c251_level0_row0\" class=\"row_heading level0 row0\" >0</th>\n",
       "      <td id=\"T_9c251_row0_col0\" class=\"data row0 col0\" >Session id</td>\n",
       "      <td id=\"T_9c251_row0_col1\" class=\"data row0 col1\" >2310</td>\n",
       "    </tr>\n",
       "    <tr>\n",
       "      <th id=\"T_9c251_level0_row1\" class=\"row_heading level0 row1\" >1</th>\n",
       "      <td id=\"T_9c251_row1_col0\" class=\"data row1 col0\" >Target</td>\n",
       "      <td id=\"T_9c251_row1_col1\" class=\"data row1 col1\" >culture_name</td>\n",
       "    </tr>\n",
       "    <tr>\n",
       "      <th id=\"T_9c251_level0_row2\" class=\"row_heading level0 row2\" >2</th>\n",
       "      <td id=\"T_9c251_row2_col0\" class=\"data row2 col0\" >Target type</td>\n",
       "      <td id=\"T_9c251_row2_col1\" class=\"data row2 col1\" >Multiclass</td>\n",
       "    </tr>\n",
       "    <tr>\n",
       "      <th id=\"T_9c251_level0_row3\" class=\"row_heading level0 row3\" >3</th>\n",
       "      <td id=\"T_9c251_row3_col0\" class=\"data row3 col0\" >Target mapping</td>\n",
       "      <td id=\"T_9c251_row3_col1\" class=\"data row3 col1\" >1: 0, 2: 1, 3: 2, 4: 3, 6: 4, 9: 5, 10: 6</td>\n",
       "    </tr>\n",
       "    <tr>\n",
       "      <th id=\"T_9c251_level0_row4\" class=\"row_heading level0 row4\" >4</th>\n",
       "      <td id=\"T_9c251_row4_col0\" class=\"data row4 col0\" >Original data shape</td>\n",
       "      <td id=\"T_9c251_row4_col1\" class=\"data row4 col1\" >(650, 7)</td>\n",
       "    </tr>\n",
       "    <tr>\n",
       "      <th id=\"T_9c251_level0_row5\" class=\"row_heading level0 row5\" >5</th>\n",
       "      <td id=\"T_9c251_row5_col0\" class=\"data row5 col0\" >Transformed data shape</td>\n",
       "      <td id=\"T_9c251_row5_col1\" class=\"data row5 col1\" >(650, 7)</td>\n",
       "    </tr>\n",
       "    <tr>\n",
       "      <th id=\"T_9c251_level0_row6\" class=\"row_heading level0 row6\" >6</th>\n",
       "      <td id=\"T_9c251_row6_col0\" class=\"data row6 col0\" >Transformed train set shape</td>\n",
       "      <td id=\"T_9c251_row6_col1\" class=\"data row6 col1\" >(585, 7)</td>\n",
       "    </tr>\n",
       "    <tr>\n",
       "      <th id=\"T_9c251_level0_row7\" class=\"row_heading level0 row7\" >7</th>\n",
       "      <td id=\"T_9c251_row7_col0\" class=\"data row7 col0\" >Transformed test set shape</td>\n",
       "      <td id=\"T_9c251_row7_col1\" class=\"data row7 col1\" >(65, 7)</td>\n",
       "    </tr>\n",
       "    <tr>\n",
       "      <th id=\"T_9c251_level0_row8\" class=\"row_heading level0 row8\" >8</th>\n",
       "      <td id=\"T_9c251_row8_col0\" class=\"data row8 col0\" >Numeric features</td>\n",
       "      <td id=\"T_9c251_row8_col1\" class=\"data row8 col1\" >6</td>\n",
       "    </tr>\n",
       "    <tr>\n",
       "      <th id=\"T_9c251_level0_row9\" class=\"row_heading level0 row9\" >9</th>\n",
       "      <td id=\"T_9c251_row9_col0\" class=\"data row9 col0\" >Preprocess</td>\n",
       "      <td id=\"T_9c251_row9_col1\" class=\"data row9 col1\" >True</td>\n",
       "    </tr>\n",
       "    <tr>\n",
       "      <th id=\"T_9c251_level0_row10\" class=\"row_heading level0 row10\" >10</th>\n",
       "      <td id=\"T_9c251_row10_col0\" class=\"data row10 col0\" >Imputation type</td>\n",
       "      <td id=\"T_9c251_row10_col1\" class=\"data row10 col1\" >simple</td>\n",
       "    </tr>\n",
       "    <tr>\n",
       "      <th id=\"T_9c251_level0_row11\" class=\"row_heading level0 row11\" >11</th>\n",
       "      <td id=\"T_9c251_row11_col0\" class=\"data row11 col0\" >Numeric imputation</td>\n",
       "      <td id=\"T_9c251_row11_col1\" class=\"data row11 col1\" >mean</td>\n",
       "    </tr>\n",
       "    <tr>\n",
       "      <th id=\"T_9c251_level0_row12\" class=\"row_heading level0 row12\" >12</th>\n",
       "      <td id=\"T_9c251_row12_col0\" class=\"data row12 col0\" >Categorical imputation</td>\n",
       "      <td id=\"T_9c251_row12_col1\" class=\"data row12 col1\" >mode</td>\n",
       "    </tr>\n",
       "    <tr>\n",
       "      <th id=\"T_9c251_level0_row13\" class=\"row_heading level0 row13\" >13</th>\n",
       "      <td id=\"T_9c251_row13_col0\" class=\"data row13 col0\" >Fold Generator</td>\n",
       "      <td id=\"T_9c251_row13_col1\" class=\"data row13 col1\" >StratifiedKFold</td>\n",
       "    </tr>\n",
       "    <tr>\n",
       "      <th id=\"T_9c251_level0_row14\" class=\"row_heading level0 row14\" >14</th>\n",
       "      <td id=\"T_9c251_row14_col0\" class=\"data row14 col0\" >Fold Number</td>\n",
       "      <td id=\"T_9c251_row14_col1\" class=\"data row14 col1\" >10</td>\n",
       "    </tr>\n",
       "    <tr>\n",
       "      <th id=\"T_9c251_level0_row15\" class=\"row_heading level0 row15\" >15</th>\n",
       "      <td id=\"T_9c251_row15_col0\" class=\"data row15 col0\" >CPU Jobs</td>\n",
       "      <td id=\"T_9c251_row15_col1\" class=\"data row15 col1\" >-1</td>\n",
       "    </tr>\n",
       "    <tr>\n",
       "      <th id=\"T_9c251_level0_row16\" class=\"row_heading level0 row16\" >16</th>\n",
       "      <td id=\"T_9c251_row16_col0\" class=\"data row16 col0\" >Use GPU</td>\n",
       "      <td id=\"T_9c251_row16_col1\" class=\"data row16 col1\" >False</td>\n",
       "    </tr>\n",
       "    <tr>\n",
       "      <th id=\"T_9c251_level0_row17\" class=\"row_heading level0 row17\" >17</th>\n",
       "      <td id=\"T_9c251_row17_col0\" class=\"data row17 col0\" >Log Experiment</td>\n",
       "      <td id=\"T_9c251_row17_col1\" class=\"data row17 col1\" >False</td>\n",
       "    </tr>\n",
       "    <tr>\n",
       "      <th id=\"T_9c251_level0_row18\" class=\"row_heading level0 row18\" >18</th>\n",
       "      <td id=\"T_9c251_row18_col0\" class=\"data row18 col0\" >Experiment Name</td>\n",
       "      <td id=\"T_9c251_row18_col1\" class=\"data row18 col1\" >clf-default-name</td>\n",
       "    </tr>\n",
       "    <tr>\n",
       "      <th id=\"T_9c251_level0_row19\" class=\"row_heading level0 row19\" >19</th>\n",
       "      <td id=\"T_9c251_row19_col0\" class=\"data row19 col0\" >USI</td>\n",
       "      <td id=\"T_9c251_row19_col1\" class=\"data row19 col1\" >1c2a</td>\n",
       "    </tr>\n",
       "  </tbody>\n",
       "</table>\n"
      ],
      "text/plain": [
       "<pandas.io.formats.style.Styler at 0x7f44720fc100>"
      ]
     },
     "metadata": {},
     "output_type": "display_data"
    }
   ],
   "source": [
    "from pycaret.classification import setup, compare_models\n",
    "\n",
    "# Setting up PyCaret for classification\n",
    "clf_setup = setup(data=train, \n",
    "                  target='culture_name', train_size=0.9)"
   ]
  },
  {
   "cell_type": "code",
   "execution_count": 112,
   "metadata": {},
   "outputs": [
    {
     "data": {
      "text/plain": [
       "list"
      ]
     },
     "execution_count": 112,
     "metadata": {},
     "output_type": "execute_result"
    }
   ],
   "source": []
  },
  {
   "cell_type": "code",
   "execution_count": 119,
   "metadata": {},
   "outputs": [
    {
     "data": {
      "text/html": [],
      "text/plain": [
       "<IPython.core.display.HTML object>"
      ]
     },
     "metadata": {},
     "output_type": "display_data"
    },
    {
     "data": {
      "text/html": [
       "<style type=\"text/css\">\n",
       "#T_98266_row10_col0, #T_98266_row10_col1, #T_98266_row10_col2, #T_98266_row10_col3, #T_98266_row10_col4, #T_98266_row10_col5, #T_98266_row10_col6 {\n",
       "  background: yellow;\n",
       "}\n",
       "</style>\n",
       "<table id=\"T_98266\">\n",
       "  <thead>\n",
       "    <tr>\n",
       "      <th class=\"blank level0\" >&nbsp;</th>\n",
       "      <th id=\"T_98266_level0_col0\" class=\"col_heading level0 col0\" >Accuracy</th>\n",
       "      <th id=\"T_98266_level0_col1\" class=\"col_heading level0 col1\" >AUC</th>\n",
       "      <th id=\"T_98266_level0_col2\" class=\"col_heading level0 col2\" >Recall</th>\n",
       "      <th id=\"T_98266_level0_col3\" class=\"col_heading level0 col3\" >Prec.</th>\n",
       "      <th id=\"T_98266_level0_col4\" class=\"col_heading level0 col4\" >F1</th>\n",
       "      <th id=\"T_98266_level0_col5\" class=\"col_heading level0 col5\" >Kappa</th>\n",
       "      <th id=\"T_98266_level0_col6\" class=\"col_heading level0 col6\" >MCC</th>\n",
       "    </tr>\n",
       "    <tr>\n",
       "      <th class=\"index_name level0\" >Fold</th>\n",
       "      <th class=\"blank col0\" >&nbsp;</th>\n",
       "      <th class=\"blank col1\" >&nbsp;</th>\n",
       "      <th class=\"blank col2\" >&nbsp;</th>\n",
       "      <th class=\"blank col3\" >&nbsp;</th>\n",
       "      <th class=\"blank col4\" >&nbsp;</th>\n",
       "      <th class=\"blank col5\" >&nbsp;</th>\n",
       "      <th class=\"blank col6\" >&nbsp;</th>\n",
       "    </tr>\n",
       "  </thead>\n",
       "  <tbody>\n",
       "    <tr>\n",
       "      <th id=\"T_98266_level0_row0\" class=\"row_heading level0 row0\" >0</th>\n",
       "      <td id=\"T_98266_row0_col0\" class=\"data row0 col0\" >0.7288</td>\n",
       "      <td id=\"T_98266_row0_col1\" class=\"data row0 col1\" >0.9347</td>\n",
       "      <td id=\"T_98266_row0_col2\" class=\"data row0 col2\" >0.7288</td>\n",
       "      <td id=\"T_98266_row0_col3\" class=\"data row0 col3\" >0.7287</td>\n",
       "      <td id=\"T_98266_row0_col4\" class=\"data row0 col4\" >0.7231</td>\n",
       "      <td id=\"T_98266_row0_col5\" class=\"data row0 col5\" >0.6808</td>\n",
       "      <td id=\"T_98266_row0_col6\" class=\"data row0 col6\" >0.6828</td>\n",
       "    </tr>\n",
       "    <tr>\n",
       "      <th id=\"T_98266_level0_row1\" class=\"row_heading level0 row1\" >1</th>\n",
       "      <td id=\"T_98266_row1_col0\" class=\"data row1 col0\" >0.6441</td>\n",
       "      <td id=\"T_98266_row1_col1\" class=\"data row1 col1\" >0.9307</td>\n",
       "      <td id=\"T_98266_row1_col2\" class=\"data row1 col2\" >0.6441</td>\n",
       "      <td id=\"T_98266_row1_col3\" class=\"data row1 col3\" >0.6475</td>\n",
       "      <td id=\"T_98266_row1_col4\" class=\"data row1 col4\" >0.6407</td>\n",
       "      <td id=\"T_98266_row1_col5\" class=\"data row1 col5\" >0.5816</td>\n",
       "      <td id=\"T_98266_row1_col6\" class=\"data row1 col6\" >0.5831</td>\n",
       "    </tr>\n",
       "    <tr>\n",
       "      <th id=\"T_98266_level0_row2\" class=\"row_heading level0 row2\" >2</th>\n",
       "      <td id=\"T_98266_row2_col0\" class=\"data row2 col0\" >0.6441</td>\n",
       "      <td id=\"T_98266_row2_col1\" class=\"data row2 col1\" >0.9358</td>\n",
       "      <td id=\"T_98266_row2_col2\" class=\"data row2 col2\" >0.6441</td>\n",
       "      <td id=\"T_98266_row2_col3\" class=\"data row2 col3\" >0.6471</td>\n",
       "      <td id=\"T_98266_row2_col4\" class=\"data row2 col4\" >0.6400</td>\n",
       "      <td id=\"T_98266_row2_col5\" class=\"data row2 col5\" >0.5806</td>\n",
       "      <td id=\"T_98266_row2_col6\" class=\"data row2 col6\" >0.5824</td>\n",
       "    </tr>\n",
       "    <tr>\n",
       "      <th id=\"T_98266_level0_row3\" class=\"row_heading level0 row3\" >3</th>\n",
       "      <td id=\"T_98266_row3_col0\" class=\"data row3 col0\" >0.7119</td>\n",
       "      <td id=\"T_98266_row3_col1\" class=\"data row3 col1\" >0.9388</td>\n",
       "      <td id=\"T_98266_row3_col2\" class=\"data row3 col2\" >0.7119</td>\n",
       "      <td id=\"T_98266_row3_col3\" class=\"data row3 col3\" >0.7153</td>\n",
       "      <td id=\"T_98266_row3_col4\" class=\"data row3 col4\" >0.7020</td>\n",
       "      <td id=\"T_98266_row3_col5\" class=\"data row3 col5\" >0.6616</td>\n",
       "      <td id=\"T_98266_row3_col6\" class=\"data row3 col6\" >0.6661</td>\n",
       "    </tr>\n",
       "    <tr>\n",
       "      <th id=\"T_98266_level0_row4\" class=\"row_heading level0 row4\" >4</th>\n",
       "      <td id=\"T_98266_row4_col0\" class=\"data row4 col0\" >0.5932</td>\n",
       "      <td id=\"T_98266_row4_col1\" class=\"data row4 col1\" >0.9193</td>\n",
       "      <td id=\"T_98266_row4_col2\" class=\"data row4 col2\" >0.5932</td>\n",
       "      <td id=\"T_98266_row4_col3\" class=\"data row4 col3\" >0.5848</td>\n",
       "      <td id=\"T_98266_row4_col4\" class=\"data row4 col4\" >0.5868</td>\n",
       "      <td id=\"T_98266_row4_col5\" class=\"data row4 col5\" >0.5213</td>\n",
       "      <td id=\"T_98266_row4_col6\" class=\"data row4 col6\" >0.5220</td>\n",
       "    </tr>\n",
       "    <tr>\n",
       "      <th id=\"T_98266_level0_row5\" class=\"row_heading level0 row5\" >5</th>\n",
       "      <td id=\"T_98266_row5_col0\" class=\"data row5 col0\" >0.6724</td>\n",
       "      <td id=\"T_98266_row5_col1\" class=\"data row5 col1\" >0.9396</td>\n",
       "      <td id=\"T_98266_row5_col2\" class=\"data row5 col2\" >0.6724</td>\n",
       "      <td id=\"T_98266_row5_col3\" class=\"data row5 col3\" >0.6478</td>\n",
       "      <td id=\"T_98266_row5_col4\" class=\"data row5 col4\" >0.6544</td>\n",
       "      <td id=\"T_98266_row5_col5\" class=\"data row5 col5\" >0.6127</td>\n",
       "      <td id=\"T_98266_row5_col6\" class=\"data row5 col6\" >0.6157</td>\n",
       "    </tr>\n",
       "    <tr>\n",
       "      <th id=\"T_98266_level0_row6\" class=\"row_heading level0 row6\" >6</th>\n",
       "      <td id=\"T_98266_row6_col0\" class=\"data row6 col0\" >0.6897</td>\n",
       "      <td id=\"T_98266_row6_col1\" class=\"data row6 col1\" >0.9413</td>\n",
       "      <td id=\"T_98266_row6_col2\" class=\"data row6 col2\" >0.6897</td>\n",
       "      <td id=\"T_98266_row6_col3\" class=\"data row6 col3\" >0.7100</td>\n",
       "      <td id=\"T_98266_row6_col4\" class=\"data row6 col4\" >0.6832</td>\n",
       "      <td id=\"T_98266_row6_col5\" class=\"data row6 col5\" >0.6352</td>\n",
       "      <td id=\"T_98266_row6_col6\" class=\"data row6 col6\" >0.6411</td>\n",
       "    </tr>\n",
       "    <tr>\n",
       "      <th id=\"T_98266_level0_row7\" class=\"row_heading level0 row7\" >7</th>\n",
       "      <td id=\"T_98266_row7_col0\" class=\"data row7 col0\" >0.6379</td>\n",
       "      <td id=\"T_98266_row7_col1\" class=\"data row7 col1\" >0.9146</td>\n",
       "      <td id=\"T_98266_row7_col2\" class=\"data row7 col2\" >0.6379</td>\n",
       "      <td id=\"T_98266_row7_col3\" class=\"data row7 col3\" >0.6349</td>\n",
       "      <td id=\"T_98266_row7_col4\" class=\"data row7 col4\" >0.6238</td>\n",
       "      <td id=\"T_98266_row7_col5\" class=\"data row7 col5\" >0.5714</td>\n",
       "      <td id=\"T_98266_row7_col6\" class=\"data row7 col6\" >0.5755</td>\n",
       "    </tr>\n",
       "    <tr>\n",
       "      <th id=\"T_98266_level0_row8\" class=\"row_heading level0 row8\" >8</th>\n",
       "      <td id=\"T_98266_row8_col0\" class=\"data row8 col0\" >0.5862</td>\n",
       "      <td id=\"T_98266_row8_col1\" class=\"data row8 col1\" >0.8988</td>\n",
       "      <td id=\"T_98266_row8_col2\" class=\"data row8 col2\" >0.5862</td>\n",
       "      <td id=\"T_98266_row8_col3\" class=\"data row8 col3\" >0.5785</td>\n",
       "      <td id=\"T_98266_row8_col4\" class=\"data row8 col4\" >0.5786</td>\n",
       "      <td id=\"T_98266_row8_col5\" class=\"data row8 col5\" >0.5121</td>\n",
       "      <td id=\"T_98266_row8_col6\" class=\"data row8 col6\" >0.5134</td>\n",
       "    </tr>\n",
       "    <tr>\n",
       "      <th id=\"T_98266_level0_row9\" class=\"row_heading level0 row9\" >9</th>\n",
       "      <td id=\"T_98266_row9_col0\" class=\"data row9 col0\" >0.6724</td>\n",
       "      <td id=\"T_98266_row9_col1\" class=\"data row9 col1\" >0.9252</td>\n",
       "      <td id=\"T_98266_row9_col2\" class=\"data row9 col2\" >0.6724</td>\n",
       "      <td id=\"T_98266_row9_col3\" class=\"data row9 col3\" >0.6894</td>\n",
       "      <td id=\"T_98266_row9_col4\" class=\"data row9 col4\" >0.6736</td>\n",
       "      <td id=\"T_98266_row9_col5\" class=\"data row9 col5\" >0.6160</td>\n",
       "      <td id=\"T_98266_row9_col6\" class=\"data row9 col6\" >0.6182</td>\n",
       "    </tr>\n",
       "    <tr>\n",
       "      <th id=\"T_98266_level0_row10\" class=\"row_heading level0 row10\" >Mean</th>\n",
       "      <td id=\"T_98266_row10_col0\" class=\"data row10 col0\" >0.6581</td>\n",
       "      <td id=\"T_98266_row10_col1\" class=\"data row10 col1\" >0.9279</td>\n",
       "      <td id=\"T_98266_row10_col2\" class=\"data row10 col2\" >0.6581</td>\n",
       "      <td id=\"T_98266_row10_col3\" class=\"data row10 col3\" >0.6584</td>\n",
       "      <td id=\"T_98266_row10_col4\" class=\"data row10 col4\" >0.6506</td>\n",
       "      <td id=\"T_98266_row10_col5\" class=\"data row10 col5\" >0.5973</td>\n",
       "      <td id=\"T_98266_row10_col6\" class=\"data row10 col6\" >0.6000</td>\n",
       "    </tr>\n",
       "    <tr>\n",
       "      <th id=\"T_98266_level0_row11\" class=\"row_heading level0 row11\" >Std</th>\n",
       "      <td id=\"T_98266_row11_col0\" class=\"data row11 col0\" >0.0441</td>\n",
       "      <td id=\"T_98266_row11_col1\" class=\"data row11 col1\" >0.0129</td>\n",
       "      <td id=\"T_98266_row11_col2\" class=\"data row11 col2\" >0.0441</td>\n",
       "      <td id=\"T_98266_row11_col3\" class=\"data row11 col3\" >0.0495</td>\n",
       "      <td id=\"T_98266_row11_col4\" class=\"data row11 col4\" >0.0444</td>\n",
       "      <td id=\"T_98266_row11_col5\" class=\"data row11 col5\" >0.0523</td>\n",
       "      <td id=\"T_98266_row11_col6\" class=\"data row11 col6\" >0.0532</td>\n",
       "    </tr>\n",
       "  </tbody>\n",
       "</table>\n"
      ],
      "text/plain": [
       "<pandas.io.formats.style.Styler at 0x7f4472f5af80>"
      ]
     },
     "metadata": {},
     "output_type": "display_data"
    },
    {
     "data": {
      "text/html": [],
      "text/plain": [
       "<IPython.core.display.HTML object>"
      ]
     },
     "metadata": {},
     "output_type": "display_data"
    }
   ],
   "source": [
    "rf = create_model('gbc')"
   ]
  },
  {
   "cell_type": "code",
   "execution_count": 120,
   "metadata": {},
   "outputs": [
    {
     "data": {
      "text/html": [],
      "text/plain": [
       "<IPython.core.display.HTML object>"
      ]
     },
     "metadata": {},
     "output_type": "display_data"
    },
    {
     "data": {
      "text/html": [
       "<style type=\"text/css\">\n",
       "#T_b40c8_row10_col0, #T_b40c8_row10_col1, #T_b40c8_row10_col2, #T_b40c8_row10_col3, #T_b40c8_row10_col4, #T_b40c8_row10_col5, #T_b40c8_row10_col6 {\n",
       "  background: yellow;\n",
       "}\n",
       "</style>\n",
       "<table id=\"T_b40c8\">\n",
       "  <thead>\n",
       "    <tr>\n",
       "      <th class=\"blank level0\" >&nbsp;</th>\n",
       "      <th id=\"T_b40c8_level0_col0\" class=\"col_heading level0 col0\" >Accuracy</th>\n",
       "      <th id=\"T_b40c8_level0_col1\" class=\"col_heading level0 col1\" >AUC</th>\n",
       "      <th id=\"T_b40c8_level0_col2\" class=\"col_heading level0 col2\" >Recall</th>\n",
       "      <th id=\"T_b40c8_level0_col3\" class=\"col_heading level0 col3\" >Prec.</th>\n",
       "      <th id=\"T_b40c8_level0_col4\" class=\"col_heading level0 col4\" >F1</th>\n",
       "      <th id=\"T_b40c8_level0_col5\" class=\"col_heading level0 col5\" >Kappa</th>\n",
       "      <th id=\"T_b40c8_level0_col6\" class=\"col_heading level0 col6\" >MCC</th>\n",
       "    </tr>\n",
       "    <tr>\n",
       "      <th class=\"index_name level0\" >Fold</th>\n",
       "      <th class=\"blank col0\" >&nbsp;</th>\n",
       "      <th class=\"blank col1\" >&nbsp;</th>\n",
       "      <th class=\"blank col2\" >&nbsp;</th>\n",
       "      <th class=\"blank col3\" >&nbsp;</th>\n",
       "      <th class=\"blank col4\" >&nbsp;</th>\n",
       "      <th class=\"blank col5\" >&nbsp;</th>\n",
       "      <th class=\"blank col6\" >&nbsp;</th>\n",
       "    </tr>\n",
       "  </thead>\n",
       "  <tbody>\n",
       "    <tr>\n",
       "      <th id=\"T_b40c8_level0_row0\" class=\"row_heading level0 row0\" >0</th>\n",
       "      <td id=\"T_b40c8_row0_col0\" class=\"data row0 col0\" >0.7458</td>\n",
       "      <td id=\"T_b40c8_row0_col1\" class=\"data row0 col1\" >0.9102</td>\n",
       "      <td id=\"T_b40c8_row0_col2\" class=\"data row0 col2\" >0.7458</td>\n",
       "      <td id=\"T_b40c8_row0_col3\" class=\"data row0 col3\" >0.7610</td>\n",
       "      <td id=\"T_b40c8_row0_col4\" class=\"data row0 col4\" >0.7276</td>\n",
       "      <td id=\"T_b40c8_row0_col5\" class=\"data row0 col5\" >0.6994</td>\n",
       "      <td id=\"T_b40c8_row0_col6\" class=\"data row0 col6\" >0.7025</td>\n",
       "    </tr>\n",
       "    <tr>\n",
       "      <th id=\"T_b40c8_level0_row1\" class=\"row_heading level0 row1\" >1</th>\n",
       "      <td id=\"T_b40c8_row1_col0\" class=\"data row1 col0\" >0.7119</td>\n",
       "      <td id=\"T_b40c8_row1_col1\" class=\"data row1 col1\" >0.9491</td>\n",
       "      <td id=\"T_b40c8_row1_col2\" class=\"data row1 col2\" >0.7119</td>\n",
       "      <td id=\"T_b40c8_row1_col3\" class=\"data row1 col3\" >0.7103</td>\n",
       "      <td id=\"T_b40c8_row1_col4\" class=\"data row1 col4\" >0.7065</td>\n",
       "      <td id=\"T_b40c8_row1_col5\" class=\"data row1 col5\" >0.6608</td>\n",
       "      <td id=\"T_b40c8_row1_col6\" class=\"data row1 col6\" >0.6622</td>\n",
       "    </tr>\n",
       "    <tr>\n",
       "      <th id=\"T_b40c8_level0_row2\" class=\"row_heading level0 row2\" >2</th>\n",
       "      <td id=\"T_b40c8_row2_col0\" class=\"data row2 col0\" >0.6441</td>\n",
       "      <td id=\"T_b40c8_row2_col1\" class=\"data row2 col1\" >0.9424</td>\n",
       "      <td id=\"T_b40c8_row2_col2\" class=\"data row2 col2\" >0.6441</td>\n",
       "      <td id=\"T_b40c8_row2_col3\" class=\"data row2 col3\" >0.6259</td>\n",
       "      <td id=\"T_b40c8_row2_col4\" class=\"data row2 col4\" >0.6197</td>\n",
       "      <td id=\"T_b40c8_row2_col5\" class=\"data row2 col5\" >0.5803</td>\n",
       "      <td id=\"T_b40c8_row2_col6\" class=\"data row2 col6\" >0.5841</td>\n",
       "    </tr>\n",
       "    <tr>\n",
       "      <th id=\"T_b40c8_level0_row3\" class=\"row_heading level0 row3\" >3</th>\n",
       "      <td id=\"T_b40c8_row3_col0\" class=\"data row3 col0\" >0.7797</td>\n",
       "      <td id=\"T_b40c8_row3_col1\" class=\"data row3 col1\" >0.9404</td>\n",
       "      <td id=\"T_b40c8_row3_col2\" class=\"data row3 col2\" >0.7797</td>\n",
       "      <td id=\"T_b40c8_row3_col3\" class=\"data row3 col3\" >0.7942</td>\n",
       "      <td id=\"T_b40c8_row3_col4\" class=\"data row3 col4\" >0.7673</td>\n",
       "      <td id=\"T_b40c8_row3_col5\" class=\"data row3 col5\" >0.7412</td>\n",
       "      <td id=\"T_b40c8_row3_col6\" class=\"data row3 col6\" >0.7476</td>\n",
       "    </tr>\n",
       "    <tr>\n",
       "      <th id=\"T_b40c8_level0_row4\" class=\"row_heading level0 row4\" >4</th>\n",
       "      <td id=\"T_b40c8_row4_col0\" class=\"data row4 col0\" >0.6610</td>\n",
       "      <td id=\"T_b40c8_row4_col1\" class=\"data row4 col1\" >0.9380</td>\n",
       "      <td id=\"T_b40c8_row4_col2\" class=\"data row4 col2\" >0.6610</td>\n",
       "      <td id=\"T_b40c8_row4_col3\" class=\"data row4 col3\" >0.6610</td>\n",
       "      <td id=\"T_b40c8_row4_col4\" class=\"data row4 col4\" >0.6539</td>\n",
       "      <td id=\"T_b40c8_row4_col5\" class=\"data row4 col5\" >0.6009</td>\n",
       "      <td id=\"T_b40c8_row4_col6\" class=\"data row4 col6\" >0.6032</td>\n",
       "    </tr>\n",
       "    <tr>\n",
       "      <th id=\"T_b40c8_level0_row5\" class=\"row_heading level0 row5\" >5</th>\n",
       "      <td id=\"T_b40c8_row5_col0\" class=\"data row5 col0\" >0.7759</td>\n",
       "      <td id=\"T_b40c8_row5_col1\" class=\"data row5 col1\" >0.9288</td>\n",
       "      <td id=\"T_b40c8_row5_col2\" class=\"data row5 col2\" >0.7759</td>\n",
       "      <td id=\"T_b40c8_row5_col3\" class=\"data row5 col3\" >0.7786</td>\n",
       "      <td id=\"T_b40c8_row5_col4\" class=\"data row5 col4\" >0.7591</td>\n",
       "      <td id=\"T_b40c8_row5_col5\" class=\"data row5 col5\" >0.7339</td>\n",
       "      <td id=\"T_b40c8_row5_col6\" class=\"data row5 col6\" >0.7382</td>\n",
       "    </tr>\n",
       "    <tr>\n",
       "      <th id=\"T_b40c8_level0_row6\" class=\"row_heading level0 row6\" >6</th>\n",
       "      <td id=\"T_b40c8_row6_col0\" class=\"data row6 col0\" >0.7586</td>\n",
       "      <td id=\"T_b40c8_row6_col1\" class=\"data row6 col1\" >0.9538</td>\n",
       "      <td id=\"T_b40c8_row6_col2\" class=\"data row6 col2\" >0.7586</td>\n",
       "      <td id=\"T_b40c8_row6_col3\" class=\"data row6 col3\" >0.7654</td>\n",
       "      <td id=\"T_b40c8_row6_col4\" class=\"data row6 col4\" >0.7516</td>\n",
       "      <td id=\"T_b40c8_row6_col5\" class=\"data row6 col5\" >0.7156</td>\n",
       "      <td id=\"T_b40c8_row6_col6\" class=\"data row6 col6\" >0.7186</td>\n",
       "    </tr>\n",
       "    <tr>\n",
       "      <th id=\"T_b40c8_level0_row7\" class=\"row_heading level0 row7\" >7</th>\n",
       "      <td id=\"T_b40c8_row7_col0\" class=\"data row7 col0\" >0.7241</td>\n",
       "      <td id=\"T_b40c8_row7_col1\" class=\"data row7 col1\" >0.9401</td>\n",
       "      <td id=\"T_b40c8_row7_col2\" class=\"data row7 col2\" >0.7241</td>\n",
       "      <td id=\"T_b40c8_row7_col3\" class=\"data row7 col3\" >0.7088</td>\n",
       "      <td id=\"T_b40c8_row7_col4\" class=\"data row7 col4\" >0.7147</td>\n",
       "      <td id=\"T_b40c8_row7_col5\" class=\"data row7 col5\" >0.6747</td>\n",
       "      <td id=\"T_b40c8_row7_col6\" class=\"data row7 col6\" >0.6759</td>\n",
       "    </tr>\n",
       "    <tr>\n",
       "      <th id=\"T_b40c8_level0_row8\" class=\"row_heading level0 row8\" >8</th>\n",
       "      <td id=\"T_b40c8_row8_col0\" class=\"data row8 col0\" >0.6379</td>\n",
       "      <td id=\"T_b40c8_row8_col1\" class=\"data row8 col1\" >0.9213</td>\n",
       "      <td id=\"T_b40c8_row8_col2\" class=\"data row8 col2\" >0.6379</td>\n",
       "      <td id=\"T_b40c8_row8_col3\" class=\"data row8 col3\" >0.6464</td>\n",
       "      <td id=\"T_b40c8_row8_col4\" class=\"data row8 col4\" >0.6370</td>\n",
       "      <td id=\"T_b40c8_row8_col5\" class=\"data row8 col5\" >0.5741</td>\n",
       "      <td id=\"T_b40c8_row8_col6\" class=\"data row8 col6\" >0.5761</td>\n",
       "    </tr>\n",
       "    <tr>\n",
       "      <th id=\"T_b40c8_level0_row9\" class=\"row_heading level0 row9\" >9</th>\n",
       "      <td id=\"T_b40c8_row9_col0\" class=\"data row9 col0\" >0.7931</td>\n",
       "      <td id=\"T_b40c8_row9_col1\" class=\"data row9 col1\" >0.9586</td>\n",
       "      <td id=\"T_b40c8_row9_col2\" class=\"data row9 col2\" >0.7931</td>\n",
       "      <td id=\"T_b40c8_row9_col3\" class=\"data row9 col3\" >0.8091</td>\n",
       "      <td id=\"T_b40c8_row9_col4\" class=\"data row9 col4\" >0.7944</td>\n",
       "      <td id=\"T_b40c8_row9_col5\" class=\"data row9 col5\" >0.7566</td>\n",
       "      <td id=\"T_b40c8_row9_col6\" class=\"data row9 col6\" >0.7587</td>\n",
       "    </tr>\n",
       "    <tr>\n",
       "      <th id=\"T_b40c8_level0_row10\" class=\"row_heading level0 row10\" >Mean</th>\n",
       "      <td id=\"T_b40c8_row10_col0\" class=\"data row10 col0\" >0.7232</td>\n",
       "      <td id=\"T_b40c8_row10_col1\" class=\"data row10 col1\" >0.9383</td>\n",
       "      <td id=\"T_b40c8_row10_col2\" class=\"data row10 col2\" >0.7232</td>\n",
       "      <td id=\"T_b40c8_row10_col3\" class=\"data row10 col3\" >0.7261</td>\n",
       "      <td id=\"T_b40c8_row10_col4\" class=\"data row10 col4\" >0.7132</td>\n",
       "      <td id=\"T_b40c8_row10_col5\" class=\"data row10 col5\" >0.6738</td>\n",
       "      <td id=\"T_b40c8_row10_col6\" class=\"data row10 col6\" >0.6767</td>\n",
       "    </tr>\n",
       "    <tr>\n",
       "      <th id=\"T_b40c8_level0_row11\" class=\"row_heading level0 row11\" >Std</th>\n",
       "      <td id=\"T_b40c8_row11_col0\" class=\"data row11 col0\" >0.0549</td>\n",
       "      <td id=\"T_b40c8_row11_col1\" class=\"data row11 col1\" >0.0140</td>\n",
       "      <td id=\"T_b40c8_row11_col2\" class=\"data row11 col2\" >0.0549</td>\n",
       "      <td id=\"T_b40c8_row11_col3\" class=\"data row11 col3\" >0.0618</td>\n",
       "      <td id=\"T_b40c8_row11_col4\" class=\"data row11 col4\" >0.0561</td>\n",
       "      <td id=\"T_b40c8_row11_col5\" class=\"data row11 col5\" >0.0645</td>\n",
       "      <td id=\"T_b40c8_row11_col6\" class=\"data row11 col6\" >0.0650</td>\n",
       "    </tr>\n",
       "  </tbody>\n",
       "</table>\n"
      ],
      "text/plain": [
       "<pandas.io.formats.style.Styler at 0x7f4473f6fd00>"
      ]
     },
     "metadata": {},
     "output_type": "display_data"
    },
    {
     "data": {
      "text/html": [],
      "text/plain": [
       "<IPython.core.display.HTML object>"
      ]
     },
     "metadata": {},
     "output_type": "display_data"
    },
    {
     "name": "stdout",
     "output_type": "stream",
     "text": [
      "Fitting 10 folds for each of 10 candidates, totalling 100 fits\n"
     ]
    }
   ],
   "source": [
    "rf_t = tune_model(rf)"
   ]
  },
  {
   "cell_type": "code",
   "execution_count": 122,
   "metadata": {},
   "outputs": [],
   "source": [
    "f_rf = finalize_model(rf_t)"
   ]
  },
  {
   "cell_type": "code",
   "execution_count": 123,
   "metadata": {},
   "outputs": [
    {
     "data": {
      "text/html": [
       "<style type=\"text/css\">\n",
       "</style>\n",
       "<table id=\"T_b9359\">\n",
       "  <thead>\n",
       "    <tr>\n",
       "      <th class=\"blank level0\" >&nbsp;</th>\n",
       "      <th id=\"T_b9359_level0_col0\" class=\"col_heading level0 col0\" >Model</th>\n",
       "      <th id=\"T_b9359_level0_col1\" class=\"col_heading level0 col1\" >Accuracy</th>\n",
       "      <th id=\"T_b9359_level0_col2\" class=\"col_heading level0 col2\" >AUC</th>\n",
       "      <th id=\"T_b9359_level0_col3\" class=\"col_heading level0 col3\" >Recall</th>\n",
       "      <th id=\"T_b9359_level0_col4\" class=\"col_heading level0 col4\" >Prec.</th>\n",
       "      <th id=\"T_b9359_level0_col5\" class=\"col_heading level0 col5\" >F1</th>\n",
       "      <th id=\"T_b9359_level0_col6\" class=\"col_heading level0 col6\" >Kappa</th>\n",
       "      <th id=\"T_b9359_level0_col7\" class=\"col_heading level0 col7\" >MCC</th>\n",
       "    </tr>\n",
       "  </thead>\n",
       "  <tbody>\n",
       "    <tr>\n",
       "      <th id=\"T_b9359_level0_row0\" class=\"row_heading level0 row0\" >0</th>\n",
       "      <td id=\"T_b9359_row0_col0\" class=\"data row0 col0\" >Gradient Boosting Classifier</td>\n",
       "      <td id=\"T_b9359_row0_col1\" class=\"data row0 col1\" >1.0000</td>\n",
       "      <td id=\"T_b9359_row0_col2\" class=\"data row0 col2\" >1.0000</td>\n",
       "      <td id=\"T_b9359_row0_col3\" class=\"data row0 col3\" >1.0000</td>\n",
       "      <td id=\"T_b9359_row0_col4\" class=\"data row0 col4\" >1.0000</td>\n",
       "      <td id=\"T_b9359_row0_col5\" class=\"data row0 col5\" >1.0000</td>\n",
       "      <td id=\"T_b9359_row0_col6\" class=\"data row0 col6\" >1.0000</td>\n",
       "      <td id=\"T_b9359_row0_col7\" class=\"data row0 col7\" >1.0000</td>\n",
       "    </tr>\n",
       "  </tbody>\n",
       "</table>\n"
      ],
      "text/plain": [
       "<pandas.io.formats.style.Styler at 0x7f447218b4f0>"
      ]
     },
     "metadata": {},
     "output_type": "display_data"
    },
    {
     "data": {
      "text/html": [
       "<div>\n",
       "<style scoped>\n",
       "    .dataframe tbody tr th:only-of-type {\n",
       "        vertical-align: middle;\n",
       "    }\n",
       "\n",
       "    .dataframe tbody tr th {\n",
       "        vertical-align: top;\n",
       "    }\n",
       "\n",
       "    .dataframe thead th {\n",
       "        text-align: right;\n",
       "    }\n",
       "</style>\n",
       "<table border=\"1\" class=\"dataframe\">\n",
       "  <thead>\n",
       "    <tr style=\"text-align: right;\">\n",
       "      <th></th>\n",
       "      <th>index_month_4</th>\n",
       "      <th>index_month_5</th>\n",
       "      <th>index_month_6</th>\n",
       "      <th>index_month_7</th>\n",
       "      <th>index_month_8</th>\n",
       "      <th>elevation</th>\n",
       "      <th>culture_name</th>\n",
       "      <th>prediction_label</th>\n",
       "      <th>prediction_score</th>\n",
       "    </tr>\n",
       "  </thead>\n",
       "  <tbody>\n",
       "    <tr>\n",
       "      <th>175</th>\n",
       "      <td>0.038000</td>\n",
       "      <td>0.605000</td>\n",
       "      <td>0.397000</td>\n",
       "      <td>0.183000</td>\n",
       "      <td>-0.109000</td>\n",
       "      <td>726</td>\n",
       "      <td>2</td>\n",
       "      <td>2</td>\n",
       "      <td>0.9874</td>\n",
       "    </tr>\n",
       "    <tr>\n",
       "      <th>569</th>\n",
       "      <td>0.299183</td>\n",
       "      <td>0.354904</td>\n",
       "      <td>0.281527</td>\n",
       "      <td>0.233069</td>\n",
       "      <td>0.152822</td>\n",
       "      <td>621</td>\n",
       "      <td>6</td>\n",
       "      <td>6</td>\n",
       "      <td>0.9943</td>\n",
       "    </tr>\n",
       "    <tr>\n",
       "      <th>515</th>\n",
       "      <td>-0.052580</td>\n",
       "      <td>0.193648</td>\n",
       "      <td>0.022953</td>\n",
       "      <td>0.080164</td>\n",
       "      <td>0.615062</td>\n",
       "      <td>644</td>\n",
       "      <td>4</td>\n",
       "      <td>4</td>\n",
       "      <td>0.9973</td>\n",
       "    </tr>\n",
       "    <tr>\n",
       "      <th>194</th>\n",
       "      <td>-0.105000</td>\n",
       "      <td>-0.128000</td>\n",
       "      <td>0.166000</td>\n",
       "      <td>0.020000</td>\n",
       "      <td>-0.305000</td>\n",
       "      <td>754</td>\n",
       "      <td>9</td>\n",
       "      <td>9</td>\n",
       "      <td>0.9692</td>\n",
       "    </tr>\n",
       "    <tr>\n",
       "      <th>298</th>\n",
       "      <td>-0.034000</td>\n",
       "      <td>0.056000</td>\n",
       "      <td>0.205000</td>\n",
       "      <td>0.086000</td>\n",
       "      <td>0.060000</td>\n",
       "      <td>1094</td>\n",
       "      <td>2</td>\n",
       "      <td>2</td>\n",
       "      <td>0.9669</td>\n",
       "    </tr>\n",
       "    <tr>\n",
       "      <th>...</th>\n",
       "      <td>...</td>\n",
       "      <td>...</td>\n",
       "      <td>...</td>\n",
       "      <td>...</td>\n",
       "      <td>...</td>\n",
       "      <td>...</td>\n",
       "      <td>...</td>\n",
       "      <td>...</td>\n",
       "      <td>...</td>\n",
       "    </tr>\n",
       "    <tr>\n",
       "      <th>459</th>\n",
       "      <td>-0.027718</td>\n",
       "      <td>0.294340</td>\n",
       "      <td>0.182359</td>\n",
       "      <td>-0.114307</td>\n",
       "      <td>0.201666</td>\n",
       "      <td>630</td>\n",
       "      <td>3</td>\n",
       "      <td>3</td>\n",
       "      <td>0.9836</td>\n",
       "    </tr>\n",
       "    <tr>\n",
       "      <th>4</th>\n",
       "      <td>0.112000</td>\n",
       "      <td>0.190000</td>\n",
       "      <td>0.289000</td>\n",
       "      <td>0.514000</td>\n",
       "      <td>0.546000</td>\n",
       "      <td>621</td>\n",
       "      <td>4</td>\n",
       "      <td>4</td>\n",
       "      <td>0.9794</td>\n",
       "    </tr>\n",
       "    <tr>\n",
       "      <th>519</th>\n",
       "      <td>0.060665</td>\n",
       "      <td>0.145012</td>\n",
       "      <td>0.004987</td>\n",
       "      <td>0.204041</td>\n",
       "      <td>-0.253394</td>\n",
       "      <td>663</td>\n",
       "      <td>4</td>\n",
       "      <td>4</td>\n",
       "      <td>0.9969</td>\n",
       "    </tr>\n",
       "    <tr>\n",
       "      <th>139</th>\n",
       "      <td>0.082000</td>\n",
       "      <td>-0.435000</td>\n",
       "      <td>0.260000</td>\n",
       "      <td>0.161000</td>\n",
       "      <td>0.346000</td>\n",
       "      <td>595</td>\n",
       "      <td>3</td>\n",
       "      <td>3</td>\n",
       "      <td>0.9546</td>\n",
       "    </tr>\n",
       "    <tr>\n",
       "      <th>166</th>\n",
       "      <td>-0.017000</td>\n",
       "      <td>0.308500</td>\n",
       "      <td>0.039000</td>\n",
       "      <td>0.007000</td>\n",
       "      <td>0.027000</td>\n",
       "      <td>715</td>\n",
       "      <td>3</td>\n",
       "      <td>3</td>\n",
       "      <td>0.9738</td>\n",
       "    </tr>\n",
       "  </tbody>\n",
       "</table>\n",
       "<p>65 rows × 9 columns</p>\n",
       "</div>"
      ],
      "text/plain": [
       "     index_month_4  index_month_5  index_month_6  index_month_7  \\\n",
       "175       0.038000       0.605000       0.397000       0.183000   \n",
       "569       0.299183       0.354904       0.281527       0.233069   \n",
       "515      -0.052580       0.193648       0.022953       0.080164   \n",
       "194      -0.105000      -0.128000       0.166000       0.020000   \n",
       "298      -0.034000       0.056000       0.205000       0.086000   \n",
       "..             ...            ...            ...            ...   \n",
       "459      -0.027718       0.294340       0.182359      -0.114307   \n",
       "4         0.112000       0.190000       0.289000       0.514000   \n",
       "519       0.060665       0.145012       0.004987       0.204041   \n",
       "139       0.082000      -0.435000       0.260000       0.161000   \n",
       "166      -0.017000       0.308500       0.039000       0.007000   \n",
       "\n",
       "     index_month_8  elevation  culture_name  prediction_label  \\\n",
       "175      -0.109000        726             2                 2   \n",
       "569       0.152822        621             6                 6   \n",
       "515       0.615062        644             4                 4   \n",
       "194      -0.305000        754             9                 9   \n",
       "298       0.060000       1094             2                 2   \n",
       "..             ...        ...           ...               ...   \n",
       "459       0.201666        630             3                 3   \n",
       "4         0.546000        621             4                 4   \n",
       "519      -0.253394        663             4                 4   \n",
       "139       0.346000        595             3                 3   \n",
       "166       0.027000        715             3                 3   \n",
       "\n",
       "     prediction_score  \n",
       "175            0.9874  \n",
       "569            0.9943  \n",
       "515            0.9973  \n",
       "194            0.9692  \n",
       "298            0.9669  \n",
       "..                ...  \n",
       "459            0.9836  \n",
       "4              0.9794  \n",
       "519            0.9969  \n",
       "139            0.9546  \n",
       "166            0.9738  \n",
       "\n",
       "[65 rows x 9 columns]"
      ]
     },
     "execution_count": 123,
     "metadata": {},
     "output_type": "execute_result"
    }
   ],
   "source": [
    "predict_model(f_rf)"
   ]
  },
  {
   "cell_type": "code",
   "execution_count": 124,
   "metadata": {},
   "outputs": [
    {
     "name": "stdout",
     "output_type": "stream",
     "text": [
      "Transformation Pipeline and Model Successfully Saved\n"
     ]
    },
    {
     "data": {
      "text/plain": [
       "(Pipeline(memory=Memory(location=None),\n",
       "          steps=[('label_encoding',\n",
       "                  TransformerWrapperWithInverse(exclude=None, include=None,\n",
       "                                                transformer=LabelEncoder())),\n",
       "                 ('numerical_imputer',\n",
       "                  TransformerWrapper(exclude=None,\n",
       "                                     include=['index_month_4', 'index_month_5',\n",
       "                                              'index_month_6', 'index_month_7',\n",
       "                                              'index_month_8', 'elevation'],\n",
       "                                     transformer=SimpleImputer(add_indicator=False,\n",
       "                                                               c...\n",
       "                                             criterion='friedman_mse', init=None,\n",
       "                                             learning_rate=0.15, loss='log_loss',\n",
       "                                             max_depth=5, max_features='sqrt',\n",
       "                                             max_leaf_nodes=None,\n",
       "                                             min_impurity_decrease=0.0002,\n",
       "                                             min_samples_leaf=4,\n",
       "                                             min_samples_split=7,\n",
       "                                             min_weight_fraction_leaf=0.0,\n",
       "                                             n_estimators=70,\n",
       "                                             n_iter_no_change=None,\n",
       "                                             random_state=2310, subsample=0.5,\n",
       "                                             tol=0.0001, validation_fraction=0.1,\n",
       "                                             verbose=0, warm_start=False))],\n",
       "          verbose=False),\n",
       " 'gbc_classifier.pkl')"
      ]
     },
     "execution_count": 124,
     "metadata": {},
     "output_type": "execute_result"
    }
   ],
   "source": [
    "save_model(f_rf, 'gbc_classifier')"
   ]
  },
  {
   "cell_type": "code",
   "execution_count": 140,
   "metadata": {},
   "outputs": [
    {
     "name": "stdout",
     "output_type": "stream",
     "text": [
      "Transformation Pipeline and Model Successfully Loaded\n"
     ]
    }
   ],
   "source": [
    "model = load_model('gbc_classifier')"
   ]
  },
  {
   "cell_type": "code",
   "execution_count": 141,
   "metadata": {},
   "outputs": [],
   "source": [
    "Xtest = test.copy().reset_index(drop=True)\n",
    "ytest = Xtest.pop('culture_name')"
   ]
  },
  {
   "cell_type": "code",
   "execution_count": 142,
   "metadata": {},
   "outputs": [],
   "source": [
    "ypred = model.predict(Xtest)"
   ]
  },
  {
   "cell_type": "code",
   "execution_count": 143,
   "metadata": {},
   "outputs": [],
   "source": [
    "Xtest['culture_name'] = ytest\n",
    "Xtest['pred'] = ypred"
   ]
  },
  {
   "cell_type": "code",
   "execution_count": 144,
   "metadata": {},
   "outputs": [],
   "source": [
    "scores_classification = calculate_evaluation_scores(Xtest['culture_name'], Xtest['pred'], problem_type='classification')"
   ]
  },
  {
   "cell_type": "code",
   "execution_count": 145,
   "metadata": {},
   "outputs": [
    {
     "data": {
      "text/plain": [
       "{'Accuracy': 0.7012987012987013,\n",
       " 'Precision': 0.8339517625231913,\n",
       " 'Recall': 0.7012987012987013,\n",
       " 'F1-Score': 0.7461850649350649}"
      ]
     },
     "execution_count": 145,
     "metadata": {},
     "output_type": "execute_result"
    }
   ],
   "source": [
    "scores_classification"
   ]
  }
 ],
 "metadata": {
  "kernelspec": {
   "display_name": "venv",
   "language": "python",
   "name": "python3"
  },
  "language_info": {
   "codemirror_mode": {
    "name": "ipython",
    "version": 3
   },
   "file_extension": ".py",
   "mimetype": "text/x-python",
   "name": "python",
   "nbconvert_exporter": "python",
   "pygments_lexer": "ipython3",
   "version": "3.10.12"
  }
 },
 "nbformat": 4,
 "nbformat_minor": 2
}
