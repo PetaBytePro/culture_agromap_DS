{
 "cells": [
  {
   "cell_type": "code",
   "execution_count": 1,
   "metadata": {},
   "outputs": [],
   "source": [
    "import numpy as np\n",
    "import pandas as pd\n",
    "from sklearn.model_selection import train_test_split\n",
    "from sklearn.ensemble import RandomForestClassifier\n",
    "from sklearn.preprocessing import LabelEncoder\n",
    "from sklearn.impute import KNNImputer\n",
    "import matplotlib.pyplot as plt\n",
    "from imblearn.over_sampling import SMOTE\n",
    "from imblearn.under_sampling import RandomUnderSampler\n",
    "from bayes_opt import BayesianOptimization\n",
    "\n",
    "%matplotlib inline\n",
    "# ignore warnings\n",
    "import warnings\n",
    "warnings.filterwarnings(\"ignore\")"
   ]
  },
  {
   "cell_type": "code",
   "execution_count": 2,
   "metadata": {},
   "outputs": [],
   "source": [
    "# df = pd.read_json('./data/dataSet_Culture_06102023-POINT.json')\n",
    "\n",
    "df = pd.read_csv('./felix_clening.csv')"
   ]
  },
  {
   "cell_type": "code",
   "execution_count": 3,
   "metadata": {},
   "outputs": [
    {
     "ename": "KeyError",
     "evalue": "'Analysis Date'",
     "output_type": "error",
     "traceback": [
      "\u001b[0;31m---------------------------------------------------------------------------\u001b[0m",
      "\u001b[0;31mKeyError\u001b[0m                                  Traceback (most recent call last)",
      "File \u001b[0;32m~/Desktop/culture_agromap_DS/venv/lib/python3.10/site-packages/pandas/core/indexes/base.py:3790\u001b[0m, in \u001b[0;36mIndex.get_loc\u001b[0;34m(self, key)\u001b[0m\n\u001b[1;32m   3789\u001b[0m \u001b[39mtry\u001b[39;00m:\n\u001b[0;32m-> 3790\u001b[0m     \u001b[39mreturn\u001b[39;00m \u001b[39mself\u001b[39;49m\u001b[39m.\u001b[39;49m_engine\u001b[39m.\u001b[39;49mget_loc(casted_key)\n\u001b[1;32m   3791\u001b[0m \u001b[39mexcept\u001b[39;00m \u001b[39mKeyError\u001b[39;00m \u001b[39mas\u001b[39;00m err:\n",
      "File \u001b[0;32mindex.pyx:152\u001b[0m, in \u001b[0;36mpandas._libs.index.IndexEngine.get_loc\u001b[0;34m()\u001b[0m\n",
      "File \u001b[0;32mindex.pyx:181\u001b[0m, in \u001b[0;36mpandas._libs.index.IndexEngine.get_loc\u001b[0;34m()\u001b[0m\n",
      "File \u001b[0;32mpandas/_libs/hashtable_class_helper.pxi:7080\u001b[0m, in \u001b[0;36mpandas._libs.hashtable.PyObjectHashTable.get_item\u001b[0;34m()\u001b[0m\n",
      "File \u001b[0;32mpandas/_libs/hashtable_class_helper.pxi:7088\u001b[0m, in \u001b[0;36mpandas._libs.hashtable.PyObjectHashTable.get_item\u001b[0;34m()\u001b[0m\n",
      "\u001b[0;31mKeyError\u001b[0m: 'Analysis Date'",
      "\nThe above exception was the direct cause of the following exception:\n",
      "\u001b[0;31mKeyError\u001b[0m                                  Traceback (most recent call last)",
      "\u001b[1;32m/home/dan/Desktop/culture_agromap_DS/Random_forest_binary_bayes.ipynb Cell 3\u001b[0m line \u001b[0;36m2\n\u001b[1;32m      <a href='vscode-notebook-cell:/home/dan/Desktop/culture_agromap_DS/Random_forest_binary_bayes.ipynb#W2sZmlsZQ%3D%3D?line=0'>1</a>\u001b[0m \u001b[39m# Extract the year from 'Analysis Date'\u001b[39;00m\n\u001b[0;32m----> <a href='vscode-notebook-cell:/home/dan/Desktop/culture_agromap_DS/Random_forest_binary_bayes.ipynb#W2sZmlsZQ%3D%3D?line=1'>2</a>\u001b[0m df[\u001b[39m'\u001b[39m\u001b[39myear\u001b[39m\u001b[39m'\u001b[39m] \u001b[39m=\u001b[39m df[\u001b[39m'\u001b[39;49m\u001b[39mAnalysis Date\u001b[39;49m\u001b[39m'\u001b[39;49m]\u001b[39m.\u001b[39mapply(\u001b[39mlambda\u001b[39;00m x: x\u001b[39m.\u001b[39msplit(\u001b[39m'\u001b[39m\u001b[39m-\u001b[39m\u001b[39m'\u001b[39m)[\u001b[39m0\u001b[39m])\n\u001b[1;32m      <a href='vscode-notebook-cell:/home/dan/Desktop/culture_agromap_DS/Random_forest_binary_bayes.ipynb#W2sZmlsZQ%3D%3D?line=3'>4</a>\u001b[0m df[\u001b[39m'\u001b[39m\u001b[39mpolygon_x\u001b[39m\u001b[39m'\u001b[39m] \u001b[39m=\u001b[39m df[\u001b[39m'\u001b[39m\u001b[39mpolygon\u001b[39m\u001b[39m'\u001b[39m]\u001b[39m.\u001b[39mapply(\u001b[39mlambda\u001b[39;00m x: x[\u001b[39m'\u001b[39m\u001b[39mx\u001b[39m\u001b[39m'\u001b[39m])\n\u001b[1;32m      <a href='vscode-notebook-cell:/home/dan/Desktop/culture_agromap_DS/Random_forest_binary_bayes.ipynb#W2sZmlsZQ%3D%3D?line=4'>5</a>\u001b[0m df[\u001b[39m'\u001b[39m\u001b[39mpolygon_y\u001b[39m\u001b[39m'\u001b[39m] \u001b[39m=\u001b[39m df[\u001b[39m'\u001b[39m\u001b[39mpolygon\u001b[39m\u001b[39m'\u001b[39m]\u001b[39m.\u001b[39mapply(\u001b[39mlambda\u001b[39;00m x: x[\u001b[39m'\u001b[39m\u001b[39my\u001b[39m\u001b[39m'\u001b[39m])\n",
      "File \u001b[0;32m~/Desktop/culture_agromap_DS/venv/lib/python3.10/site-packages/pandas/core/frame.py:3896\u001b[0m, in \u001b[0;36mDataFrame.__getitem__\u001b[0;34m(self, key)\u001b[0m\n\u001b[1;32m   3894\u001b[0m \u001b[39mif\u001b[39;00m \u001b[39mself\u001b[39m\u001b[39m.\u001b[39mcolumns\u001b[39m.\u001b[39mnlevels \u001b[39m>\u001b[39m \u001b[39m1\u001b[39m:\n\u001b[1;32m   3895\u001b[0m     \u001b[39mreturn\u001b[39;00m \u001b[39mself\u001b[39m\u001b[39m.\u001b[39m_getitem_multilevel(key)\n\u001b[0;32m-> 3896\u001b[0m indexer \u001b[39m=\u001b[39m \u001b[39mself\u001b[39;49m\u001b[39m.\u001b[39;49mcolumns\u001b[39m.\u001b[39;49mget_loc(key)\n\u001b[1;32m   3897\u001b[0m \u001b[39mif\u001b[39;00m is_integer(indexer):\n\u001b[1;32m   3898\u001b[0m     indexer \u001b[39m=\u001b[39m [indexer]\n",
      "File \u001b[0;32m~/Desktop/culture_agromap_DS/venv/lib/python3.10/site-packages/pandas/core/indexes/base.py:3797\u001b[0m, in \u001b[0;36mIndex.get_loc\u001b[0;34m(self, key)\u001b[0m\n\u001b[1;32m   3792\u001b[0m     \u001b[39mif\u001b[39;00m \u001b[39misinstance\u001b[39m(casted_key, \u001b[39mslice\u001b[39m) \u001b[39mor\u001b[39;00m (\n\u001b[1;32m   3793\u001b[0m         \u001b[39misinstance\u001b[39m(casted_key, abc\u001b[39m.\u001b[39mIterable)\n\u001b[1;32m   3794\u001b[0m         \u001b[39mand\u001b[39;00m \u001b[39many\u001b[39m(\u001b[39misinstance\u001b[39m(x, \u001b[39mslice\u001b[39m) \u001b[39mfor\u001b[39;00m x \u001b[39min\u001b[39;00m casted_key)\n\u001b[1;32m   3795\u001b[0m     ):\n\u001b[1;32m   3796\u001b[0m         \u001b[39mraise\u001b[39;00m InvalidIndexError(key)\n\u001b[0;32m-> 3797\u001b[0m     \u001b[39mraise\u001b[39;00m \u001b[39mKeyError\u001b[39;00m(key) \u001b[39mfrom\u001b[39;00m \u001b[39merr\u001b[39;00m\n\u001b[1;32m   3798\u001b[0m \u001b[39mexcept\u001b[39;00m \u001b[39mTypeError\u001b[39;00m:\n\u001b[1;32m   3799\u001b[0m     \u001b[39m# If we have a listlike key, _check_indexing_error will raise\u001b[39;00m\n\u001b[1;32m   3800\u001b[0m     \u001b[39m#  InvalidIndexError. Otherwise we fall through and re-raise\u001b[39;00m\n\u001b[1;32m   3801\u001b[0m     \u001b[39m#  the TypeError.\u001b[39;00m\n\u001b[1;32m   3802\u001b[0m     \u001b[39mself\u001b[39m\u001b[39m.\u001b[39m_check_indexing_error(key)\n",
      "\u001b[0;31mKeyError\u001b[0m: 'Analysis Date'"
     ]
    }
   ],
   "source": [
    "# Extract the year from 'Analysis Date'\n",
    "df['year'] = df['Analysis Date'].apply(lambda x: x.split('-')[0])\n",
    "\n",
    "df['polygon_x'] = df['polygon'].apply(lambda x: x['x'])\n",
    "df['polygon_y'] = df['polygon'].apply(lambda x: x['y'])\n",
    "df['month'] = df['Analysis Date'].apply(lambda x: x.split('-')[1])\n",
    "df['day'] = df['Analysis Date'].apply(lambda x: x.split('-')[2])\n",
    "\n",
    "df['vegetation'] = (df['indextype'] == 'NDVI') & (df['averagevalue'] >= 0.15)\n",
    "df = df.drop(['polygon', 'soil_id'] , axis = 1)\n",
    "\n",
    "# Modify the 'combined' column to include year\n",
    "df['combined'] = df['polygon_x'].astype(str) + '_' + df['polygon_y'].astype(str) + '_' + df['year'].astype(str)\n",
    "\n",
    "# Assign unique ID based on the grouped column\n",
    "df['id'] = df.groupby('combined').ngroup() + 1\n",
    "\n",
    "# Drop the combined column and other temporary columns\n",
    "df = df.drop(columns=['combined', 'polygon_x', 'polygon_y', 'year'])"
   ]
  },
  {
   "cell_type": "code",
   "execution_count": null,
   "metadata": {},
   "outputs": [],
   "source": [
    "df = df[df['indextype'] == 'NDVI']\n",
    "df = df.drop(columns=['indextype', 'year contour', 'month', 'day', 'vegetation', 'type_culture_name'])\n",
    "df = df.rename(columns={'culture_name': 'class'})\n",
    "df = df.rename(columns={'averagevalue': 'red'})\n",
    "df = df.rename(columns={'Analysis Date': 'date'})\n",
    "df['date'] = pd.to_datetime(df['date'])"
   ]
  },
  {
   "cell_type": "code",
   "execution_count": null,
   "metadata": {},
   "outputs": [],
   "source": [
    "label_encoder = LabelEncoder() \n",
    "  \n",
    "# Encode labels in column 'class'. \n",
    "df['class']= label_encoder.fit_transform(df['class']) \n",
    "df['district_name']= label_encoder.fit_transform(df['district_name']) \n",
    "df['soil_name']= label_encoder.fit_transform(df['soil_name']) \n",
    "df['class'].unique() "
   ]
  },
  {
   "cell_type": "code",
   "execution_count": null,
   "metadata": {},
   "outputs": [],
   "source": [
    "# Convert date to multiple columns (year, month, day)\n",
    "df['year'] = pd.to_datetime(df['date']).dt.year\n",
    "df['month'] = pd.to_datetime(df['date']).dt.month\n",
    "df['day'] = pd.to_datetime(df['date']).dt.day\n",
    "df.drop('date', axis=1, inplace=True)\n",
    "\n",
    "# Splitting data    \n",
    "X = df.drop(['class', 'id', 'year', 'day'], axis=1) \n",
    "y = df['class']"
   ]
  },
  {
   "cell_type": "code",
   "execution_count": null,
   "metadata": {},
   "outputs": [],
   "source": [
    "# Pivot table\n",
    "pivot_df = df.pivot_table(index='id', columns='month', values='red', aggfunc='mean')\n",
    "\n",
    "# Fill NaN values (assuming you want to fill with zeros, adjust if needed)\n",
    "# pivot_df = pivot_df.fillna(0)\n",
    "\n",
    "# Rename columns as needed\n",
    "pivot_df.columns = [f'red_{col}_month' for col in pivot_df.columns]\n",
    "\n",
    "# Reset the index so 'id' becomes a column\n",
    "pivot_df = pivot_df.reset_index()\n",
    "\n",
    "# Assuming each 'id' has a unique 'class', get the 'class' value for each 'id' and add to the pivot dataframe\n",
    "pivot_df['class'] = pivot_df['id'].map(df.drop_duplicates(subset='id').set_index('id')['class'])\n",
    "pivot_df['elevation_contour'] = pivot_df['id'].map(df.drop_duplicates(subset='id').set_index('id')['elevation_contour'])\n",
    "pivot_df['district_name'] = pivot_df['id'].map(df.drop_duplicates(subset='id').set_index('id')['district_name'])\n",
    "pivot_df['soil_name'] = pivot_df['id'].map(df.drop_duplicates(subset='id').set_index('id')['soil_name'])\n",
    "\n",
    "# Reordering columns\n",
    "pivot_df = pivot_df[['red_4_month', 'red_5_month', 'red_6_month', 'red_8_month', 'red_9_month', 'id', 'elevation_contour', 'district_name', 'soil_name', 'class']]"
   ]
  },
  {
   "cell_type": "code",
   "execution_count": 4,
   "metadata": {},
   "outputs": [],
   "source": [
    "# Splitting the data\n",
    "X = df.drop(['class'], axis=1)  # Features excluding 'id' and 'class'\n",
    "y = df['class']  # Target variable"
   ]
  },
  {
   "cell_type": "code",
   "execution_count": 9,
   "metadata": {},
   "outputs": [],
   "source": [
    "class_counts = y.value_counts()\n",
    "\n",
    "# Identify the classes with 99 or fewer samples\n",
    "small_sample_classes = class_counts[class_counts <= 99].index\n",
    "\n",
    "# Create a mask for these classes\n",
    "small_sample_mask = y.isin(small_sample_classes)\n",
    "\n",
    "# Set the values for these classes to 0\n",
    "y[small_sample_mask] = 0\n"
   ]
  },
  {
   "cell_type": "code",
   "execution_count": 5,
   "metadata": {},
   "outputs": [
    {
     "data": {
      "text/plain": [
       "class\n",
       "3    140\n",
       "5    116\n",
       "2     97\n",
       "4     92\n",
       "1     74\n",
       "6     59\n",
       "Name: count, dtype: int64"
      ]
     },
     "execution_count": 5,
     "metadata": {},
     "output_type": "execute_result"
    }
   ],
   "source": [
    "y.value_counts()"
   ]
  },
  {
   "cell_type": "code",
   "execution_count": 11,
   "metadata": {},
   "outputs": [],
   "source": [
    "class_counts = y.value_counts()\n",
    "single_sample_classes = class_counts[class_counts <= 100].index\n",
    "filter_mask = ~y.isin(single_sample_classes)\n",
    "X = X[filter_mask]\n",
    "y = y[filter_mask]"
   ]
  },
  {
   "cell_type": "code",
   "execution_count": null,
   "metadata": {},
   "outputs": [],
   "source": [
    "y.value_counts()"
   ]
  },
  {
   "cell_type": "code",
   "execution_count": null,
   "metadata": {},
   "outputs": [],
   "source": [
    "imputer = KNNImputer(n_neighbors=5)\n",
    "X = pd.DataFrame(imputer.fit_transform(X), columns=X.columns)"
   ]
  },
  {
   "cell_type": "code",
   "execution_count": null,
   "metadata": {},
   "outputs": [],
   "source": [
    "y = pd.Series(y)\n",
    "print('Class distribution before undersampling:\\n', y.value_counts())\n"
   ]
  },
  {
   "cell_type": "code",
   "execution_count": null,
   "metadata": {},
   "outputs": [],
   "source": [
    "rus = RandomUnderSampler(sampling_strategy='auto')\n",
    "X_undersampled, y_undersampled = rus.fit_resample(X, y)"
   ]
  },
  {
   "cell_type": "code",
   "execution_count": null,
   "metadata": {},
   "outputs": [],
   "source": [
    "y_undersampled = pd.Series(y_undersampled)\n",
    "print('Class distribution after undersampling:\\n', y_undersampled.value_counts())\n"
   ]
  },
  {
   "cell_type": "code",
   "execution_count": null,
   "metadata": {},
   "outputs": [],
   "source": [
    "# y = pd.Series(y)\n",
    "\n",
    "# # Print class distribution before SMOTE\n",
    "# print('Class distribution before SMOTE:\\n', y.value_counts())\n",
    "\n",
    "# # Apply SMOTE\n",
    "# smote = SMOTE(sampling_strategy='auto', k_neighbors=5)\n",
    "# X_resampled, y_resampled = smote.fit_resample(X, y)\n",
    "\n",
    "# # Convert y_resampled to a pandas Series (for value_counts)\n",
    "# y_resampled = pd.Series(y_resampled)\n",
    "\n",
    "# # Print class distribution after SMOTE\n",
    "# print('Class distribution after SMOTE:\\n', y_resampled.value_counts())"
   ]
  },
  {
   "cell_type": "code",
   "execution_count": 10,
   "metadata": {},
   "outputs": [],
   "source": [
    "X_train, X_test, y_train, y_test = train_test_split(X, y, test_size=0.2, stratify=y)"
   ]
  },
  {
   "cell_type": "code",
   "execution_count": 11,
   "metadata": {},
   "outputs": [
    {
     "name": "stdout",
     "output_type": "stream",
     "text": [
      "|   iter    |  target   | max_depth | max_fe... | min_sa... | n_esti... |\n",
      "-------------------------------------------------------------------------\n",
      "| \u001b[0m1        \u001b[0m | \u001b[0m-2.205   \u001b[0m | \u001b[0m21.43    \u001b[0m | \u001b[0m0.7476   \u001b[0m | \u001b[0m2.003    \u001b[0m | \u001b[0m82.56    \u001b[0m |\n",
      "| \u001b[95m2        \u001b[0m | \u001b[95m-1.383   \u001b[0m | \u001b[95m8.191    \u001b[0m | \u001b[95m0.183    \u001b[0m | \u001b[95m6.284    \u001b[0m | \u001b[95m92.93    \u001b[0m |\n",
      "| \u001b[0m3        \u001b[0m | \u001b[0m-1.429   \u001b[0m | \u001b[0m20.44    \u001b[0m | \u001b[0m0.5844   \u001b[0m | \u001b[0m11.64    \u001b[0m | \u001b[0m174.5    \u001b[0m |\n",
      "| \u001b[0m4        \u001b[0m | \u001b[0m-1.748   \u001b[0m | \u001b[0m11.02    \u001b[0m | \u001b[0m0.8894   \u001b[0m | \u001b[0m2.63     \u001b[0m | \u001b[0m170.9    \u001b[0m |\n",
      "| \u001b[0m5        \u001b[0m | \u001b[0m-1.866   \u001b[0m | \u001b[0m21.45    \u001b[0m | \u001b[0m0.6023   \u001b[0m | \u001b[0m5.229    \u001b[0m | \u001b[0m57.54    \u001b[0m |\n",
      "| \u001b[0m6        \u001b[0m | \u001b[0m-1.495   \u001b[0m | \u001b[0m20.2     \u001b[0m | \u001b[0m0.8951   \u001b[0m | \u001b[0m12.22    \u001b[0m | \u001b[0m175.3    \u001b[0m |\n",
      "| \u001b[95m7        \u001b[0m | \u001b[95m-1.382   \u001b[0m | \u001b[95m25.09    \u001b[0m | \u001b[95m0.1      \u001b[0m | \u001b[95m10.07    \u001b[0m | \u001b[95m169.2    \u001b[0m |\n",
      "| \u001b[95m8        \u001b[0m | \u001b[95m-1.376   \u001b[0m | \u001b[95m25.84    \u001b[0m | \u001b[95m0.1      \u001b[0m | \u001b[95m3.658    \u001b[0m | \u001b[95m175.4    \u001b[0m |\n",
      "| \u001b[0m9        \u001b[0m | \u001b[0m-1.684   \u001b[0m | \u001b[0m1.0      \u001b[0m | \u001b[0m0.1      \u001b[0m | \u001b[0m9.0      \u001b[0m | \u001b[0m99.56    \u001b[0m |\n",
      "| \u001b[0m10       \u001b[0m | \u001b[0m-1.383   \u001b[0m | \u001b[0m32.58    \u001b[0m | \u001b[0m0.1      \u001b[0m | \u001b[0m10.18    \u001b[0m | \u001b[0m176.0    \u001b[0m |\n",
      "| \u001b[0m11       \u001b[0m | \u001b[0m-1.57    \u001b[0m | \u001b[0m35.17    \u001b[0m | \u001b[0m0.1      \u001b[0m | \u001b[0m2.123    \u001b[0m | \u001b[0m170.0    \u001b[0m |\n",
      "| \u001b[95m12       \u001b[0m | \u001b[95m-1.363   \u001b[0m | \u001b[95m31.57    \u001b[0m | \u001b[95m0.1      \u001b[0m | \u001b[95m4.606    \u001b[0m | \u001b[95m184.7    \u001b[0m |\n",
      "| \u001b[0m13       \u001b[0m | \u001b[0m-1.39    \u001b[0m | \u001b[0m39.09    \u001b[0m | \u001b[0m0.1      \u001b[0m | \u001b[0m11.86    \u001b[0m | \u001b[0m185.8    \u001b[0m |\n",
      "| \u001b[0m14       \u001b[0m | \u001b[0m-1.664   \u001b[0m | \u001b[0m42.5     \u001b[0m | \u001b[0m0.999    \u001b[0m | \u001b[0m2.0      \u001b[0m | \u001b[0m185.3    \u001b[0m |\n",
      "| \u001b[0m15       \u001b[0m | \u001b[0m-1.397   \u001b[0m | \u001b[0m30.1     \u001b[0m | \u001b[0m0.1      \u001b[0m | \u001b[0m13.67    \u001b[0m | \u001b[0m187.6    \u001b[0m |\n",
      "| \u001b[0m16       \u001b[0m | \u001b[0m-1.418   \u001b[0m | \u001b[0m36.81    \u001b[0m | \u001b[0m0.1      \u001b[0m | \u001b[0m21.02    \u001b[0m | \u001b[0m180.5    \u001b[0m |\n",
      "| \u001b[0m17       \u001b[0m | \u001b[0m-1.424   \u001b[0m | \u001b[0m38.28    \u001b[0m | \u001b[0m0.1121   \u001b[0m | \u001b[0m22.05    \u001b[0m | \u001b[0m193.1    \u001b[0m |\n",
      "| \u001b[0m18       \u001b[0m | \u001b[0m-1.378   \u001b[0m | \u001b[0m33.71    \u001b[0m | \u001b[0m0.1      \u001b[0m | \u001b[0m9.841    \u001b[0m | \u001b[0m197.9    \u001b[0m |\n",
      "| \u001b[0m19       \u001b[0m | \u001b[0m-1.655   \u001b[0m | \u001b[0m26.38    \u001b[0m | \u001b[0m0.8301   \u001b[0m | \u001b[0m3.006    \u001b[0m | \u001b[0m193.5    \u001b[0m |\n",
      "| \u001b[0m20       \u001b[0m | \u001b[0m-1.389   \u001b[0m | \u001b[0m42.64    \u001b[0m | \u001b[0m0.1      \u001b[0m | \u001b[0m13.75    \u001b[0m | \u001b[0m200.2    \u001b[0m |\n",
      "=========================================================================\n",
      "Test Log Loss: 1.383938150324791\n"
     ]
    }
   ],
   "source": [
    "from sklearn.ensemble import RandomForestClassifier\n",
    "from sklearn.model_selection import cross_val_score\n",
    "from bayes_opt import BayesianOptimization\n",
    "from sklearn.metrics import log_loss\n",
    "\n",
    "# Objective function using log loss\n",
    "def objective_log_loss(n_estimators, max_depth, min_samples_split, max_features):\n",
    "    model = RandomForestClassifier(\n",
    "        n_estimators=int(n_estimators),\n",
    "        max_depth=int(max_depth),\n",
    "        min_samples_split=int(min_samples_split),\n",
    "        max_features=min(max_features, 0.999),  # Fraction, must be <= 1.0\n",
    "    )\n",
    "    # Use negative log loss as the scoring parameter\n",
    "    return cross_val_score(model, X_train, y_train, cv=3, scoring='neg_log_loss').mean()\n",
    "\n",
    "# Hyperparameters bounds for Bayesian optimization\n",
    "param_bounds = {\n",
    "    'n_estimators': (10, 250),\n",
    "    'max_depth': (1, 50),\n",
    "    'min_samples_split': (2, 25),\n",
    "    'max_features': (0.1, 0.999),\n",
    "}\n",
    "\n",
    "# Bayesian optimization\n",
    "optimizer_log_loss = BayesianOptimization(f=objective_log_loss, pbounds=param_bounds, random_state=1)\n",
    "optimizer_log_loss.maximize(init_points=5, n_iter=15)\n",
    "\n",
    "# Best parameters found\n",
    "best_params_log_loss = optimizer_log_loss.max['params']\n",
    "\n",
    "# Retrain the model with the best parameters\n",
    "optimized_rf_log_loss = RandomForestClassifier(\n",
    "    n_estimators=int(best_params_log_loss['n_estimators']),\n",
    "    max_depth=int(best_params_log_loss['max_depth']),\n",
    "    min_samples_split=int(best_params_log_loss['min_samples_split']),\n",
    "    max_features=best_params_log_loss['max_features']\n",
    ")\n",
    "optimized_rf_log_loss.fit(X_train, y_train)\n",
    "\n",
    "# Predict probabilities for the test set\n",
    "y_pred_probs = optimized_rf_log_loss.predict_proba(X_test)\n",
    "\n",
    "# Calculate and print the log loss for the test set\n",
    "test_log_loss = log_loss(y_test, y_pred_probs)\n",
    "print(f'Test Log Loss: {test_log_loss}')\n"
   ]
  },
  {
   "cell_type": "code",
   "execution_count": null,
   "metadata": {},
   "outputs": [],
   "source": []
  }
 ],
 "metadata": {
  "kernelspec": {
   "display_name": "venv",
   "language": "python",
   "name": "python3"
  },
  "language_info": {
   "codemirror_mode": {
    "name": "ipython",
    "version": 3
   },
   "file_extension": ".py",
   "mimetype": "text/x-python",
   "name": "python",
   "nbconvert_exporter": "python",
   "pygments_lexer": "ipython3",
   "version": "3.10.12"
  }
 },
 "nbformat": 4,
 "nbformat_minor": 2
}
