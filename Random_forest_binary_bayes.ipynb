{
 "cells": [
  {
   "cell_type": "code",
   "execution_count": 1,
   "metadata": {},
   "outputs": [],
   "source": [
    "import numpy as np\n",
    "import pandas as pd\n",
    "from sklearn.model_selection import train_test_split\n",
    "from sklearn.ensemble import RandomForestClassifier\n",
    "from sklearn.preprocessing import LabelEncoder\n",
    "from sklearn.impute import KNNImputer\n",
    "import matplotlib.pyplot as plt\n",
    "from imblearn.over_sampling import SMOTE\n",
    "from imblearn.under_sampling import RandomUnderSampler\n",
    "from bayes_opt import BayesianOptimization\n",
    "\n",
    "%matplotlib inline\n",
    "# ignore warnings\n",
    "import warnings\n",
    "warnings.filterwarnings(\"ignore\")"
   ]
  },
  {
   "cell_type": "code",
   "execution_count": 2,
   "metadata": {},
   "outputs": [],
   "source": [
    "df = pd.read_json('./data/dataSet_Culture_06102023-POINT.json')"
   ]
  },
  {
   "cell_type": "code",
   "execution_count": 3,
   "metadata": {},
   "outputs": [],
   "source": [
    "# Extract the year from 'Analysis Date'\n",
    "df['year'] = df['Analysis Date'].apply(lambda x: x.split('-')[0])\n",
    "\n",
    "df['polygon_x'] = df['polygon'].apply(lambda x: x['x'])\n",
    "df['polygon_y'] = df['polygon'].apply(lambda x: x['y'])\n",
    "df['month'] = df['Analysis Date'].apply(lambda x: x.split('-')[1])\n",
    "df['day'] = df['Analysis Date'].apply(lambda x: x.split('-')[2])\n",
    "\n",
    "df['vegetation'] = (df['indextype'] == 'NDVI') & (df['averagevalue'] >= 0.15)\n",
    "df = df.drop(['polygon', 'soil_id'] , axis = 1)\n",
    "\n",
    "# Modify the 'combined' column to include year\n",
    "df['combined'] = df['polygon_x'].astype(str) + '_' + df['polygon_y'].astype(str) + '_' + df['year'].astype(str)\n",
    "\n",
    "# Assign unique ID based on the grouped column\n",
    "df['id'] = df.groupby('combined').ngroup() + 1\n",
    "\n",
    "# Drop the combined column and other temporary columns\n",
    "df = df.drop(columns=['combined', 'polygon_x', 'polygon_y', 'year'])"
   ]
  },
  {
   "cell_type": "code",
   "execution_count": 4,
   "metadata": {},
   "outputs": [],
   "source": [
    "df = df[df['indextype'] == 'NDVI']\n",
    "df = df.drop(columns=['indextype', 'year contour', 'month', 'day', 'vegetation', 'type_culture_name'])\n",
    "df = df.rename(columns={'culture_name': 'class'})\n",
    "df = df.rename(columns={'averagevalue': 'red'})\n",
    "df = df.rename(columns={'Analysis Date': 'date'})\n",
    "df['date'] = pd.to_datetime(df['date'])"
   ]
  },
  {
   "cell_type": "code",
   "execution_count": 5,
   "metadata": {},
   "outputs": [
    {
     "data": {
      "text/plain": [
       "array([ 2, 16, 21,  4, 11, 13,  7, 20, 18,  3,  0,  5, 17,  8, 12, 10, 15,\n",
       "       14,  6,  1, 19,  9])"
      ]
     },
     "execution_count": 5,
     "metadata": {},
     "output_type": "execute_result"
    }
   ],
   "source": [
    "label_encoder = LabelEncoder() \n",
    "  \n",
    "# Encode labels in column 'class'. \n",
    "df['class']= label_encoder.fit_transform(df['class']) \n",
    "df['district_name']= label_encoder.fit_transform(df['district_name']) \n",
    "df['soil_name']= label_encoder.fit_transform(df['soil_name']) \n",
    "df['class'].unique() "
   ]
  },
  {
   "cell_type": "code",
   "execution_count": 6,
   "metadata": {},
   "outputs": [],
   "source": [
    "# Convert date to multiple columns (year, month, day)\n",
    "df['year'] = pd.to_datetime(df['date']).dt.year\n",
    "df['month'] = pd.to_datetime(df['date']).dt.month\n",
    "df['day'] = pd.to_datetime(df['date']).dt.day\n",
    "df.drop('date', axis=1, inplace=True)\n",
    "\n",
    "# Splitting data    \n",
    "X = df.drop(['class', 'id', 'year', 'day'], axis=1) \n",
    "y = df['class']"
   ]
  },
  {
   "cell_type": "code",
   "execution_count": 7,
   "metadata": {},
   "outputs": [],
   "source": [
    "# Pivot table\n",
    "pivot_df = df.pivot_table(index='id', columns='month', values='red', aggfunc='mean')\n",
    "\n",
    "# Fill NaN values (assuming you want to fill with zeros, adjust if needed)\n",
    "# pivot_df = pivot_df.fillna(0)\n",
    "\n",
    "# Rename columns as needed\n",
    "pivot_df.columns = [f'red_{col}_month' for col in pivot_df.columns]\n",
    "\n",
    "# Reset the index so 'id' becomes a column\n",
    "pivot_df = pivot_df.reset_index()\n",
    "\n",
    "# Assuming each 'id' has a unique 'class', get the 'class' value for each 'id' and add to the pivot dataframe\n",
    "pivot_df['class'] = pivot_df['id'].map(df.drop_duplicates(subset='id').set_index('id')['class'])\n",
    "pivot_df['elevation_contour'] = pivot_df['id'].map(df.drop_duplicates(subset='id').set_index('id')['elevation_contour'])\n",
    "pivot_df['district_name'] = pivot_df['id'].map(df.drop_duplicates(subset='id').set_index('id')['district_name'])\n",
    "pivot_df['soil_name'] = pivot_df['id'].map(df.drop_duplicates(subset='id').set_index('id')['soil_name'])\n",
    "\n",
    "# Reordering columns\n",
    "pivot_df = pivot_df[['red_4_month', 'red_5_month', 'red_6_month', 'red_8_month', 'red_9_month', 'id', 'elevation_contour', 'district_name', 'soil_name', 'class']]"
   ]
  },
  {
   "cell_type": "code",
   "execution_count": 8,
   "metadata": {},
   "outputs": [],
   "source": [
    "# Splitting the data\n",
    "X = pivot_df.drop(['id', 'class'], axis=1)  # Features excluding 'id' and 'class'\n",
    "y = pivot_df['class']  # Target variable"
   ]
  },
  {
   "cell_type": "code",
   "execution_count": 9,
   "metadata": {},
   "outputs": [],
   "source": [
    "class_counts = y.value_counts()\n",
    "\n",
    "# Identify the classes with 99 or fewer samples\n",
    "small_sample_classes = class_counts[class_counts <= 99].index\n",
    "\n",
    "# Create a mask for these classes\n",
    "small_sample_mask = y.isin(small_sample_classes)\n",
    "\n",
    "# Set the values for these classes to 0\n",
    "y[small_sample_mask] = 0\n"
   ]
  },
  {
   "cell_type": "code",
   "execution_count": 10,
   "metadata": {},
   "outputs": [
    {
     "data": {
      "text/plain": [
       "class\n",
       "11    231\n",
       "21    193\n",
       "4     183\n",
       "13    163\n",
       "7     120\n",
       "0     105\n",
       "Name: count, dtype: int64"
      ]
     },
     "execution_count": 10,
     "metadata": {},
     "output_type": "execute_result"
    }
   ],
   "source": [
    "y.value_counts()"
   ]
  },
  {
   "cell_type": "code",
   "execution_count": 11,
   "metadata": {},
   "outputs": [],
   "source": [
    "class_counts = y.value_counts()\n",
    "single_sample_classes = class_counts[class_counts <= 100].index\n",
    "filter_mask = ~y.isin(single_sample_classes)\n",
    "X = X[filter_mask]\n",
    "y = y[filter_mask]"
   ]
  },
  {
   "cell_type": "code",
   "execution_count": 12,
   "metadata": {},
   "outputs": [
    {
     "data": {
      "text/plain": [
       "class\n",
       "11    231\n",
       "21    193\n",
       "4     183\n",
       "13    163\n",
       "7     120\n",
       "0     105\n",
       "Name: count, dtype: int64"
      ]
     },
     "execution_count": 12,
     "metadata": {},
     "output_type": "execute_result"
    }
   ],
   "source": [
    "y.value_counts()"
   ]
  },
  {
   "cell_type": "code",
   "execution_count": 13,
   "metadata": {},
   "outputs": [],
   "source": [
    "imputer = KNNImputer(n_neighbors=5)\n",
    "X = pd.DataFrame(imputer.fit_transform(X), columns=X.columns)"
   ]
  },
  {
   "cell_type": "code",
   "execution_count": 14,
   "metadata": {},
   "outputs": [
    {
     "name": "stdout",
     "output_type": "stream",
     "text": [
      "Class distribution before undersampling:\n",
      " class\n",
      "11    231\n",
      "21    193\n",
      "4     183\n",
      "13    163\n",
      "7     120\n",
      "0     105\n",
      "Name: count, dtype: int64\n"
     ]
    }
   ],
   "source": [
    "y = pd.Series(y)\n",
    "print('Class distribution before undersampling:\\n', y.value_counts())\n"
   ]
  },
  {
   "cell_type": "code",
   "execution_count": 15,
   "metadata": {},
   "outputs": [],
   "source": [
    "rus = RandomUnderSampler(sampling_strategy='auto')\n",
    "X_undersampled, y_undersampled = rus.fit_resample(X, y)"
   ]
  },
  {
   "cell_type": "code",
   "execution_count": 16,
   "metadata": {},
   "outputs": [
    {
     "name": "stdout",
     "output_type": "stream",
     "text": [
      "Class distribution after undersampling:\n",
      " class\n",
      "0     105\n",
      "4     105\n",
      "7     105\n",
      "11    105\n",
      "13    105\n",
      "21    105\n",
      "Name: count, dtype: int64\n"
     ]
    }
   ],
   "source": [
    "y_undersampled = pd.Series(y_undersampled)\n",
    "print('Class distribution after undersampling:\\n', y_undersampled.value_counts())\n"
   ]
  },
  {
   "cell_type": "code",
   "execution_count": 17,
   "metadata": {},
   "outputs": [],
   "source": [
    "# y = pd.Series(y)\n",
    "\n",
    "# # Print class distribution before SMOTE\n",
    "# print('Class distribution before SMOTE:\\n', y.value_counts())\n",
    "\n",
    "# # Apply SMOTE\n",
    "# smote = SMOTE(sampling_strategy='auto', k_neighbors=5)\n",
    "# X_resampled, y_resampled = smote.fit_resample(X, y)\n",
    "\n",
    "# # Convert y_resampled to a pandas Series (for value_counts)\n",
    "# y_resampled = pd.Series(y_resampled)\n",
    "\n",
    "# # Print class distribution after SMOTE\n",
    "# print('Class distribution after SMOTE:\\n', y_resampled.value_counts())"
   ]
  },
  {
   "cell_type": "code",
   "execution_count": 18,
   "metadata": {},
   "outputs": [],
   "source": [
    "X_train, X_test, y_train, y_test = train_test_split(X_undersampled, y_undersampled, test_size=0.2, stratify=y_undersampled)"
   ]
  },
  {
   "cell_type": "code",
   "execution_count": 19,
   "metadata": {},
   "outputs": [
    {
     "name": "stdout",
     "output_type": "stream",
     "text": [
      "|   iter    |  target   | max_depth | max_fe... | min_sa... | n_esti... |\n",
      "-------------------------------------------------------------------------\n",
      "| \u001b[0m1        \u001b[0m | \u001b[0m-1.82    \u001b[0m | \u001b[0m21.43    \u001b[0m | \u001b[0m0.7476   \u001b[0m | \u001b[0m2.003    \u001b[0m | \u001b[0m82.56    \u001b[0m |\n",
      "| \u001b[95m2        \u001b[0m | \u001b[95m-1.474   \u001b[0m | \u001b[95m8.191    \u001b[0m | \u001b[95m0.183    \u001b[0m | \u001b[95m6.284    \u001b[0m | \u001b[95m92.93    \u001b[0m |\n",
      "| \u001b[0m3        \u001b[0m | \u001b[0m-1.488   \u001b[0m | \u001b[0m20.44    \u001b[0m | \u001b[0m0.5844   \u001b[0m | \u001b[0m11.64    \u001b[0m | \u001b[0m174.5    \u001b[0m |\n",
      "| \u001b[0m4        \u001b[0m | \u001b[0m-1.495   \u001b[0m | \u001b[0m11.02    \u001b[0m | \u001b[0m0.8894   \u001b[0m | \u001b[0m2.63     \u001b[0m | \u001b[0m170.9    \u001b[0m |\n",
      "| \u001b[0m5        \u001b[0m | \u001b[0m-1.482   \u001b[0m | \u001b[0m21.45    \u001b[0m | \u001b[0m0.6023   \u001b[0m | \u001b[0m5.229    \u001b[0m | \u001b[0m57.54    \u001b[0m |\n",
      "| \u001b[0m6        \u001b[0m | \u001b[0m-1.492   \u001b[0m | \u001b[0m8.084    \u001b[0m | \u001b[0m0.5801   \u001b[0m | \u001b[0m6.753    \u001b[0m | \u001b[0m94.25    \u001b[0m |\n",
      "| \u001b[0m7        \u001b[0m | \u001b[0m-1.673   \u001b[0m | \u001b[0m1.28     \u001b[0m | \u001b[0m0.8081   \u001b[0m | \u001b[0m10.8     \u001b[0m | \u001b[0m85.69    \u001b[0m |\n",
      "| \u001b[95m8        \u001b[0m | \u001b[95m-1.474   \u001b[0m | \u001b[95m11.76    \u001b[0m | \u001b[95m0.999    \u001b[0m | \u001b[95m12.97    \u001b[0m | \u001b[95m169.8    \u001b[0m |\n",
      "| \u001b[95m9        \u001b[0m | \u001b[95m-1.47    \u001b[0m | \u001b[95m10.51    \u001b[0m | \u001b[95m0.3903   \u001b[0m | \u001b[95m10.53    \u001b[0m | \u001b[95m179.8    \u001b[0m |\n",
      "| \u001b[0m10       \u001b[0m | \u001b[0m-1.675   \u001b[0m | \u001b[0m1.496    \u001b[0m | \u001b[0m0.7049   \u001b[0m | \u001b[0m10.28    \u001b[0m | \u001b[0m173.9    \u001b[0m |\n",
      "| \u001b[95m11       \u001b[0m | \u001b[95m-1.442   \u001b[0m | \u001b[95m17.02    \u001b[0m | \u001b[95m0.1956   \u001b[0m | \u001b[95m4.372    \u001b[0m | \u001b[95m179.6    \u001b[0m |\n",
      "| \u001b[0m12       \u001b[0m | \u001b[0m-1.485   \u001b[0m | \u001b[0m18.02    \u001b[0m | \u001b[0m0.999    \u001b[0m | \u001b[0m10.57    \u001b[0m | \u001b[0m186.6    \u001b[0m |\n",
      "| \u001b[0m13       \u001b[0m | \u001b[0m-1.446   \u001b[0m | \u001b[0m11.18    \u001b[0m | \u001b[0m0.1      \u001b[0m | \u001b[0m2.0      \u001b[0m | \u001b[0m187.1    \u001b[0m |\n",
      "| \u001b[0m14       \u001b[0m | \u001b[0m-1.455   \u001b[0m | \u001b[0m16.67    \u001b[0m | \u001b[0m0.1      \u001b[0m | \u001b[0m2.0      \u001b[0m | \u001b[0m196.8    \u001b[0m |\n",
      "| \u001b[0m15       \u001b[0m | \u001b[0m-1.48    \u001b[0m | \u001b[0m7.025    \u001b[0m | \u001b[0m0.1      \u001b[0m | \u001b[0m7.925    \u001b[0m | \u001b[0m196.5    \u001b[0m |\n",
      "| \u001b[0m16       \u001b[0m | \u001b[0m-1.45    \u001b[0m | \u001b[0m25.95    \u001b[0m | \u001b[0m0.1      \u001b[0m | \u001b[0m2.0      \u001b[0m | \u001b[0m188.4    \u001b[0m |\n",
      "| \u001b[0m17       \u001b[0m | \u001b[0m-1.454   \u001b[0m | \u001b[0m29.32    \u001b[0m | \u001b[0m0.1      \u001b[0m | \u001b[0m2.0      \u001b[0m | \u001b[0m200.2    \u001b[0m |\n",
      "| \u001b[95m18       \u001b[0m | \u001b[95m-1.436   \u001b[0m | \u001b[95m38.58    \u001b[0m | \u001b[95m0.1      \u001b[0m | \u001b[95m2.0      \u001b[0m | \u001b[95m191.4    \u001b[0m |\n",
      "| \u001b[0m19       \u001b[0m | \u001b[0m-1.473   \u001b[0m | \u001b[0m34.53    \u001b[0m | \u001b[0m0.1      \u001b[0m | \u001b[0m12.22    \u001b[0m | \u001b[0m194.1    \u001b[0m |\n",
      "| \u001b[0m20       \u001b[0m | \u001b[0m-1.492   \u001b[0m | \u001b[0m43.49    \u001b[0m | \u001b[0m0.5278   \u001b[0m | \u001b[0m4.748    \u001b[0m | \u001b[0m201.4    \u001b[0m |\n",
      "=========================================================================\n",
      "Test Log Loss: 1.5063586674173808\n"
     ]
    }
   ],
   "source": [
    "from sklearn.ensemble import RandomForestClassifier\n",
    "from sklearn.model_selection import cross_val_score\n",
    "from bayes_opt import BayesianOptimization\n",
    "from sklearn.metrics import log_loss\n",
    "\n",
    "# Objective function using log loss\n",
    "def objective_log_loss(n_estimators, max_depth, min_samples_split, max_features):\n",
    "    model = RandomForestClassifier(\n",
    "        n_estimators=int(n_estimators),\n",
    "        max_depth=int(max_depth),\n",
    "        min_samples_split=int(min_samples_split),\n",
    "        max_features=min(max_features, 0.999),  # Fraction, must be <= 1.0\n",
    "    )\n",
    "    # Use negative log loss as the scoring parameter\n",
    "    return cross_val_score(model, X_train, y_train, cv=3, scoring='neg_log_loss').mean()\n",
    "\n",
    "# Hyperparameters bounds for Bayesian optimization\n",
    "param_bounds = {\n",
    "    'n_estimators': (10, 250),\n",
    "    'max_depth': (1, 50),\n",
    "    'min_samples_split': (2, 25),\n",
    "    'max_features': (0.1, 0.999),\n",
    "}\n",
    "\n",
    "# Bayesian optimization\n",
    "optimizer_log_loss = BayesianOptimization(f=objective_log_loss, pbounds=param_bounds, random_state=1)\n",
    "optimizer_log_loss.maximize(init_points=5, n_iter=15)\n",
    "\n",
    "# Best parameters found\n",
    "best_params_log_loss = optimizer_log_loss.max['params']\n",
    "\n",
    "# Retrain the model with the best parameters\n",
    "optimized_rf_log_loss = RandomForestClassifier(\n",
    "    n_estimators=int(best_params_log_loss['n_estimators']),\n",
    "    max_depth=int(best_params_log_loss['max_depth']),\n",
    "    min_samples_split=int(best_params_log_loss['min_samples_split']),\n",
    "    max_features=best_params_log_loss['max_features']\n",
    ")\n",
    "optimized_rf_log_loss.fit(X_train, y_train)\n",
    "\n",
    "# Predict probabilities for the test set\n",
    "y_pred_probs = optimized_rf_log_loss.predict_proba(X_test)\n",
    "\n",
    "# Calculate and print the log loss for the test set\n",
    "test_log_loss = log_loss(y_test, y_pred_probs)\n",
    "print(f'Test Log Loss: {test_log_loss}')\n"
   ]
  }
 ],
 "metadata": {
  "kernelspec": {
   "display_name": "venv",
   "language": "python",
   "name": "python3"
  },
  "language_info": {
   "codemirror_mode": {
    "name": "ipython",
    "version": 3
   },
   "file_extension": ".py",
   "mimetype": "text/x-python",
   "name": "python",
   "nbconvert_exporter": "python",
   "pygments_lexer": "ipython3",
   "version": "3.10.12"
  }
 },
 "nbformat": 4,
 "nbformat_minor": 2
}
