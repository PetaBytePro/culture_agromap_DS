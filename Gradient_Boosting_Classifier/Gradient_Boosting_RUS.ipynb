{
 "cells": [
  {
   "cell_type": "code",
   "execution_count": 1,
   "metadata": {},
   "outputs": [],
   "source": [
    "import numpy as np\n",
    "import pandas as pd\n",
    "from sklearn.model_selection import train_test_split, RandomizedSearchCV\n",
    "from sklearn.ensemble import GradientBoostingClassifier\n",
    "from sklearn.metrics import accuracy_score, precision_score, recall_score, f1_score, roc_auc_score, mean_squared_error\n",
    "from sklearn.preprocessing import LabelEncoder\n",
    "from sklearn.impute import KNNImputer\n",
    "import re\n",
    "import matplotlib.pyplot as plt\n",
    "\n",
    "from imblearn.under_sampling import RandomUnderSampler\n",
    "from sklearn.datasets import make_classification\n",
    "\n",
    "%matplotlib inline\n",
    "# ignore warnings\n",
    "import warnings\n",
    "warnings.filterwarnings(\"ignore\")\n"
   ]
  },
  {
   "cell_type": "code",
   "execution_count": 2,
   "metadata": {},
   "outputs": [],
   "source": [
    "df = pd.read_json('./data/dataSet_Culture_06102023-POINT.json')"
   ]
  },
  {
   "cell_type": "code",
   "execution_count": 3,
   "metadata": {},
   "outputs": [],
   "source": [
    "# Extract the year from 'Analysis Date'\n",
    "df['year'] = df['Analysis Date'].apply(lambda x: x.split('-')[0])\n",
    "\n",
    "df['polygon_x'] = df['polygon'].apply(lambda x: x['x'])\n",
    "df['polygon_y'] = df['polygon'].apply(lambda x: x['y'])\n",
    "df['month'] = df['Analysis Date'].apply(lambda x: x.split('-')[1])\n",
    "df['day'] = df['Analysis Date'].apply(lambda x: x.split('-')[2])\n",
    "\n",
    "df['vegetation'] = (df['indextype'] == 'NDVI') & (df['averagevalue'] >= 0.15)\n",
    "df = df.drop(['polygon', 'soil_id'] , axis = 1)\n",
    "\n",
    "# Modify the 'combined' column to include year\n",
    "df['combined'] = df['polygon_x'].astype(str) + '_' + df['polygon_y'].astype(str) + '_' + df['year'].astype(str)\n",
    "\n",
    "# Assign unique ID based on the grouped column\n",
    "df['id'] = df.groupby('combined').ngroup() + 1\n",
    "\n",
    "# Drop the combined column and other temporary columns\n",
    "df = df.drop(columns=['combined', 'polygon_x', 'polygon_y', 'year'])"
   ]
  },
  {
   "cell_type": "code",
   "execution_count": 4,
   "metadata": {},
   "outputs": [],
   "source": [
    "df = df[df['indextype'] == 'NDVI']\n",
    "df = df.drop(columns=['indextype', 'year contour', 'month', 'day', 'vegetation', 'type_culture_name'])\n",
    "df = df.rename(columns={'culture_name': 'class'})\n",
    "df = df.rename(columns={'averagevalue': 'red'})\n",
    "df = df.rename(columns={'Analysis Date': 'date'})\n",
    "df['date'] = pd.to_datetime(df['date'])"
   ]
  },
  {
   "cell_type": "code",
   "execution_count": 5,
   "metadata": {},
   "outputs": [
    {
     "name": "stdout",
     "output_type": "stream",
     "text": [
      "['Картофель' 'Соя' 'Ячмень' 'Кукуруза' 'Пшеница' 'Свекла' 'Люцерна'\n",
      " 'Яровой' 'Фасоль' 'Клевер' 'Арбуз' 'Лук' 'Томат' 'Морковь' 'Рапс'\n",
      " 'Помидор' 'Софлор' 'Сил' 'Лук-Морковка' 'Капуста' 'Экпарцет'\n",
      " 'Подсолнечник']\n"
     ]
    },
    {
     "data": {
      "text/plain": [
       "array(['Картофель', 'Соя', 'Ячмень', 'Кукуруза', 'Пшеница', 'Свекла',\n",
       "       'Люцерна', 'Яровой', 'Фасоль', 'Клевер', 'Арбуз', 'Лук', 'Томат',\n",
       "       'Морковь', 'Рапс', 'Помидор', 'Софлор', 'Сил', 'Лук-Морковка',\n",
       "       'Капуста', 'Экпарцет', 'Подсолнечник'], dtype=object)"
      ]
     },
     "execution_count": 5,
     "metadata": {},
     "output_type": "execute_result"
    }
   ],
   "source": [
    "label_encoder = LabelEncoder() \n",
    "print(df['class'].unique() )\n",
    "# Encode labels in column 'class'. \n",
    "df['district_name']= label_encoder.fit_transform(df['district_name']) \n",
    "df['soil_name']= label_encoder.fit_transform(df['soil_name']) \n",
    "df['class'].unique() "
   ]
  },
  {
   "cell_type": "code",
   "execution_count": 6,
   "metadata": {},
   "outputs": [
    {
     "name": "stdout",
     "output_type": "stream",
     "text": [
      "         red       date  elevation_contour  district_name  soil_name  \\\n",
      "0      0.217 2020-06-04               1544              2          4   \n",
      "1      0.215 2020-08-03               1544              2          4   \n",
      "2      0.150 2020-09-02               1544              2          4   \n",
      "3      0.052 2021-04-10               1544              2          4   \n",
      "4      0.056 2021-05-05               1544              2          4   \n",
      "...      ...        ...                ...            ...        ...   \n",
      "22923  0.192 2022-05-08                672              6          9   \n",
      "22924  0.234 2022-06-07                672              6          9   \n",
      "22925  0.157 2022-07-02                672              6          9   \n",
      "22926  0.163 2022-08-01                672              6          9   \n",
      "22927  0.133 2022-10-05                672              6          9   \n",
      "\n",
      "           class   id group_class  \n",
      "0      Картофель  986  Root Crops  \n",
      "1      Картофель  986  Root Crops  \n",
      "2      Картофель  986  Root Crops  \n",
      "3      Картофель  987  Root Crops  \n",
      "4      Картофель  987  Root Crops  \n",
      "...          ...  ...         ...  \n",
      "22923   Кукуруза  752     Cereals  \n",
      "22924   Кукуруза  752     Cereals  \n",
      "22925   Кукуруза  752     Cereals  \n",
      "22926   Кукуруза  752     Cereals  \n",
      "22927   Кукуруза  752     Cereals  \n",
      "\n",
      "[5698 rows x 8 columns]\n"
     ]
    }
   ],
   "source": [
    "# Step 1: Create a mapping dictionary\n",
    "group_mapping = {\n",
    "    'Ячмень': 'Cereals', 'Пшеница': 'Cereals', 'Кукуруза': 'Cereals', 'Яровой': 'Cereals',\n",
    "    'Соя': 'Legumes', 'Фасоль': 'Legumes', 'Клевер': 'Legumes', 'Люцерна': 'Legumes',\n",
    "    'Картофель': 'Root Crops', 'Свекла': 'Root Crops', 'Морковь': 'Root Crops', 'Лук-Морковка': 'Root Crops',\n",
    "    'Рапс': 'Oilseeds', 'Подсолнечник': 'Oilseeds', 'Софлор': 'Oilseeds',\n",
    "    'Лук': 'Vegetables', 'Томат': 'Vegetables', 'Помидор': 'Vegetables', 'Капуста': 'Vegetables',\n",
    "    'Арбуз': 'Melons',\n",
    "    # Add more mappings as needed\n",
    "}\n",
    "\n",
    "# Step 2: Function to map class to group\n",
    "def map_class_to_group(class_name):\n",
    "    # Handle cases where the class_name is not in the dictionary (e.g., 'Сил', 'Экпарцет')\n",
    "    return group_mapping.get(class_name, 'Miscellaneous')\n",
    "\n",
    "# Step 3: Apply the function to create a new column\n",
    "df['group_class'] = df['class'].apply(map_class_to_group)\n",
    "\n",
    "# Show the updated DataFrame\n",
    "print(df)"
   ]
  },
  {
   "cell_type": "code",
   "execution_count": 7,
   "metadata": {},
   "outputs": [],
   "source": [
    "df['class']= label_encoder.fit_transform(df['class']) \n",
    "df['group_class']= label_encoder.fit_transform(df['group_class']) \n"
   ]
  },
  {
   "cell_type": "code",
   "execution_count": 8,
   "metadata": {},
   "outputs": [],
   "source": [
    "# Convert date to multiple columns (year, month, day)\n",
    "df['year'] = pd.to_datetime(df['date']).dt.year\n",
    "df['month'] = pd.to_datetime(df['date']).dt.month\n",
    "df['day'] = pd.to_datetime(df['date']).dt.day\n",
    "df.drop('date', axis=1, inplace=True)"
   ]
  },
  {
   "cell_type": "code",
   "execution_count": 9,
   "metadata": {},
   "outputs": [
    {
     "data": {
      "text/html": [
       "<div>\n",
       "<style scoped>\n",
       "    .dataframe tbody tr th:only-of-type {\n",
       "        vertical-align: middle;\n",
       "    }\n",
       "\n",
       "    .dataframe tbody tr th {\n",
       "        vertical-align: top;\n",
       "    }\n",
       "\n",
       "    .dataframe thead th {\n",
       "        text-align: right;\n",
       "    }\n",
       "</style>\n",
       "<table border=\"1\" class=\"dataframe\">\n",
       "  <thead>\n",
       "    <tr style=\"text-align: right;\">\n",
       "      <th></th>\n",
       "      <th>red</th>\n",
       "      <th>elevation_contour</th>\n",
       "      <th>district_name</th>\n",
       "      <th>soil_name</th>\n",
       "      <th>class</th>\n",
       "      <th>id</th>\n",
       "      <th>group_class</th>\n",
       "      <th>year</th>\n",
       "      <th>month</th>\n",
       "      <th>day</th>\n",
       "    </tr>\n",
       "  </thead>\n",
       "  <tbody>\n",
       "    <tr>\n",
       "      <th>0</th>\n",
       "      <td>0.217</td>\n",
       "      <td>1544</td>\n",
       "      <td>2</td>\n",
       "      <td>4</td>\n",
       "      <td>2</td>\n",
       "      <td>986</td>\n",
       "      <td>5</td>\n",
       "      <td>2020</td>\n",
       "      <td>6</td>\n",
       "      <td>4</td>\n",
       "    </tr>\n",
       "    <tr>\n",
       "      <th>1</th>\n",
       "      <td>0.215</td>\n",
       "      <td>1544</td>\n",
       "      <td>2</td>\n",
       "      <td>4</td>\n",
       "      <td>2</td>\n",
       "      <td>986</td>\n",
       "      <td>5</td>\n",
       "      <td>2020</td>\n",
       "      <td>8</td>\n",
       "      <td>3</td>\n",
       "    </tr>\n",
       "    <tr>\n",
       "      <th>2</th>\n",
       "      <td>0.150</td>\n",
       "      <td>1544</td>\n",
       "      <td>2</td>\n",
       "      <td>4</td>\n",
       "      <td>2</td>\n",
       "      <td>986</td>\n",
       "      <td>5</td>\n",
       "      <td>2020</td>\n",
       "      <td>9</td>\n",
       "      <td>2</td>\n",
       "    </tr>\n",
       "    <tr>\n",
       "      <th>3</th>\n",
       "      <td>0.052</td>\n",
       "      <td>1544</td>\n",
       "      <td>2</td>\n",
       "      <td>4</td>\n",
       "      <td>2</td>\n",
       "      <td>987</td>\n",
       "      <td>5</td>\n",
       "      <td>2021</td>\n",
       "      <td>4</td>\n",
       "      <td>10</td>\n",
       "    </tr>\n",
       "    <tr>\n",
       "      <th>4</th>\n",
       "      <td>0.056</td>\n",
       "      <td>1544</td>\n",
       "      <td>2</td>\n",
       "      <td>4</td>\n",
       "      <td>2</td>\n",
       "      <td>987</td>\n",
       "      <td>5</td>\n",
       "      <td>2021</td>\n",
       "      <td>5</td>\n",
       "      <td>5</td>\n",
       "    </tr>\n",
       "    <tr>\n",
       "      <th>...</th>\n",
       "      <td>...</td>\n",
       "      <td>...</td>\n",
       "      <td>...</td>\n",
       "      <td>...</td>\n",
       "      <td>...</td>\n",
       "      <td>...</td>\n",
       "      <td>...</td>\n",
       "      <td>...</td>\n",
       "      <td>...</td>\n",
       "      <td>...</td>\n",
       "    </tr>\n",
       "    <tr>\n",
       "      <th>22923</th>\n",
       "      <td>0.192</td>\n",
       "      <td>672</td>\n",
       "      <td>6</td>\n",
       "      <td>9</td>\n",
       "      <td>4</td>\n",
       "      <td>752</td>\n",
       "      <td>0</td>\n",
       "      <td>2022</td>\n",
       "      <td>5</td>\n",
       "      <td>8</td>\n",
       "    </tr>\n",
       "    <tr>\n",
       "      <th>22924</th>\n",
       "      <td>0.234</td>\n",
       "      <td>672</td>\n",
       "      <td>6</td>\n",
       "      <td>9</td>\n",
       "      <td>4</td>\n",
       "      <td>752</td>\n",
       "      <td>0</td>\n",
       "      <td>2022</td>\n",
       "      <td>6</td>\n",
       "      <td>7</td>\n",
       "    </tr>\n",
       "    <tr>\n",
       "      <th>22925</th>\n",
       "      <td>0.157</td>\n",
       "      <td>672</td>\n",
       "      <td>6</td>\n",
       "      <td>9</td>\n",
       "      <td>4</td>\n",
       "      <td>752</td>\n",
       "      <td>0</td>\n",
       "      <td>2022</td>\n",
       "      <td>7</td>\n",
       "      <td>2</td>\n",
       "    </tr>\n",
       "    <tr>\n",
       "      <th>22926</th>\n",
       "      <td>0.163</td>\n",
       "      <td>672</td>\n",
       "      <td>6</td>\n",
       "      <td>9</td>\n",
       "      <td>4</td>\n",
       "      <td>752</td>\n",
       "      <td>0</td>\n",
       "      <td>2022</td>\n",
       "      <td>8</td>\n",
       "      <td>1</td>\n",
       "    </tr>\n",
       "    <tr>\n",
       "      <th>22927</th>\n",
       "      <td>0.133</td>\n",
       "      <td>672</td>\n",
       "      <td>6</td>\n",
       "      <td>9</td>\n",
       "      <td>4</td>\n",
       "      <td>752</td>\n",
       "      <td>0</td>\n",
       "      <td>2022</td>\n",
       "      <td>10</td>\n",
       "      <td>5</td>\n",
       "    </tr>\n",
       "  </tbody>\n",
       "</table>\n",
       "<p>5698 rows × 10 columns</p>\n",
       "</div>"
      ],
      "text/plain": [
       "         red  elevation_contour  district_name  soil_name  class   id  \\\n",
       "0      0.217               1544              2          4      2  986   \n",
       "1      0.215               1544              2          4      2  986   \n",
       "2      0.150               1544              2          4      2  986   \n",
       "3      0.052               1544              2          4      2  987   \n",
       "4      0.056               1544              2          4      2  987   \n",
       "...      ...                ...            ...        ...    ...  ...   \n",
       "22923  0.192                672              6          9      4  752   \n",
       "22924  0.234                672              6          9      4  752   \n",
       "22925  0.157                672              6          9      4  752   \n",
       "22926  0.163                672              6          9      4  752   \n",
       "22927  0.133                672              6          9      4  752   \n",
       "\n",
       "       group_class  year  month  day  \n",
       "0                5  2020      6    4  \n",
       "1                5  2020      8    3  \n",
       "2                5  2020      9    2  \n",
       "3                5  2021      4   10  \n",
       "4                5  2021      5    5  \n",
       "...            ...   ...    ...  ...  \n",
       "22923            0  2022      5    8  \n",
       "22924            0  2022      6    7  \n",
       "22925            0  2022      7    2  \n",
       "22926            0  2022      8    1  \n",
       "22927            0  2022     10    5  \n",
       "\n",
       "[5698 rows x 10 columns]"
      ]
     },
     "execution_count": 9,
     "metadata": {},
     "output_type": "execute_result"
    }
   ],
   "source": [
    "df"
   ]
  },
  {
   "cell_type": "code",
   "execution_count": 10,
   "metadata": {},
   "outputs": [],
   "source": [
    "# Pivot table\n",
    "pivot_df = df.pivot_table(index='id', columns='month', values='red', aggfunc='mean')\n",
    "\n",
    "# Fill NaN values (assuming you want to fill with zeros, adjust if needed)\n",
    "pivot_df = pivot_df.fillna(0)\n",
    "\n",
    "# Rename columns as needed\n",
    "pivot_df.columns = [f'red_{col}_month' for col in pivot_df.columns]\n",
    "\n",
    "# Reset the index so 'id' becomes a column\n",
    "pivot_df = pivot_df.reset_index()\n",
    "\n",
    "# Assuming each 'id' has a unique 'class', get the 'class' value for each 'id' and add to the pivot dataframe\n",
    "pivot_df['class'] = pivot_df['id'].map(df.drop_duplicates(subset='id').set_index('id')['group_class'])\n",
    "pivot_df['elevation_contour'] = pivot_df['id'].map(df.drop_duplicates(subset='id').set_index('id')['elevation_contour'])\n",
    "pivot_df['district_name'] = pivot_df['id'].map(df.drop_duplicates(subset='id').set_index('id')['district_name'])\n",
    "pivot_df['soil_name'] = pivot_df['id'].map(df.drop_duplicates(subset='id').set_index('id')['soil_name'])\n",
    "\n",
    "# Reordering columns\n",
    "pivot_df = pivot_df[['red_4_month', 'red_5_month', 'red_6_month', 'red_8_month', 'red_9_month', 'id', 'elevation_contour', 'district_name', 'soil_name', 'class']]\n"
   ]
  },
  {
   "cell_type": "code",
   "execution_count": 11,
   "metadata": {},
   "outputs": [],
   "source": [
    "# Splitting the data\n",
    "X = pivot_df.drop(['id', 'class'], axis=1)  # Features excluding 'id' and 'class'\n",
    "y = pivot_df['class']  # Target variable"
   ]
  },
  {
   "cell_type": "code",
   "execution_count": 12,
   "metadata": {},
   "outputs": [],
   "source": [
    "# imputer = KNNImputer(n_neighbors=5)\n",
    "# X = pd.DataFrame(imputer.fit_transform(X), columns=X.columns)"
   ]
  },
  {
   "cell_type": "code",
   "execution_count": 13,
   "metadata": {},
   "outputs": [],
   "source": [
    "class_counts = y.value_counts()\n",
    "\n",
    "# Identify the classes with 99 or fewer samples\n",
    "small_sample_classes = class_counts[class_counts <= 99].index\n",
    "\n",
    "# Create a mask for these classes\n",
    "small_sample_mask = y.isin(small_sample_classes)\n",
    "\n",
    "# Set the values for these classes to 0\n",
    "y[small_sample_mask] = 0"
   ]
  },
  {
   "cell_type": "code",
   "execution_count": 14,
   "metadata": {},
   "outputs": [],
   "source": [
    "class_counts = y.value_counts()\n",
    "single_sample_classes = class_counts[class_counts <= 2].index\n",
    "filter_mask = ~y.isin(single_sample_classes)\n",
    "X = X[filter_mask]\n",
    "y = y[filter_mask]"
   ]
  },
  {
   "cell_type": "code",
   "execution_count": 15,
   "metadata": {},
   "outputs": [
    {
     "name": "stdout",
     "output_type": "stream",
     "text": [
      "Class distribution before undersampling:\n",
      " class\n",
      "0    647\n",
      "5    204\n",
      "1    144\n",
      "Name: count, dtype: int64\n"
     ]
    }
   ],
   "source": [
    "y = pd.Series(y)\n",
    "print('Class distribution before undersampling:\\n', y.value_counts())\n"
   ]
  },
  {
   "cell_type": "code",
   "execution_count": 16,
   "metadata": {},
   "outputs": [],
   "source": [
    "rus = RandomUnderSampler(sampling_strategy='auto')\n",
    "X_undersampled, y_undersampled = rus.fit_resample(X, y)"
   ]
  },
  {
   "cell_type": "code",
   "execution_count": 17,
   "metadata": {},
   "outputs": [
    {
     "name": "stdout",
     "output_type": "stream",
     "text": [
      "Class distribution after undersampling:\n",
      " class\n",
      "0    144\n",
      "1    144\n",
      "5    144\n",
      "Name: count, dtype: int64\n"
     ]
    }
   ],
   "source": [
    "y_undersampled = pd.Series(y_undersampled)\n",
    "print('Class distribution after undersampling:\\n', y_undersampled.value_counts())"
   ]
  },
  {
   "cell_type": "code",
   "execution_count": 18,
   "metadata": {},
   "outputs": [],
   "source": [
    "X_train, X_test, y_train, y_test = train_test_split(X_undersampled, y_undersampled, test_size=0.2, stratify=y_undersampled)"
   ]
  },
  {
   "cell_type": "code",
   "execution_count": 19,
   "metadata": {},
   "outputs": [
    {
     "name": "stdout",
     "output_type": "stream",
     "text": [
      "Fitting 5 folds for each of 100 candidates, totalling 500 fits\n",
      "Best Parameters: {'subsample': 0.8, 'n_estimators': 200, 'max_features': None, 'max_depth': 3, 'learning_rate': 0.5}\n",
      "Best Score: 0.5855072463768116\n",
      "Test Set Score: 0.5172413793103449\n"
     ]
    }
   ],
   "source": [
    "# Defining the parameter grid for GradientBoostingClassifier\n",
    "param_dist = {\n",
    "    'n_estimators': [10, 50, 100, 200, 500],\n",
    "    'learning_rate': [0.001, 0.01, 0.1, 0.5, 1],\n",
    "    'max_depth': [3, 4, 5, 6, 7],\n",
    "    'subsample': [0.6, 0.7, 0.8, 0.9, 1.0],\n",
    "    'max_features': ['sqrt', 'log2', None]\n",
    "}\n",
    "\n",
    "# Instantiating GradientBoostingClassifier\n",
    "gbm = GradientBoostingClassifier()\n",
    "\n",
    "# Setting up RandomizedSearchCV\n",
    "random_search = RandomizedSearchCV(\n",
    "    gbm, param_distributions=param_dist, n_iter=100, scoring='accuracy', \n",
    "    cv=5, verbose=1, n_jobs=-1\n",
    ")\n",
    "\n",
    "# Fitting the RandomizedSearchCV object to the data\n",
    "random_search.fit(X_train, y_train)\n",
    "\n",
    "# Getting the best parameters and the best score\n",
    "print(\"Best Parameters:\", random_search.best_params_)\n",
    "print(\"Best Score:\", random_search.best_score_)\n",
    "\n",
    "# Evaluate on the test set\n",
    "print(\"Test Set Score:\", random_search.score(X_test, y_test))"
   ]
  },
  {
   "cell_type": "code",
   "execution_count": 20,
   "metadata": {},
   "outputs": [
    {
     "name": "stdout",
     "output_type": "stream",
     "text": [
      "Train Set Score: 1.0\n"
     ]
    }
   ],
   "source": [
    "print(\"Train Set Score:\", random_search.score(X_train, y_train))"
   ]
  }
 ],
 "metadata": {
  "kernelspec": {
   "display_name": "venv",
   "language": "python",
   "name": "python3"
  },
  "language_info": {
   "codemirror_mode": {
    "name": "ipython",
    "version": 3
   },
   "file_extension": ".py",
   "mimetype": "text/x-python",
   "name": "python",
   "nbconvert_exporter": "python",
   "pygments_lexer": "ipython3",
   "version": "3.10.12"
  }
 },
 "nbformat": 4,
 "nbformat_minor": 2
}
