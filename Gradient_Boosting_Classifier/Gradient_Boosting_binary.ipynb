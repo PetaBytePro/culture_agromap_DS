{
 "cells": [
  {
   "cell_type": "code",
   "execution_count": 8,
   "metadata": {},
   "outputs": [],
   "source": [
    "import numpy as np\n",
    "import pandas as pd\n",
    "from sklearn.model_selection import train_test_split, cross_val_score, RandomizedSearchCV\n",
    "from sklearn.ensemble import GradientBoostingClassifier\n",
    "from sklearn.metrics import accuracy_score, precision_score, recall_score, f1_score, roc_auc_score, mean_squared_error\n",
    "from sklearn.preprocessing import LabelEncoder\n",
    "from sklearn.impute import KNNImputer\n",
    "import re\n",
    "import matplotlib.pyplot as plt\n",
    "import seaborn as sns\n",
    "from scipy.stats import chi2_contingency\n",
    "from sklearn.svm import SVC\n",
    "\n",
    "%matplotlib inline\n",
    "# ignore warnings\n",
    "import warnings\n",
    "warnings.filterwarnings(\"ignore\")\n"
   ]
  },
  {
   "cell_type": "code",
   "execution_count": 9,
   "metadata": {},
   "outputs": [],
   "source": [
    "df = pd.read_json('./data/dataSet_Culture_06102023-POINT.json')"
   ]
  },
  {
   "cell_type": "code",
   "execution_count": 11,
   "metadata": {},
   "outputs": [],
   "source": [
    "# Splitting the data\n",
    "X = df.drop(['class'], axis=1)  # Features excluding 'id' and 'class'\n",
    "y = df['class']  # Target variable"
   ]
  },
  {
   "cell_type": "code",
   "execution_count": 7,
   "metadata": {},
   "outputs": [],
   "source": [
    "class_counts = y.value_counts()\n",
    "\n",
    "# Identify the classes with 99 or fewer samples\n",
    "small_sample_classes = class_counts[class_counts <= 99].index\n",
    "\n",
    "# Create a mask for these classes\n",
    "small_sample_mask = y.isin(small_sample_classes)\n",
    "\n",
    "# Set the values for these classes to 0\n",
    "y[small_sample_mask] = 0"
   ]
  },
  {
   "cell_type": "code",
   "execution_count": 11,
   "metadata": {},
   "outputs": [],
   "source": [
    "class_counts = y.value_counts()\n",
    "single_sample_classes = class_counts[class_counts <= 2].index\n",
    "filter_mask = ~y.isin(single_sample_classes)\n",
    "X = X[filter_mask]\n",
    "y = y[filter_mask]"
   ]
  },
  {
   "cell_type": "code",
   "execution_count": 12,
   "metadata": {},
   "outputs": [
    {
     "data": {
      "text/plain": [
       "class\n",
       "3    29\n",
       "2    27\n",
       "4    24\n",
       "5    20\n",
       "1    15\n",
       "6     9\n",
       "Name: count, dtype: int64"
      ]
     },
     "execution_count": 12,
     "metadata": {},
     "output_type": "execute_result"
    }
   ],
   "source": [
    "y.value_counts()"
   ]
  },
  {
   "cell_type": "code",
   "execution_count": 13,
   "metadata": {},
   "outputs": [],
   "source": [
    "X_train, X_test, y_train, y_test = train_test_split(X, y, test_size=0.3, stratify=y)"
   ]
  },
  {
   "cell_type": "code",
   "execution_count": 14,
   "metadata": {},
   "outputs": [],
   "source": [
    "imputer = KNNImputer(n_neighbors=5)\n",
    "X_train = pd.DataFrame(imputer.fit_transform(X_train), columns=X_train.columns)\n",
    "X_test = pd.DataFrame(imputer.transform(X_test), columns=X_test.columns)"
   ]
  },
  {
   "cell_type": "code",
   "execution_count": 15,
   "metadata": {},
   "outputs": [
    {
     "name": "stdout",
     "output_type": "stream",
     "text": [
      "Fitting 5 folds for each of 200 candidates, totalling 1000 fits\n"
     ]
    },
    {
     "name": "stdout",
     "output_type": "stream",
     "text": [
      "Class 1 - Best Parameters: {'subsample': 0.6, 'n_estimators': 500, 'max_features': 'log2', 'max_depth': 6, 'learning_rate': 0.1}\n",
      "Class 1 - Best CV Score: 0.8954248366013072\n",
      "Class 1 - Test Set Score: 0.868421052631579\n",
      "Fitting 5 folds for each of 200 candidates, totalling 1000 fits\n",
      "Class 2 - Best Parameters: {'subsample': 0.7, 'n_estimators': 50, 'max_features': 'log2', 'max_depth': 7, 'learning_rate': 0.01}\n",
      "Class 2 - Best CV Score: 0.7790849673202614\n",
      "Class 2 - Test Set Score: 0.7894736842105263\n",
      "Fitting 5 folds for each of 200 candidates, totalling 1000 fits\n",
      "Class 3 - Best Parameters: {'subsample': 0.7, 'n_estimators': 50, 'max_features': 'sqrt', 'max_depth': 4, 'learning_rate': 0.05}\n",
      "Class 3 - Best CV Score: 0.7908496732026145\n",
      "Class 3 - Test Set Score: 0.8157894736842105\n",
      "Fitting 5 folds for each of 200 candidates, totalling 1000 fits\n",
      "Class 4 - Best Parameters: {'subsample': 1.0, 'n_estimators': 50, 'max_features': 'sqrt', 'max_depth': 3, 'learning_rate': 0.1}\n",
      "Class 4 - Best CV Score: 0.8143790849673203\n",
      "Class 4 - Test Set Score: 0.7894736842105263\n",
      "Fitting 5 folds for each of 200 candidates, totalling 1000 fits\n",
      "Class 5 - Best Parameters: {'subsample': 0.9, 'n_estimators': 100, 'max_features': 'sqrt', 'max_depth': 7, 'learning_rate': 0.01}\n",
      "Class 5 - Best CV Score: 0.8490196078431372\n",
      "Class 5 - Test Set Score: 0.8421052631578947\n",
      "Fitting 5 folds for each of 200 candidates, totalling 1000 fits\n",
      "Class 6 - Best Parameters: {'subsample': 0.9, 'n_estimators': 50, 'max_features': 'log2', 'max_depth': 4, 'learning_rate': 0.1}\n",
      "Class 6 - Best CV Score: 0.9424836601307189\n",
      "Class 6 - Test Set Score: 0.9473684210526315\n"
     ]
    }
   ],
   "source": [
    "from sklearn.ensemble import GradientBoostingClassifier\n",
    "from sklearn.model_selection import RandomizedSearchCV\n",
    "from sklearn.metrics import accuracy_score\n",
    "\n",
    "# Assuming X_train, X_test, y_train, y_test are already defined\n",
    "unique_classes = set(y_train)\n",
    "binary_classifications = {}\n",
    "evaluation_metrics = {}\n",
    "trained_classifiers = {}\n",
    "\n",
    "param_dist = {\n",
    "    # Your hyperparameters grid here\n",
    "    # For example:\n",
    "    'n_estimators': [50, 100, 200, 500],\n",
    "    'learning_rate': [0.01, 0.05, 0.1],\n",
    "    'max_depth': [3, 4, 5, 6, 7],\n",
    "    'max_features': ['log2', 'sqrt', None],\n",
    "    'subsample': [0.6, 0.7, 0.8, 0.9, 1.0]\n",
    "}\n",
    "\n",
    "for u_class in unique_classes:\n",
    "    # Convert the labels for one-vs-all classification\n",
    "    y_train_binary = [1 if label == u_class else 0 for label in y_train]\n",
    "    y_test_binary = [1 if label == u_class else 0 for label in y_test]\n",
    "\n",
    "    # Train a Gradient Boosting classifier using Randomized Search CV\n",
    "    gbm = GradientBoostingClassifier()\n",
    "    random_search = RandomizedSearchCV(\n",
    "        gbm, param_distributions=param_dist, n_iter=200, scoring='accuracy', \n",
    "        cv=5, verbose=1, n_jobs=-1\n",
    "    )\n",
    "    random_search.fit(X_train, y_train_binary)\n",
    "    \n",
    "    # Storing the trained classifier\n",
    "    trained_classifiers[u_class] = random_search.best_estimator_\n",
    "    \n",
    "    # Evaluate on the test set\n",
    "    y_pred = random_search.predict(X_test)\n",
    "    test_accuracy = accuracy_score(y_test_binary, y_pred)\n",
    "    evaluation_metrics[u_class] = {\n",
    "        \"Best Parameters\": random_search.best_params_,\n",
    "        \"Best CV Score\": random_search.best_score_,\n",
    "        \"Test Accuracy\": test_accuracy\n",
    "    }\n",
    "\n",
    "    # Print results\n",
    "    print(f\"Class {u_class} - Best Parameters:\", random_search.best_params_)\n",
    "    print(f\"Class {u_class} - Best CV Score:\", random_search.best_score_)\n",
    "    print(f\"Class {u_class} - Test Set Score:\", test_accuracy)\n"
   ]
  },
  {
   "cell_type": "code",
   "execution_count": 16,
   "metadata": {},
   "outputs": [
    {
     "data": {
      "text/plain": [
       "{1: GradientBoostingClassifier(max_depth=6, max_features='log2', n_estimators=500,\n",
       "                            subsample=0.6),\n",
       " 2: GradientBoostingClassifier(learning_rate=0.01, max_depth=7, max_features='log2',\n",
       "                            n_estimators=50, subsample=0.7),\n",
       " 3: GradientBoostingClassifier(learning_rate=0.05, max_depth=4, max_features='sqrt',\n",
       "                            n_estimators=50, subsample=0.7),\n",
       " 4: GradientBoostingClassifier(max_features='sqrt', n_estimators=50),\n",
       " 5: GradientBoostingClassifier(learning_rate=0.01, max_depth=7, max_features='sqrt',\n",
       "                            subsample=0.9),\n",
       " 6: GradientBoostingClassifier(max_depth=4, max_features='log2', n_estimators=50,\n",
       "                            subsample=0.9)}"
      ]
     },
     "execution_count": 16,
     "metadata": {},
     "output_type": "execute_result"
    }
   ],
   "source": [
    "trained_classifiers"
   ]
  },
  {
   "cell_type": "code",
   "execution_count": 17,
   "metadata": {},
   "outputs": [],
   "source": [
    "probabilities_batch = {u_class: [] for u_class in trained_classifiers.keys()}\n",
    "\n",
    "for u_class, gbm in trained_classifiers.items():\n",
    "    probs = gbm.predict_proba(X_test)[:, 1]\n",
    "    probabilities_batch[u_class] = probs\n",
    "\n",
    "final_class_predictions = []\n",
    "for i in range(len(X_test)):\n",
    "    final_class = max(probabilities_batch, key=lambda x: probabilities_batch[x][i])\n",
    "    final_class_predictions.append(final_class)"
   ]
  },
  {
   "cell_type": "code",
   "execution_count": 18,
   "metadata": {},
   "outputs": [
    {
     "data": {
      "text/plain": [
       "0.4473684210526316"
      ]
     },
     "execution_count": 18,
     "metadata": {},
     "output_type": "execute_result"
    }
   ],
   "source": [
    "accuracy_score(final_class_predictions, y_test)"
   ]
  },
  {
   "cell_type": "code",
   "execution_count": 19,
   "metadata": {},
   "outputs": [],
   "source": [
    "probabilities_batch = {u_class: [] for u_class in trained_classifiers.keys()}\n",
    "\n",
    "for u_class, gbm in trained_classifiers.items():\n",
    "    probs = gbm.predict_proba(X_train)[:, 1]\n",
    "    probabilities_batch[u_class] = probs\n",
    "\n",
    "final_class_predictions = []\n",
    "for i in range(len(X_train)):\n",
    "    final_class = max(probabilities_batch, key=lambda x: probabilities_batch[x][i])\n",
    "    final_class_predictions.append(final_class)"
   ]
  },
  {
   "cell_type": "code",
   "execution_count": 20,
   "metadata": {},
   "outputs": [
    {
     "data": {
      "text/plain": [
       "1.0"
      ]
     },
     "execution_count": 20,
     "metadata": {},
     "output_type": "execute_result"
    }
   ],
   "source": [
    "accuracy_score(final_class_predictions, y_train)"
   ]
  },
  {
   "cell_type": "code",
   "execution_count": null,
   "metadata": {},
   "outputs": [],
   "source": []
  }
 ],
 "metadata": {
  "kernelspec": {
   "display_name": "Python 3 (ipykernel)",
   "language": "python",
   "name": "python3"
  },
  "language_info": {
   "codemirror_mode": {
    "name": "ipython",
    "version": 3
   },
   "file_extension": ".py",
   "mimetype": "text/x-python",
   "name": "python",
   "nbconvert_exporter": "python",
   "pygments_lexer": "ipython3",
   "version": "3.10.12"
  }
 },
 "nbformat": 4,
 "nbformat_minor": 2
}
