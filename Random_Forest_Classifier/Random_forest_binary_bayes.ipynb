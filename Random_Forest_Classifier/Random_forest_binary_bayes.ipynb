{
 "cells": [
  {
   "cell_type": "code",
   "execution_count": 5,
   "metadata": {},
   "outputs": [],
   "source": [
    "import numpy as np\n",
    "import pandas as pd\n",
    "from sklearn.model_selection import train_test_split\n",
    "from sklearn.ensemble import RandomForestClassifier\n",
    "from sklearn.preprocessing import LabelEncoder\n",
    "from sklearn.impute import KNNImputer\n",
    "import matplotlib.pyplot as plt\n",
    "from imblearn.over_sampling import SMOTE\n",
    "from imblearn.under_sampling import RandomUnderSampler\n",
    "from bayes_opt import BayesianOptimization\n",
    "\n",
    "%matplotlib inline\n",
    "# ignore warnings\n",
    "import warnings\n",
    "warnings.filterwarnings(\"ignore\")"
   ]
  },
  {
   "cell_type": "code",
   "execution_count": 6,
   "metadata": {},
   "outputs": [],
   "source": [
    "df = pd.read_csv('./felix_cleaned.csv')"
   ]
  },
  {
   "cell_type": "code",
   "execution_count": 7,
   "metadata": {},
   "outputs": [],
   "source": [
    "# Splitting the data\n",
    "X = df.drop(['class'], axis=1)  # Features excluding 'id' and 'class'\n",
    "y = df['class']  # Target variable"
   ]
  },
  {
   "cell_type": "code",
   "execution_count": 8,
   "metadata": {},
   "outputs": [],
   "source": [
    "X_train, X_test, y_train, y_test = train_test_split(X, y, test_size=0.2, stratify=y)"
   ]
  },
  {
   "cell_type": "code",
   "execution_count": 9,
   "metadata": {},
   "outputs": [
    {
     "name": "stdout",
     "output_type": "stream",
     "text": [
      "|   iter    |  target   | max_depth | max_fe... | min_sa... | n_esti... |\n",
      "-------------------------------------------------------------------------\n",
      "| \u001b[0m1        \u001b[0m | \u001b[0m-2.189   \u001b[0m | \u001b[0m21.43    \u001b[0m | \u001b[0m0.7476   \u001b[0m | \u001b[0m2.003    \u001b[0m | \u001b[0m82.56    \u001b[0m |\n",
      "| \u001b[95m2        \u001b[0m | \u001b[95m-1.471   \u001b[0m | \u001b[95m8.191    \u001b[0m | \u001b[95m0.183    \u001b[0m | \u001b[95m6.284    \u001b[0m | \u001b[95m92.93    \u001b[0m |\n",
      "| \u001b[0m3        \u001b[0m | \u001b[0m-1.529   \u001b[0m | \u001b[0m20.44    \u001b[0m | \u001b[0m0.5844   \u001b[0m | \u001b[0m11.64    \u001b[0m | \u001b[0m174.5    \u001b[0m |\n",
      "| \u001b[0m4        \u001b[0m | \u001b[0m-1.844   \u001b[0m | \u001b[0m11.02    \u001b[0m | \u001b[0m0.8894   \u001b[0m | \u001b[0m2.63     \u001b[0m | \u001b[0m170.9    \u001b[0m |\n",
      "| \u001b[0m5        \u001b[0m | \u001b[0m-2.215   \u001b[0m | \u001b[0m21.45    \u001b[0m | \u001b[0m0.6023   \u001b[0m | \u001b[0m5.229    \u001b[0m | \u001b[0m57.54    \u001b[0m |\n",
      "| \u001b[0m6        \u001b[0m | \u001b[0m-1.844   \u001b[0m | \u001b[0m8.084    \u001b[0m | \u001b[0m0.5801   \u001b[0m | \u001b[0m6.753    \u001b[0m | \u001b[0m94.25    \u001b[0m |\n",
      "| \u001b[0m7        \u001b[0m | \u001b[0m-1.523   \u001b[0m | \u001b[0m20.09    \u001b[0m | \u001b[0m0.8619   \u001b[0m | \u001b[0m12.61    \u001b[0m | \u001b[0m174.4    \u001b[0m |\n",
      "| \u001b[0m8        \u001b[0m | \u001b[0m-1.827   \u001b[0m | \u001b[0m7.341    \u001b[0m | \u001b[0m0.4358   \u001b[0m | \u001b[0m4.366    \u001b[0m | \u001b[0m91.23    \u001b[0m |\n",
      "| \u001b[95m9        \u001b[0m | \u001b[95m-1.466   \u001b[0m | \u001b[95m9.0      \u001b[0m | \u001b[95m0.1      \u001b[0m | \u001b[95m6.799    \u001b[0m | \u001b[95m91.74    \u001b[0m |\n",
      "| \u001b[95m10       \u001b[0m | \u001b[95m-1.442   \u001b[0m | \u001b[95m18.47    \u001b[0m | \u001b[95m0.2001   \u001b[0m | \u001b[95m10.88    \u001b[0m | \u001b[95m175.8    \u001b[0m |\n",
      "| \u001b[0m11       \u001b[0m | \u001b[0m-1.465   \u001b[0m | \u001b[0m16.24    \u001b[0m | \u001b[0m0.2795   \u001b[0m | \u001b[0m11.08    \u001b[0m | \u001b[0m174.5    \u001b[0m |\n",
      "| \u001b[0m12       \u001b[0m | \u001b[0m-1.447   \u001b[0m | \u001b[0m16.79    \u001b[0m | \u001b[0m0.2007   \u001b[0m | \u001b[0m12.9     \u001b[0m | \u001b[0m176.3    \u001b[0m |\n",
      "| \u001b[0m13       \u001b[0m | \u001b[0m-1.562   \u001b[0m | \u001b[0m17.89    \u001b[0m | \u001b[0m0.8779   \u001b[0m | \u001b[0m10.53    \u001b[0m | \u001b[0m178.8    \u001b[0m |\n",
      "| \u001b[0m14       \u001b[0m | \u001b[0m-1.488   \u001b[0m | \u001b[0m14.95    \u001b[0m | \u001b[0m0.1      \u001b[0m | \u001b[0m10.52    \u001b[0m | \u001b[0m177.1    \u001b[0m |\n",
      "| \u001b[0m15       \u001b[0m | \u001b[0m-1.472   \u001b[0m | \u001b[0m17.08    \u001b[0m | \u001b[0m0.264    \u001b[0m | \u001b[0m8.027    \u001b[0m | \u001b[0m174.0    \u001b[0m |\n",
      "| \u001b[0m16       \u001b[0m | \u001b[0m-2.143   \u001b[0m | \u001b[0m17.4     \u001b[0m | \u001b[0m0.8968   \u001b[0m | \u001b[0m6.487    \u001b[0m | \u001b[0m177.9    \u001b[0m |\n",
      "| \u001b[0m17       \u001b[0m | \u001b[0m-1.498   \u001b[0m | \u001b[0m17.92    \u001b[0m | \u001b[0m0.4542   \u001b[0m | \u001b[0m11.12    \u001b[0m | \u001b[0m171.9    \u001b[0m |\n",
      "| \u001b[0m18       \u001b[0m | \u001b[0m-1.519   \u001b[0m | \u001b[0m14.29    \u001b[0m | \u001b[0m0.5925   \u001b[0m | \u001b[0m9.798    \u001b[0m | \u001b[0m172.4    \u001b[0m |\n",
      "| \u001b[0m19       \u001b[0m | \u001b[0m-1.489   \u001b[0m | \u001b[0m16.21    \u001b[0m | \u001b[0m0.3124   \u001b[0m | \u001b[0m12.95    \u001b[0m | \u001b[0m180.3    \u001b[0m |\n",
      "| \u001b[0m20       \u001b[0m | \u001b[0m-1.902   \u001b[0m | \u001b[0m18.87    \u001b[0m | \u001b[0m0.7236   \u001b[0m | \u001b[0m6.874    \u001b[0m | \u001b[0m171.1    \u001b[0m |\n",
      "=========================================================================\n",
      "Test Log Loss: 1.5698452998382169\n"
     ]
    }
   ],
   "source": [
    "from sklearn.ensemble import RandomForestClassifier\n",
    "from sklearn.model_selection import cross_val_score\n",
    "from bayes_opt import BayesianOptimization\n",
    "from sklearn.metrics import log_loss\n",
    "\n",
    "# Objective function using log loss\n",
    "def objective_log_loss(n_estimators, max_depth, min_samples_split, max_features):\n",
    "    model = RandomForestClassifier(\n",
    "        n_estimators=int(n_estimators),\n",
    "        max_depth=int(max_depth),\n",
    "        min_samples_split=int(min_samples_split),\n",
    "        max_features=min(max_features, 0.999),  # Fraction, must be <= 1.0\n",
    "    )\n",
    "    # Use negative log loss as the scoring parameter\n",
    "    return cross_val_score(model, X_train, y_train, cv=3, scoring='neg_log_loss').mean()\n",
    "\n",
    "# Hyperparameters bounds for Bayesian optimization\n",
    "param_bounds = {\n",
    "    'n_estimators': (10, 250),\n",
    "    'max_depth': (1, 50),\n",
    "    'min_samples_split': (2, 25),\n",
    "    'max_features': (0.1, 0.999),\n",
    "}\n",
    "\n",
    "# Bayesian optimization\n",
    "optimizer_log_loss = BayesianOptimization(f=objective_log_loss, pbounds=param_bounds, random_state=1)\n",
    "optimizer_log_loss.maximize(init_points=5, n_iter=15)\n",
    "\n",
    "# Best parameters found\n",
    "best_params_log_loss = optimizer_log_loss.max['params']\n",
    "\n",
    "# Retrain the model with the best parameters\n",
    "optimized_rf_log_loss = RandomForestClassifier(\n",
    "    n_estimators=int(best_params_log_loss['n_estimators']),\n",
    "    max_depth=int(best_params_log_loss['max_depth']),\n",
    "    min_samples_split=int(best_params_log_loss['min_samples_split']),\n",
    "    max_features=best_params_log_loss['max_features']\n",
    ")\n",
    "optimized_rf_log_loss.fit(X_train, y_train)\n",
    "\n",
    "# Predict probabilities for the test set\n",
    "y_pred_probs = optimized_rf_log_loss.predict_proba(X_test)\n",
    "\n",
    "# Calculate and print the log loss for the test set\n",
    "test_log_loss = log_loss(y_test, y_pred_probs)\n",
    "print(f'Test Log Loss: {test_log_loss}')\n"
   ]
  },
  {
   "cell_type": "code",
   "execution_count": null,
   "metadata": {},
   "outputs": [],
   "source": []
  }
 ],
 "metadata": {
  "kernelspec": {
   "display_name": "venv",
   "language": "python",
   "name": "python3"
  },
  "language_info": {
   "codemirror_mode": {
    "name": "ipython",
    "version": 3
   },
   "file_extension": ".py",
   "mimetype": "text/x-python",
   "name": "python",
   "nbconvert_exporter": "python",
   "pygments_lexer": "ipython3",
   "version": "3.10.12"
  }
 },
 "nbformat": 4,
 "nbformat_minor": 2
}
