{
 "cells": [
  {
   "cell_type": "code",
   "execution_count": 3,
   "metadata": {},
   "outputs": [],
   "source": [
    "from sklearn.model_selection import train_test_split, RandomizedSearchCV\n",
    "from sklearn.ensemble import RandomForestClassifier\n",
    "# from xgboost import XGBClassifier\n",
    "# from sklearn.metrics import accuracy_score, classification_report\n",
    "\n",
    "from sklearn.impute import KNNImputer\n",
    "\n",
    "import pandas as pd\n",
    "import numpy as np\n",
    "# import matplotlib.pyplot as plt\n",
    "# import seaborn as sns\n",
    "%matplotlib inline"
   ]
  },
  {
   "cell_type": "code",
   "execution_count": 4,
   "metadata": {},
   "outputs": [],
   "source": [
    "df = pd.read_json('data/dataSet_Culture_21112023.json')"
   ]
  },
  {
   "cell_type": "code",
   "execution_count": 5,
   "metadata": {},
   "outputs": [
    {
     "data": {
      "text/plain": [
       "array(['Ячмень', 'Люцерна', 'Пшеница', 'Кукуруза', 'Свекла', 'Соя',\n",
       "       'Томат', 'Картофель', 'Софлор', 'Лук', 'Клевер', 'Сил'],\n",
       "      dtype=object)"
      ]
     },
     "execution_count": 5,
     "metadata": {},
     "output_type": "execute_result"
    }
   ],
   "source": [
    "df['culture_name'].unique()"
   ]
  },
  {
   "cell_type": "code",
   "execution_count": 6,
   "metadata": {},
   "outputs": [
    {
     "data": {
      "text/html": [
       "<div>\n",
       "<style scoped>\n",
       "    .dataframe tbody tr th:only-of-type {\n",
       "        vertical-align: middle;\n",
       "    }\n",
       "\n",
       "    .dataframe tbody tr th {\n",
       "        vertical-align: top;\n",
       "    }\n",
       "\n",
       "    .dataframe thead th {\n",
       "        text-align: right;\n",
       "    }\n",
       "</style>\n",
       "<table border=\"1\" class=\"dataframe\">\n",
       "  <thead>\n",
       "    <tr style=\"text-align: right;\">\n",
       "      <th></th>\n",
       "      <th>index_month_4</th>\n",
       "      <th>index_month_5</th>\n",
       "      <th>index_month_6</th>\n",
       "      <th>index_month_7</th>\n",
       "      <th>index_month_8</th>\n",
       "      <th>elevation</th>\n",
       "      <th>culture_name</th>\n",
       "    </tr>\n",
       "  </thead>\n",
       "  <tbody>\n",
       "    <tr>\n",
       "      <th>0</th>\n",
       "      <td>-0.047</td>\n",
       "      <td>-0.298</td>\n",
       "      <td>-0.293</td>\n",
       "      <td>0.148</td>\n",
       "      <td>0.105</td>\n",
       "      <td>724</td>\n",
       "      <td>Ячмень</td>\n",
       "    </tr>\n",
       "    <tr>\n",
       "      <th>1</th>\n",
       "      <td>0.016</td>\n",
       "      <td>0.270</td>\n",
       "      <td>0.298</td>\n",
       "      <td>0.260</td>\n",
       "      <td>0.757</td>\n",
       "      <td>729</td>\n",
       "      <td>Люцерна</td>\n",
       "    </tr>\n",
       "    <tr>\n",
       "      <th>2</th>\n",
       "      <td>-0.034</td>\n",
       "      <td>-0.258</td>\n",
       "      <td>-0.017</td>\n",
       "      <td>0.131</td>\n",
       "      <td>-0.086</td>\n",
       "      <td>626</td>\n",
       "      <td>Пшеница</td>\n",
       "    </tr>\n",
       "    <tr>\n",
       "      <th>3</th>\n",
       "      <td>0.068</td>\n",
       "      <td>-0.186</td>\n",
       "      <td>-0.112</td>\n",
       "      <td>0.286</td>\n",
       "      <td>0.120</td>\n",
       "      <td>619</td>\n",
       "      <td>Люцерна</td>\n",
       "    </tr>\n",
       "    <tr>\n",
       "      <th>4</th>\n",
       "      <td>0.110</td>\n",
       "      <td>0.439</td>\n",
       "      <td>-0.300</td>\n",
       "      <td>-0.020</td>\n",
       "      <td>0.211</td>\n",
       "      <td>966</td>\n",
       "      <td>Пшеница</td>\n",
       "    </tr>\n",
       "    <tr>\n",
       "      <th>...</th>\n",
       "      <td>...</td>\n",
       "      <td>...</td>\n",
       "      <td>...</td>\n",
       "      <td>...</td>\n",
       "      <td>...</td>\n",
       "      <td>...</td>\n",
       "      <td>...</td>\n",
       "    </tr>\n",
       "    <tr>\n",
       "      <th>303</th>\n",
       "      <td>0.058</td>\n",
       "      <td>-0.223</td>\n",
       "      <td>0.284</td>\n",
       "      <td>NaN</td>\n",
       "      <td>0.187</td>\n",
       "      <td>770</td>\n",
       "      <td>Ячмень</td>\n",
       "    </tr>\n",
       "    <tr>\n",
       "      <th>304</th>\n",
       "      <td>0.013</td>\n",
       "      <td>0.042</td>\n",
       "      <td>0.054</td>\n",
       "      <td>NaN</td>\n",
       "      <td>0.035</td>\n",
       "      <td>763</td>\n",
       "      <td>Ячмень</td>\n",
       "    </tr>\n",
       "    <tr>\n",
       "      <th>305</th>\n",
       "      <td>0.028</td>\n",
       "      <td>0.006</td>\n",
       "      <td>0.064</td>\n",
       "      <td>NaN</td>\n",
       "      <td>0.037</td>\n",
       "      <td>940</td>\n",
       "      <td>Ячмень</td>\n",
       "    </tr>\n",
       "    <tr>\n",
       "      <th>306</th>\n",
       "      <td>-0.059</td>\n",
       "      <td>0.132</td>\n",
       "      <td>0.147</td>\n",
       "      <td>NaN</td>\n",
       "      <td>0.061</td>\n",
       "      <td>940</td>\n",
       "      <td>Ячмень</td>\n",
       "    </tr>\n",
       "    <tr>\n",
       "      <th>307</th>\n",
       "      <td>0.132</td>\n",
       "      <td>-0.311</td>\n",
       "      <td>0.010</td>\n",
       "      <td>NaN</td>\n",
       "      <td>0.460</td>\n",
       "      <td>1147</td>\n",
       "      <td>Свекла</td>\n",
       "    </tr>\n",
       "  </tbody>\n",
       "</table>\n",
       "<p>308 rows × 7 columns</p>\n",
       "</div>"
      ],
      "text/plain": [
       "     index_month_4  index_month_5  index_month_6  index_month_7  \\\n",
       "0           -0.047         -0.298         -0.293          0.148   \n",
       "1            0.016          0.270          0.298          0.260   \n",
       "2           -0.034         -0.258         -0.017          0.131   \n",
       "3            0.068         -0.186         -0.112          0.286   \n",
       "4            0.110          0.439         -0.300         -0.020   \n",
       "..             ...            ...            ...            ...   \n",
       "303          0.058         -0.223          0.284            NaN   \n",
       "304          0.013          0.042          0.054            NaN   \n",
       "305          0.028          0.006          0.064            NaN   \n",
       "306         -0.059          0.132          0.147            NaN   \n",
       "307          0.132         -0.311          0.010            NaN   \n",
       "\n",
       "     index_month_8  elevation culture_name  \n",
       "0            0.105        724       Ячмень  \n",
       "1            0.757        729      Люцерна  \n",
       "2           -0.086        626      Пшеница  \n",
       "3            0.120        619      Люцерна  \n",
       "4            0.211        966      Пшеница  \n",
       "..             ...        ...          ...  \n",
       "303          0.187        770       Ячмень  \n",
       "304          0.035        763       Ячмень  \n",
       "305          0.037        940       Ячмень  \n",
       "306          0.061        940       Ячмень  \n",
       "307          0.460       1147       Свекла  \n",
       "\n",
       "[308 rows x 7 columns]"
      ]
     },
     "execution_count": 6,
     "metadata": {},
     "output_type": "execute_result"
    }
   ],
   "source": [
    "df"
   ]
  },
  {
   "cell_type": "code",
   "execution_count": 7,
   "metadata": {},
   "outputs": [],
   "source": [
    "codes, uniques = pd.factorize(df['culture_name'])\n",
    "df['culture_name'] = codes"
   ]
  },
  {
   "cell_type": "code",
   "execution_count": 8,
   "metadata": {},
   "outputs": [
    {
     "name": "stdout",
     "output_type": "stream",
     "text": [
      "{'Ячмень': 0, 'Люцерна': 1, 'Пшеница': 2, 'Кукуруза': 3, 'Свекла': 4, 'Соя': 5, 'Томат': 6, 'Картофель': 7, 'Софлор': 8, 'Лук': 9, 'Клевер': 10, 'Сил': 11}\n"
     ]
    }
   ],
   "source": [
    "culture_id_map = {name: id for id, name in enumerate(uniques)}\n",
    "print(culture_id_map)"
   ]
  },
  {
   "cell_type": "code",
   "execution_count": 9,
   "metadata": {},
   "outputs": [],
   "source": [
    "# df = df[(df['culture_name'] == 2) | (df['culture_name'] == 3) | (df['culture_name'] == 0)]"
   ]
  },
  {
   "cell_type": "code",
   "execution_count": 10,
   "metadata": {},
   "outputs": [
    {
     "data": {
      "text/plain": [
       "array([ 0,  1,  2,  3,  4,  5,  6,  7,  8,  9, 10, 11])"
      ]
     },
     "execution_count": 10,
     "metadata": {},
     "output_type": "execute_result"
    }
   ],
   "source": [
    "df['culture_name'].unique()"
   ]
  },
  {
   "cell_type": "code",
   "execution_count": 20,
   "metadata": {},
   "outputs": [
    {
     "data": {
      "text/plain": [
       "True"
      ]
     },
     "execution_count": 20,
     "metadata": {},
     "output_type": "execute_result"
    }
   ],
   "source": []
  },
  {
   "cell_type": "code",
   "execution_count": 37,
   "metadata": {},
   "outputs": [],
   "source": [
    "imputer = KNNImputer(n_neighbors=5)\n",
    "df = pd.DataFrame(imputer.fit_transform(df), columns=df.columns)"
   ]
  },
  {
   "cell_type": "code",
   "execution_count": null,
   "metadata": {},
   "outputs": [],
   "source": []
  },
  {
   "cell_type": "code",
   "execution_count": 92,
   "metadata": {},
   "outputs": [],
   "source": [
    "# Splitting the dfset into features (X) and target (y)\n",
    "X = df.drop('culture_name', axis=1)\n",
    "y = df['culture_name']\n",
    "\n",
    "# Splitting the dfset into training and testing sets\n",
    "X_train, X_test, y_train, y_test = train_test_split(X, y, test_size=0.2)"
   ]
  },
  {
   "cell_type": "code",
   "execution_count": 93,
   "metadata": {},
   "outputs": [
    {
     "data": {
      "text/plain": [
       "index_month_4    0\n",
       "index_month_5    0\n",
       "index_month_6    0\n",
       "index_month_7    0\n",
       "index_month_8    0\n",
       "elevation        0\n",
       "culture_name     0\n",
       "dtype: int64"
      ]
     },
     "execution_count": 93,
     "metadata": {},
     "output_type": "execute_result"
    }
   ],
   "source": [
    "df.isnull().sum()"
   ]
  },
  {
   "cell_type": "code",
   "execution_count": 94,
   "metadata": {},
   "outputs": [],
   "source": [
    "df['culture_name'] = df['culture_name'].astype(int)"
   ]
  },
  {
   "cell_type": "code",
   "execution_count": 95,
   "metadata": {},
   "outputs": [
    {
     "data": {
      "text/html": [
       "<div>\n",
       "<style scoped>\n",
       "    .dataframe tbody tr th:only-of-type {\n",
       "        vertical-align: middle;\n",
       "    }\n",
       "\n",
       "    .dataframe tbody tr th {\n",
       "        vertical-align: top;\n",
       "    }\n",
       "\n",
       "    .dataframe thead th {\n",
       "        text-align: right;\n",
       "    }\n",
       "</style>\n",
       "<table border=\"1\" class=\"dataframe\">\n",
       "  <thead>\n",
       "    <tr style=\"text-align: right;\">\n",
       "      <th></th>\n",
       "      <th>index_month_4</th>\n",
       "      <th>index_month_5</th>\n",
       "      <th>index_month_6</th>\n",
       "      <th>index_month_7</th>\n",
       "      <th>index_month_8</th>\n",
       "      <th>elevation</th>\n",
       "      <th>culture_name</th>\n",
       "    </tr>\n",
       "  </thead>\n",
       "  <tbody>\n",
       "    <tr>\n",
       "      <th>0</th>\n",
       "      <td>-0.047</td>\n",
       "      <td>-0.298</td>\n",
       "      <td>-0.293</td>\n",
       "      <td>0.1480</td>\n",
       "      <td>0.105</td>\n",
       "      <td>724.0</td>\n",
       "      <td>0</td>\n",
       "    </tr>\n",
       "    <tr>\n",
       "      <th>1</th>\n",
       "      <td>0.016</td>\n",
       "      <td>0.270</td>\n",
       "      <td>0.298</td>\n",
       "      <td>0.2600</td>\n",
       "      <td>0.757</td>\n",
       "      <td>729.0</td>\n",
       "      <td>1</td>\n",
       "    </tr>\n",
       "    <tr>\n",
       "      <th>2</th>\n",
       "      <td>-0.034</td>\n",
       "      <td>-0.258</td>\n",
       "      <td>-0.017</td>\n",
       "      <td>0.1310</td>\n",
       "      <td>-0.086</td>\n",
       "      <td>626.0</td>\n",
       "      <td>2</td>\n",
       "    </tr>\n",
       "    <tr>\n",
       "      <th>3</th>\n",
       "      <td>0.068</td>\n",
       "      <td>-0.186</td>\n",
       "      <td>-0.112</td>\n",
       "      <td>0.2860</td>\n",
       "      <td>0.120</td>\n",
       "      <td>619.0</td>\n",
       "      <td>1</td>\n",
       "    </tr>\n",
       "    <tr>\n",
       "      <th>4</th>\n",
       "      <td>0.110</td>\n",
       "      <td>0.439</td>\n",
       "      <td>-0.300</td>\n",
       "      <td>-0.0200</td>\n",
       "      <td>0.211</td>\n",
       "      <td>966.0</td>\n",
       "      <td>2</td>\n",
       "    </tr>\n",
       "    <tr>\n",
       "      <th>...</th>\n",
       "      <td>...</td>\n",
       "      <td>...</td>\n",
       "      <td>...</td>\n",
       "      <td>...</td>\n",
       "      <td>...</td>\n",
       "      <td>...</td>\n",
       "      <td>...</td>\n",
       "    </tr>\n",
       "    <tr>\n",
       "      <th>303</th>\n",
       "      <td>0.058</td>\n",
       "      <td>-0.223</td>\n",
       "      <td>0.284</td>\n",
       "      <td>-0.0024</td>\n",
       "      <td>0.187</td>\n",
       "      <td>770.0</td>\n",
       "      <td>0</td>\n",
       "    </tr>\n",
       "    <tr>\n",
       "      <th>304</th>\n",
       "      <td>0.013</td>\n",
       "      <td>0.042</td>\n",
       "      <td>0.054</td>\n",
       "      <td>0.1520</td>\n",
       "      <td>0.035</td>\n",
       "      <td>763.0</td>\n",
       "      <td>0</td>\n",
       "    </tr>\n",
       "    <tr>\n",
       "      <th>305</th>\n",
       "      <td>0.028</td>\n",
       "      <td>0.006</td>\n",
       "      <td>0.064</td>\n",
       "      <td>0.1730</td>\n",
       "      <td>0.037</td>\n",
       "      <td>940.0</td>\n",
       "      <td>0</td>\n",
       "    </tr>\n",
       "    <tr>\n",
       "      <th>306</th>\n",
       "      <td>-0.059</td>\n",
       "      <td>0.132</td>\n",
       "      <td>0.147</td>\n",
       "      <td>0.1730</td>\n",
       "      <td>0.061</td>\n",
       "      <td>940.0</td>\n",
       "      <td>0</td>\n",
       "    </tr>\n",
       "    <tr>\n",
       "      <th>307</th>\n",
       "      <td>0.132</td>\n",
       "      <td>-0.311</td>\n",
       "      <td>0.010</td>\n",
       "      <td>0.0590</td>\n",
       "      <td>0.460</td>\n",
       "      <td>1147.0</td>\n",
       "      <td>4</td>\n",
       "    </tr>\n",
       "  </tbody>\n",
       "</table>\n",
       "<p>308 rows × 7 columns</p>\n",
       "</div>"
      ],
      "text/plain": [
       "     index_month_4  index_month_5  index_month_6  index_month_7  \\\n",
       "0           -0.047         -0.298         -0.293         0.1480   \n",
       "1            0.016          0.270          0.298         0.2600   \n",
       "2           -0.034         -0.258         -0.017         0.1310   \n",
       "3            0.068         -0.186         -0.112         0.2860   \n",
       "4            0.110          0.439         -0.300        -0.0200   \n",
       "..             ...            ...            ...            ...   \n",
       "303          0.058         -0.223          0.284        -0.0024   \n",
       "304          0.013          0.042          0.054         0.1520   \n",
       "305          0.028          0.006          0.064         0.1730   \n",
       "306         -0.059          0.132          0.147         0.1730   \n",
       "307          0.132         -0.311          0.010         0.0590   \n",
       "\n",
       "     index_month_8  elevation  culture_name  \n",
       "0            0.105      724.0             0  \n",
       "1            0.757      729.0             1  \n",
       "2           -0.086      626.0             2  \n",
       "3            0.120      619.0             1  \n",
       "4            0.211      966.0             2  \n",
       "..             ...        ...           ...  \n",
       "303          0.187      770.0             0  \n",
       "304          0.035      763.0             0  \n",
       "305          0.037      940.0             0  \n",
       "306          0.061      940.0             0  \n",
       "307          0.460     1147.0             4  \n",
       "\n",
       "[308 rows x 7 columns]"
      ]
     },
     "execution_count": 95,
     "metadata": {},
     "output_type": "execute_result"
    }
   ],
   "source": [
    "df"
   ]
  },
  {
   "cell_type": "code",
   "execution_count": 96,
   "metadata": {},
   "outputs": [],
   "source": [
    "rf = RandomForestClassifier(random_state=42)"
   ]
  },
  {
   "cell_type": "code",
   "execution_count": 97,
   "metadata": {},
   "outputs": [
    {
     "data": {
      "text/html": [
       "<style>#sk-container-id-16 {color: black;}#sk-container-id-16 pre{padding: 0;}#sk-container-id-16 div.sk-toggleable {background-color: white;}#sk-container-id-16 label.sk-toggleable__label {cursor: pointer;display: block;width: 100%;margin-bottom: 0;padding: 0.3em;box-sizing: border-box;text-align: center;}#sk-container-id-16 label.sk-toggleable__label-arrow:before {content: \"▸\";float: left;margin-right: 0.25em;color: #696969;}#sk-container-id-16 label.sk-toggleable__label-arrow:hover:before {color: black;}#sk-container-id-16 div.sk-estimator:hover label.sk-toggleable__label-arrow:before {color: black;}#sk-container-id-16 div.sk-toggleable__content {max-height: 0;max-width: 0;overflow: hidden;text-align: left;background-color: #f0f8ff;}#sk-container-id-16 div.sk-toggleable__content pre {margin: 0.2em;color: black;border-radius: 0.25em;background-color: #f0f8ff;}#sk-container-id-16 input.sk-toggleable__control:checked~div.sk-toggleable__content {max-height: 200px;max-width: 100%;overflow: auto;}#sk-container-id-16 input.sk-toggleable__control:checked~label.sk-toggleable__label-arrow:before {content: \"▾\";}#sk-container-id-16 div.sk-estimator input.sk-toggleable__control:checked~label.sk-toggleable__label {background-color: #d4ebff;}#sk-container-id-16 div.sk-label input.sk-toggleable__control:checked~label.sk-toggleable__label {background-color: #d4ebff;}#sk-container-id-16 input.sk-hidden--visually {border: 0;clip: rect(1px 1px 1px 1px);clip: rect(1px, 1px, 1px, 1px);height: 1px;margin: -1px;overflow: hidden;padding: 0;position: absolute;width: 1px;}#sk-container-id-16 div.sk-estimator {font-family: monospace;background-color: #f0f8ff;border: 1px dotted black;border-radius: 0.25em;box-sizing: border-box;margin-bottom: 0.5em;}#sk-container-id-16 div.sk-estimator:hover {background-color: #d4ebff;}#sk-container-id-16 div.sk-parallel-item::after {content: \"\";width: 100%;border-bottom: 1px solid gray;flex-grow: 1;}#sk-container-id-16 div.sk-label:hover label.sk-toggleable__label {background-color: #d4ebff;}#sk-container-id-16 div.sk-serial::before {content: \"\";position: absolute;border-left: 1px solid gray;box-sizing: border-box;top: 0;bottom: 0;left: 50%;z-index: 0;}#sk-container-id-16 div.sk-serial {display: flex;flex-direction: column;align-items: center;background-color: white;padding-right: 0.2em;padding-left: 0.2em;position: relative;}#sk-container-id-16 div.sk-item {position: relative;z-index: 1;}#sk-container-id-16 div.sk-parallel {display: flex;align-items: stretch;justify-content: center;background-color: white;position: relative;}#sk-container-id-16 div.sk-item::before, #sk-container-id-16 div.sk-parallel-item::before {content: \"\";position: absolute;border-left: 1px solid gray;box-sizing: border-box;top: 0;bottom: 0;left: 50%;z-index: -1;}#sk-container-id-16 div.sk-parallel-item {display: flex;flex-direction: column;z-index: 1;position: relative;background-color: white;}#sk-container-id-16 div.sk-parallel-item:first-child::after {align-self: flex-end;width: 50%;}#sk-container-id-16 div.sk-parallel-item:last-child::after {align-self: flex-start;width: 50%;}#sk-container-id-16 div.sk-parallel-item:only-child::after {width: 0;}#sk-container-id-16 div.sk-dashed-wrapped {border: 1px dashed gray;margin: 0 0.4em 0.5em 0.4em;box-sizing: border-box;padding-bottom: 0.4em;background-color: white;}#sk-container-id-16 div.sk-label label {font-family: monospace;font-weight: bold;display: inline-block;line-height: 1.2em;}#sk-container-id-16 div.sk-label-container {text-align: center;}#sk-container-id-16 div.sk-container {/* jupyter's `normalize.less` sets `[hidden] { display: none; }` but bootstrap.min.css set `[hidden] { display: none !important; }` so we also need the `!important` here to be able to override the default hidden behavior on the sphinx rendered scikit-learn.org. See: https://github.com/scikit-learn/scikit-learn/issues/21755 */display: inline-block !important;position: relative;}#sk-container-id-16 div.sk-text-repr-fallback {display: none;}</style><div id=\"sk-container-id-16\" class=\"sk-top-container\"><div class=\"sk-text-repr-fallback\"><pre>RandomForestClassifier(random_state=42)</pre><b>In a Jupyter environment, please rerun this cell to show the HTML representation or trust the notebook. <br />On GitHub, the HTML representation is unable to render, please try loading this page with nbviewer.org.</b></div><div class=\"sk-container\" hidden><div class=\"sk-item\"><div class=\"sk-estimator sk-toggleable\"><input class=\"sk-toggleable__control sk-hidden--visually\" id=\"sk-estimator-id-16\" type=\"checkbox\" checked><label for=\"sk-estimator-id-16\" class=\"sk-toggleable__label sk-toggleable__label-arrow\">RandomForestClassifier</label><div class=\"sk-toggleable__content\"><pre>RandomForestClassifier(random_state=42)</pre></div></div></div></div></div>"
      ],
      "text/plain": [
       "RandomForestClassifier(random_state=42)"
      ]
     },
     "execution_count": 97,
     "metadata": {},
     "output_type": "execute_result"
    }
   ],
   "source": [
    "rf.fit(X_train, y_train)"
   ]
  },
  {
   "cell_type": "code",
   "execution_count": 98,
   "metadata": {},
   "outputs": [
    {
     "data": {
      "text/plain": [
       "0.43548387096774194"
      ]
     },
     "execution_count": 98,
     "metadata": {},
     "output_type": "execute_result"
    }
   ],
   "source": [
    "rf.score(X_test, y_test)"
   ]
  },
  {
   "cell_type": "code",
   "execution_count": 18,
   "metadata": {},
   "outputs": [
    {
     "data": {
      "text/plain": [
       "['my_random_forest.joblib']"
      ]
     },
     "execution_count": 18,
     "metadata": {},
     "output_type": "execute_result"
    }
   ],
   "source": [
    "joblib.dump(rf, \"my_random_forest.joblib\")"
   ]
  },
  {
   "cell_type": "code",
   "execution_count": 32,
   "metadata": {},
   "outputs": [
    {
     "name": "stdout",
     "output_type": "stream",
     "text": [
      "Ячмень\n"
     ]
    }
   ],
   "source": [
    "import warnings\n",
    "from sklearn.exceptions import DataConversionWarning\n",
    "\n",
    "# Suppress specific sklearn warnings\n",
    "warnings.filterwarnings(action='ignore', category=UserWarning)\n",
    "import joblib\n",
    "loaded_rf = joblib.load(\"my_random_forest.joblib\")\n",
    "'''\n",
    "[[NDVI_4_month, NDVI_5_month, NDVI_6_month, NDVI_7_month, NDVI_8_month, elavation_countour]]\n",
    "'''\n",
    "sample_data = [[0.14, 0.658, 0.331, -0.129, 0.191, 664.0]]\n",
    "\n",
    "# Make a prediction\n",
    "prediction = loaded_rf.predict(sample_data)\n",
    "\n",
    "# Dictionary mapping encoded values to names\n",
    "name_mapping = {0: 'Ячмень', 1: 'Люцерна', 2: 'Пшеница', 3: 'Кукуруза', 4: 'Свекла', 5: 'Соя', 6: 'Томат', 7: 'Картофель', 8: 'Софлор', 9: 'Лук', 10: 'Клевер', 11: 'Сил'}\n",
    "\n",
    "# Convert encoded prediction to name\n",
    "predicted_name = name_mapping[int(prediction[0])]\n",
    "\n",
    "print(predicted_name)"
   ]
  },
  {
   "cell_type": "code",
   "execution_count": null,
   "metadata": {},
   "outputs": [],
   "source": []
  }
 ],
 "metadata": {
  "kernelspec": {
   "display_name": "venv",
   "language": "python",
   "name": "python3"
  },
  "language_info": {
   "codemirror_mode": {
    "name": "ipython",
    "version": 3
   },
   "file_extension": ".py",
   "mimetype": "text/x-python",
   "name": "python",
   "nbconvert_exporter": "python",
   "pygments_lexer": "ipython3",
   "version": "3.10.12"
  }
 },
 "nbformat": 4,
 "nbformat_minor": 2
}
