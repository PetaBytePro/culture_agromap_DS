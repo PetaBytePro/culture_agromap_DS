{
 "cells": [
  {
   "cell_type": "code",
   "execution_count": 1,
   "metadata": {},
   "outputs": [],
   "source": [
    "import pandas as pd\n",
    "import numpy as np\n",
    "import matplotlib.pyplot as plt\n",
    "import seaborn as sns\n",
    "%matplotlib inline"
   ]
  },
  {
   "cell_type": "code",
   "execution_count": 2,
   "metadata": {},
   "outputs": [],
   "source": [
    "df = pd.read_json('data/dataSet_Culture_21112023.json')"
   ]
  },
  {
   "cell_type": "code",
   "execution_count": 3,
   "metadata": {},
   "outputs": [
    {
     "name": "stdout",
     "output_type": "stream",
     "text": [
      "<class 'pandas.core.frame.DataFrame'>\n",
      "RangeIndex: 308 entries, 0 to 307\n",
      "Data columns (total 7 columns):\n",
      " #   Column         Non-Null Count  Dtype  \n",
      "---  ------         --------------  -----  \n",
      " 0   index_month_4  307 non-null    float64\n",
      " 1   index_month_5  273 non-null    float64\n",
      " 2   index_month_6  306 non-null    float64\n",
      " 3   index_month_7  233 non-null    float64\n",
      " 4   index_month_8  307 non-null    float64\n",
      " 5   elevation      308 non-null    int64  \n",
      " 6   culture_name   308 non-null    object \n",
      "dtypes: float64(5), int64(1), object(1)\n",
      "memory usage: 17.0+ KB\n"
     ]
    }
   ],
   "source": [
    "df.info()"
   ]
  },
  {
   "cell_type": "code",
   "execution_count": 4,
   "metadata": {},
   "outputs": [
    {
     "data": {
      "text/html": [
       "<div>\n",
       "<style scoped>\n",
       "    .dataframe tbody tr th:only-of-type {\n",
       "        vertical-align: middle;\n",
       "    }\n",
       "\n",
       "    .dataframe tbody tr th {\n",
       "        vertical-align: top;\n",
       "    }\n",
       "\n",
       "    .dataframe thead th {\n",
       "        text-align: right;\n",
       "    }\n",
       "</style>\n",
       "<table border=\"1\" class=\"dataframe\">\n",
       "  <thead>\n",
       "    <tr style=\"text-align: right;\">\n",
       "      <th></th>\n",
       "      <th>index_month_4</th>\n",
       "      <th>index_month_5</th>\n",
       "      <th>index_month_6</th>\n",
       "      <th>index_month_7</th>\n",
       "      <th>index_month_8</th>\n",
       "      <th>elevation</th>\n",
       "    </tr>\n",
       "  </thead>\n",
       "  <tbody>\n",
       "    <tr>\n",
       "      <th>count</th>\n",
       "      <td>307.000000</td>\n",
       "      <td>273.000000</td>\n",
       "      <td>306.000000</td>\n",
       "      <td>233.000000</td>\n",
       "      <td>307.000000</td>\n",
       "      <td>308.000000</td>\n",
       "    </tr>\n",
       "    <tr>\n",
       "      <th>mean</th>\n",
       "      <td>0.006173</td>\n",
       "      <td>0.082842</td>\n",
       "      <td>0.070938</td>\n",
       "      <td>0.086176</td>\n",
       "      <td>0.070293</td>\n",
       "      <td>792.253247</td>\n",
       "    </tr>\n",
       "    <tr>\n",
       "      <th>std</th>\n",
       "      <td>0.086019</td>\n",
       "      <td>0.214180</td>\n",
       "      <td>0.211829</td>\n",
       "      <td>0.230185</td>\n",
       "      <td>0.208884</td>\n",
       "      <td>203.811149</td>\n",
       "    </tr>\n",
       "    <tr>\n",
       "      <th>min</th>\n",
       "      <td>-0.273000</td>\n",
       "      <td>-0.435000</td>\n",
       "      <td>-0.450000</td>\n",
       "      <td>-0.420000</td>\n",
       "      <td>-0.446000</td>\n",
       "      <td>576.000000</td>\n",
       "    </tr>\n",
       "    <tr>\n",
       "      <th>25%</th>\n",
       "      <td>-0.051000</td>\n",
       "      <td>-0.059000</td>\n",
       "      <td>-0.048000</td>\n",
       "      <td>-0.068000</td>\n",
       "      <td>-0.069500</td>\n",
       "      <td>654.000000</td>\n",
       "    </tr>\n",
       "    <tr>\n",
       "      <th>50%</th>\n",
       "      <td>0.004000</td>\n",
       "      <td>0.047000</td>\n",
       "      <td>0.052000</td>\n",
       "      <td>0.082000</td>\n",
       "      <td>0.052000</td>\n",
       "      <td>713.000000</td>\n",
       "    </tr>\n",
       "    <tr>\n",
       "      <th>75%</th>\n",
       "      <td>0.060000</td>\n",
       "      <td>0.192000</td>\n",
       "      <td>0.199750</td>\n",
       "      <td>0.204000</td>\n",
       "      <td>0.160500</td>\n",
       "      <td>915.000000</td>\n",
       "    </tr>\n",
       "    <tr>\n",
       "      <th>max</th>\n",
       "      <td>0.286000</td>\n",
       "      <td>0.761000</td>\n",
       "      <td>0.865000</td>\n",
       "      <td>0.773000</td>\n",
       "      <td>0.757000</td>\n",
       "      <td>1571.000000</td>\n",
       "    </tr>\n",
       "  </tbody>\n",
       "</table>\n",
       "</div>"
      ],
      "text/plain": [
       "       index_month_4  index_month_5  index_month_6  index_month_7  \\\n",
       "count     307.000000     273.000000     306.000000     233.000000   \n",
       "mean        0.006173       0.082842       0.070938       0.086176   \n",
       "std         0.086019       0.214180       0.211829       0.230185   \n",
       "min        -0.273000      -0.435000      -0.450000      -0.420000   \n",
       "25%        -0.051000      -0.059000      -0.048000      -0.068000   \n",
       "50%         0.004000       0.047000       0.052000       0.082000   \n",
       "75%         0.060000       0.192000       0.199750       0.204000   \n",
       "max         0.286000       0.761000       0.865000       0.773000   \n",
       "\n",
       "       index_month_8    elevation  \n",
       "count     307.000000   308.000000  \n",
       "mean        0.070293   792.253247  \n",
       "std         0.208884   203.811149  \n",
       "min        -0.446000   576.000000  \n",
       "25%        -0.069500   654.000000  \n",
       "50%         0.052000   713.000000  \n",
       "75%         0.160500   915.000000  \n",
       "max         0.757000  1571.000000  "
      ]
     },
     "execution_count": 4,
     "metadata": {},
     "output_type": "execute_result"
    }
   ],
   "source": [
    "df.describe()"
   ]
  },
  {
   "cell_type": "code",
   "execution_count": 5,
   "metadata": {},
   "outputs": [
    {
     "data": {
      "text/html": [
       "<div>\n",
       "<style scoped>\n",
       "    .dataframe tbody tr th:only-of-type {\n",
       "        vertical-align: middle;\n",
       "    }\n",
       "\n",
       "    .dataframe tbody tr th {\n",
       "        vertical-align: top;\n",
       "    }\n",
       "\n",
       "    .dataframe thead th {\n",
       "        text-align: right;\n",
       "    }\n",
       "</style>\n",
       "<table border=\"1\" class=\"dataframe\">\n",
       "  <thead>\n",
       "    <tr style=\"text-align: right;\">\n",
       "      <th></th>\n",
       "      <th>index_month_4</th>\n",
       "      <th>index_month_5</th>\n",
       "      <th>index_month_6</th>\n",
       "      <th>index_month_7</th>\n",
       "      <th>index_month_8</th>\n",
       "      <th>elevation</th>\n",
       "      <th>culture_name</th>\n",
       "    </tr>\n",
       "  </thead>\n",
       "  <tbody>\n",
       "    <tr>\n",
       "      <th>0</th>\n",
       "      <td>-0.047</td>\n",
       "      <td>-0.298</td>\n",
       "      <td>-0.293</td>\n",
       "      <td>0.148</td>\n",
       "      <td>0.105</td>\n",
       "      <td>724</td>\n",
       "      <td>Ячмень</td>\n",
       "    </tr>\n",
       "    <tr>\n",
       "      <th>1</th>\n",
       "      <td>0.016</td>\n",
       "      <td>0.270</td>\n",
       "      <td>0.298</td>\n",
       "      <td>0.260</td>\n",
       "      <td>0.757</td>\n",
       "      <td>729</td>\n",
       "      <td>Люцерна</td>\n",
       "    </tr>\n",
       "    <tr>\n",
       "      <th>2</th>\n",
       "      <td>-0.034</td>\n",
       "      <td>-0.258</td>\n",
       "      <td>-0.017</td>\n",
       "      <td>0.131</td>\n",
       "      <td>-0.086</td>\n",
       "      <td>626</td>\n",
       "      <td>Пшеница</td>\n",
       "    </tr>\n",
       "    <tr>\n",
       "      <th>3</th>\n",
       "      <td>0.068</td>\n",
       "      <td>-0.186</td>\n",
       "      <td>-0.112</td>\n",
       "      <td>0.286</td>\n",
       "      <td>0.120</td>\n",
       "      <td>619</td>\n",
       "      <td>Люцерна</td>\n",
       "    </tr>\n",
       "    <tr>\n",
       "      <th>4</th>\n",
       "      <td>0.110</td>\n",
       "      <td>0.439</td>\n",
       "      <td>-0.300</td>\n",
       "      <td>-0.020</td>\n",
       "      <td>0.211</td>\n",
       "      <td>966</td>\n",
       "      <td>Пшеница</td>\n",
       "    </tr>\n",
       "  </tbody>\n",
       "</table>\n",
       "</div>"
      ],
      "text/plain": [
       "   index_month_4  index_month_5  index_month_6  index_month_7  index_month_8  \\\n",
       "0         -0.047         -0.298         -0.293          0.148          0.105   \n",
       "1          0.016          0.270          0.298          0.260          0.757   \n",
       "2         -0.034         -0.258         -0.017          0.131         -0.086   \n",
       "3          0.068         -0.186         -0.112          0.286          0.120   \n",
       "4          0.110          0.439         -0.300         -0.020          0.211   \n",
       "\n",
       "   elevation culture_name  \n",
       "0        724       Ячмень  \n",
       "1        729      Люцерна  \n",
       "2        626      Пшеница  \n",
       "3        619      Люцерна  \n",
       "4        966      Пшеница  "
      ]
     },
     "execution_count": 5,
     "metadata": {},
     "output_type": "execute_result"
    }
   ],
   "source": [
    "df.head()"
   ]
  },
  {
   "cell_type": "code",
   "execution_count": 6,
   "metadata": {},
   "outputs": [
    {
     "data": {
      "text/plain": [
       "index_month_4     1\n",
       "index_month_5    35\n",
       "index_month_6     2\n",
       "index_month_7    75\n",
       "index_month_8     1\n",
       "elevation         0\n",
       "culture_name      0\n",
       "dtype: int64"
      ]
     },
     "execution_count": 6,
     "metadata": {},
     "output_type": "execute_result"
    }
   ],
   "source": [
    "df.isnull().sum()"
   ]
  },
  {
   "cell_type": "code",
   "execution_count": 7,
   "metadata": {},
   "outputs": [
    {
     "data": {
      "text/plain": [
       "array(['Ячмень', 'Люцерна', 'Пшеница', 'Кукуруза', 'Свекла', 'Соя',\n",
       "       'Томат', 'Картофель', 'Софлор', 'Лук', 'Клевер', 'Сил'],\n",
       "      dtype=object)"
      ]
     },
     "execution_count": 7,
     "metadata": {},
     "output_type": "execute_result"
    }
   ],
   "source": [
    "df['culture_name'].unique()"
   ]
  },
  {
   "cell_type": "code",
   "execution_count": 8,
   "metadata": {},
   "outputs": [],
   "source": [
    "codes, uniques = pd.factorize(df['culture_name'])\n",
    "df['culture_name'] = codes\n"
   ]
  },
  {
   "cell_type": "code",
   "execution_count": 9,
   "metadata": {},
   "outputs": [
    {
     "name": "stdout",
     "output_type": "stream",
     "text": [
      "{'Ячмень': 0, 'Люцерна': 1, 'Пшеница': 2, 'Кукуруза': 3, 'Свекла': 4, 'Соя': 5, 'Томат': 6, 'Картофель': 7, 'Софлор': 8, 'Лук': 9, 'Клевер': 10, 'Сил': 11}\n"
     ]
    }
   ],
   "source": [
    "culture_id_map = {name: id for id, name in enumerate(uniques)}\n",
    "print(culture_id_map)"
   ]
  },
  {
   "cell_type": "code",
   "execution_count": 10,
   "metadata": {},
   "outputs": [
    {
     "data": {
      "text/plain": [
       "(     index_month_4  index_month_5  index_month_6  index_month_7  \\\n",
       " 126          0.044         -0.118         -0.243          0.329   \n",
       " 109         -0.041            NaN         -0.093          0.066   \n",
       " 247          0.061         -0.092         -0.292            NaN   \n",
       " 234         -0.016          0.034          0.037            NaN   \n",
       " 202         -0.132            NaN            NaN            NaN   \n",
       " \n",
       "      index_month_8  elevation  \n",
       " 126          0.326        738  \n",
       " 109          0.053        621  \n",
       " 247         -0.420       1074  \n",
       " 234         -0.053        951  \n",
       " 202         -0.215        713  ,\n",
       " 126    3\n",
       " 109    0\n",
       " 247    4\n",
       " 234    3\n",
       " 202    1\n",
       " Name: culture_name, dtype: int64)"
      ]
     },
     "execution_count": 10,
     "metadata": {},
     "output_type": "execute_result"
    }
   ],
   "source": [
    "from sklearn.model_selection import train_test_split\n",
    "from sklearn.preprocessing import LabelEncoder\n",
    "from sklearn.impute import SimpleImputer\n",
    "\n",
    "# Handling missing values\n",
    "# Imputing missing values with the median for features with low missing percentage\n",
    "# imputer = SimpleImputer(strategy='median')\n",
    "# df[['index_month_4', 'index_month_5', 'index_month_6', 'index_month_7', 'index_month_8']] = imputer.fit_transform(df[['index_month_4', 'index_month_5', 'index_month_6', 'index_month_7', 'index_month_8']])\n",
    "\n",
    "# Dropping columns with a high percentage of missing values\n",
    "# df = df.drop(columns=['index_month_5', 'index_month_7'])\n",
    "\n",
    "# Encoding the target variable 'culture_name'\n",
    "label_encoder = LabelEncoder()\n",
    "\n",
    "# Splitting the dfset into training and testing sets\n",
    "X = df.drop('culture_name', axis=1)\n",
    "y = df['culture_name']\n",
    "X_train, X_test, y_train, y_test = train_test_split(X, y, test_size=0.2, random_state=42)\n",
    "\n",
    "# Displaying the first few rows of the processed dfset\n",
    "X_train.head(), y_train.head()\n"
   ]
  },
  {
   "cell_type": "code",
   "execution_count": 11,
   "metadata": {},
   "outputs": [
    {
     "ename": "ValueError",
     "evalue": "Input X contains NaN.\nGradientBoostingClassifier does not accept missing values encoded as NaN natively. For supervised learning, you might want to consider sklearn.ensemble.HistGradientBoostingClassifier and Regressor which accept missing values encoded as NaNs natively. Alternatively, it is possible to preprocess the data, for instance by using an imputer transformer in a pipeline or drop samples with missing values. See https://scikit-learn.org/stable/modules/impute.html You can find a list of all estimators that handle NaN values at the following page: https://scikit-learn.org/stable/modules/impute.html#estimators-that-handle-nan-values",
     "output_type": "error",
     "traceback": [
      "\u001b[0;31m---------------------------------------------------------------------------\u001b[0m",
      "\u001b[0;31mValueError\u001b[0m                                Traceback (most recent call last)",
      "\u001b[1;32m/home/dan/Desktop/culture_agromap_DS/new.ipynb Cell 11\u001b[0m line \u001b[0;36m1\n\u001b[1;32m      <a href='vscode-notebook-cell:/home/dan/Desktop/culture_agromap_DS/new.ipynb#X23sZmlsZQ%3D%3D?line=7'>8</a>\u001b[0m gradient_boosting \u001b[39m=\u001b[39m GradientBoostingClassifier(random_state\u001b[39m=\u001b[39m\u001b[39m42\u001b[39m)\n\u001b[1;32m     <a href='vscode-notebook-cell:/home/dan/Desktop/culture_agromap_DS/new.ipynb#X23sZmlsZQ%3D%3D?line=9'>10</a>\u001b[0m \u001b[39m# Training the models\u001b[39;00m\n\u001b[1;32m     <a href='vscode-notebook-cell:/home/dan/Desktop/culture_agromap_DS/new.ipynb#X23sZmlsZQ%3D%3D?line=10'>11</a>\u001b[0m \u001b[39m# logistic_regression.fit(X_train, y_train)\u001b[39;00m\n\u001b[1;32m     <a href='vscode-notebook-cell:/home/dan/Desktop/culture_agromap_DS/new.ipynb#X23sZmlsZQ%3D%3D?line=11'>12</a>\u001b[0m \u001b[39m# random_forest.fit(X_train, y_train)\u001b[39;00m\n\u001b[0;32m---> <a href='vscode-notebook-cell:/home/dan/Desktop/culture_agromap_DS/new.ipynb#X23sZmlsZQ%3D%3D?line=12'>13</a>\u001b[0m gradient_boosting\u001b[39m.\u001b[39;49mfit(X_train, y_train)\n\u001b[1;32m     <a href='vscode-notebook-cell:/home/dan/Desktop/culture_agromap_DS/new.ipynb#X23sZmlsZQ%3D%3D?line=14'>15</a>\u001b[0m \u001b[39m# Making predictions with the models\u001b[39;00m\n\u001b[1;32m     <a href='vscode-notebook-cell:/home/dan/Desktop/culture_agromap_DS/new.ipynb#X23sZmlsZQ%3D%3D?line=15'>16</a>\u001b[0m \u001b[39m# lr_predictions = logistic_regression.predict(X_test)\u001b[39;00m\n\u001b[1;32m     <a href='vscode-notebook-cell:/home/dan/Desktop/culture_agromap_DS/new.ipynb#X23sZmlsZQ%3D%3D?line=16'>17</a>\u001b[0m \u001b[39m# rf_predictions = random_forest.predict(X_test)\u001b[39;00m\n\u001b[1;32m     <a href='vscode-notebook-cell:/home/dan/Desktop/culture_agromap_DS/new.ipynb#X23sZmlsZQ%3D%3D?line=17'>18</a>\u001b[0m gb_predictions \u001b[39m=\u001b[39m gradient_boosting\u001b[39m.\u001b[39mpredict(X_test)\n",
      "File \u001b[0;32m~/Desktop/culture_agromap_DS/venv/lib/python3.10/site-packages/sklearn/base.py:1152\u001b[0m, in \u001b[0;36m_fit_context.<locals>.decorator.<locals>.wrapper\u001b[0;34m(estimator, *args, **kwargs)\u001b[0m\n\u001b[1;32m   1145\u001b[0m     estimator\u001b[39m.\u001b[39m_validate_params()\n\u001b[1;32m   1147\u001b[0m \u001b[39mwith\u001b[39;00m config_context(\n\u001b[1;32m   1148\u001b[0m     skip_parameter_validation\u001b[39m=\u001b[39m(\n\u001b[1;32m   1149\u001b[0m         prefer_skip_nested_validation \u001b[39mor\u001b[39;00m global_skip_validation\n\u001b[1;32m   1150\u001b[0m     )\n\u001b[1;32m   1151\u001b[0m ):\n\u001b[0;32m-> 1152\u001b[0m     \u001b[39mreturn\u001b[39;00m fit_method(estimator, \u001b[39m*\u001b[39;49margs, \u001b[39m*\u001b[39;49m\u001b[39m*\u001b[39;49mkwargs)\n",
      "File \u001b[0;32m~/Desktop/culture_agromap_DS/venv/lib/python3.10/site-packages/sklearn/ensemble/_gb.py:416\u001b[0m, in \u001b[0;36mBaseGradientBoosting.fit\u001b[0;34m(self, X, y, sample_weight, monitor)\u001b[0m\n\u001b[1;32m    410\u001b[0m     \u001b[39mself\u001b[39m\u001b[39m.\u001b[39m_clear_state()\n\u001b[1;32m    412\u001b[0m \u001b[39m# Check input\u001b[39;00m\n\u001b[1;32m    413\u001b[0m \u001b[39m# Since check_array converts both X and y to the same dtype, but the\u001b[39;00m\n\u001b[1;32m    414\u001b[0m \u001b[39m# trees use different types for X and y, checking them separately.\u001b[39;00m\n\u001b[0;32m--> 416\u001b[0m X, y \u001b[39m=\u001b[39m \u001b[39mself\u001b[39;49m\u001b[39m.\u001b[39;49m_validate_data(\n\u001b[1;32m    417\u001b[0m     X, y, accept_sparse\u001b[39m=\u001b[39;49m[\u001b[39m\"\u001b[39;49m\u001b[39mcsr\u001b[39;49m\u001b[39m\"\u001b[39;49m, \u001b[39m\"\u001b[39;49m\u001b[39mcsc\u001b[39;49m\u001b[39m\"\u001b[39;49m, \u001b[39m\"\u001b[39;49m\u001b[39mcoo\u001b[39;49m\u001b[39m\"\u001b[39;49m], dtype\u001b[39m=\u001b[39;49mDTYPE, multi_output\u001b[39m=\u001b[39;49m\u001b[39mTrue\u001b[39;49;00m\n\u001b[1;32m    418\u001b[0m )\n\u001b[1;32m    420\u001b[0m sample_weight_is_none \u001b[39m=\u001b[39m sample_weight \u001b[39mis\u001b[39;00m \u001b[39mNone\u001b[39;00m\n\u001b[1;32m    422\u001b[0m sample_weight \u001b[39m=\u001b[39m _check_sample_weight(sample_weight, X)\n",
      "File \u001b[0;32m~/Desktop/culture_agromap_DS/venv/lib/python3.10/site-packages/sklearn/base.py:622\u001b[0m, in \u001b[0;36mBaseEstimator._validate_data\u001b[0;34m(self, X, y, reset, validate_separately, cast_to_ndarray, **check_params)\u001b[0m\n\u001b[1;32m    620\u001b[0m         y \u001b[39m=\u001b[39m check_array(y, input_name\u001b[39m=\u001b[39m\u001b[39m\"\u001b[39m\u001b[39my\u001b[39m\u001b[39m\"\u001b[39m, \u001b[39m*\u001b[39m\u001b[39m*\u001b[39mcheck_y_params)\n\u001b[1;32m    621\u001b[0m     \u001b[39melse\u001b[39;00m:\n\u001b[0;32m--> 622\u001b[0m         X, y \u001b[39m=\u001b[39m check_X_y(X, y, \u001b[39m*\u001b[39;49m\u001b[39m*\u001b[39;49mcheck_params)\n\u001b[1;32m    623\u001b[0m     out \u001b[39m=\u001b[39m X, y\n\u001b[1;32m    625\u001b[0m \u001b[39mif\u001b[39;00m \u001b[39mnot\u001b[39;00m no_val_X \u001b[39mand\u001b[39;00m check_params\u001b[39m.\u001b[39mget(\u001b[39m\"\u001b[39m\u001b[39mensure_2d\u001b[39m\u001b[39m\"\u001b[39m, \u001b[39mTrue\u001b[39;00m):\n",
      "File \u001b[0;32m~/Desktop/culture_agromap_DS/venv/lib/python3.10/site-packages/sklearn/utils/validation.py:1146\u001b[0m, in \u001b[0;36mcheck_X_y\u001b[0;34m(X, y, accept_sparse, accept_large_sparse, dtype, order, copy, force_all_finite, ensure_2d, allow_nd, multi_output, ensure_min_samples, ensure_min_features, y_numeric, estimator)\u001b[0m\n\u001b[1;32m   1141\u001b[0m         estimator_name \u001b[39m=\u001b[39m _check_estimator_name(estimator)\n\u001b[1;32m   1142\u001b[0m     \u001b[39mraise\u001b[39;00m \u001b[39mValueError\u001b[39;00m(\n\u001b[1;32m   1143\u001b[0m         \u001b[39mf\u001b[39m\u001b[39m\"\u001b[39m\u001b[39m{\u001b[39;00mestimator_name\u001b[39m}\u001b[39;00m\u001b[39m requires y to be passed, but the target y is None\u001b[39m\u001b[39m\"\u001b[39m\n\u001b[1;32m   1144\u001b[0m     )\n\u001b[0;32m-> 1146\u001b[0m X \u001b[39m=\u001b[39m check_array(\n\u001b[1;32m   1147\u001b[0m     X,\n\u001b[1;32m   1148\u001b[0m     accept_sparse\u001b[39m=\u001b[39;49maccept_sparse,\n\u001b[1;32m   1149\u001b[0m     accept_large_sparse\u001b[39m=\u001b[39;49maccept_large_sparse,\n\u001b[1;32m   1150\u001b[0m     dtype\u001b[39m=\u001b[39;49mdtype,\n\u001b[1;32m   1151\u001b[0m     order\u001b[39m=\u001b[39;49morder,\n\u001b[1;32m   1152\u001b[0m     copy\u001b[39m=\u001b[39;49mcopy,\n\u001b[1;32m   1153\u001b[0m     force_all_finite\u001b[39m=\u001b[39;49mforce_all_finite,\n\u001b[1;32m   1154\u001b[0m     ensure_2d\u001b[39m=\u001b[39;49mensure_2d,\n\u001b[1;32m   1155\u001b[0m     allow_nd\u001b[39m=\u001b[39;49mallow_nd,\n\u001b[1;32m   1156\u001b[0m     ensure_min_samples\u001b[39m=\u001b[39;49mensure_min_samples,\n\u001b[1;32m   1157\u001b[0m     ensure_min_features\u001b[39m=\u001b[39;49mensure_min_features,\n\u001b[1;32m   1158\u001b[0m     estimator\u001b[39m=\u001b[39;49mestimator,\n\u001b[1;32m   1159\u001b[0m     input_name\u001b[39m=\u001b[39;49m\u001b[39m\"\u001b[39;49m\u001b[39mX\u001b[39;49m\u001b[39m\"\u001b[39;49m,\n\u001b[1;32m   1160\u001b[0m )\n\u001b[1;32m   1162\u001b[0m y \u001b[39m=\u001b[39m _check_y(y, multi_output\u001b[39m=\u001b[39mmulti_output, y_numeric\u001b[39m=\u001b[39my_numeric, estimator\u001b[39m=\u001b[39mestimator)\n\u001b[1;32m   1164\u001b[0m check_consistent_length(X, y)\n",
      "File \u001b[0;32m~/Desktop/culture_agromap_DS/venv/lib/python3.10/site-packages/sklearn/utils/validation.py:957\u001b[0m, in \u001b[0;36mcheck_array\u001b[0;34m(array, accept_sparse, accept_large_sparse, dtype, order, copy, force_all_finite, ensure_2d, allow_nd, ensure_min_samples, ensure_min_features, estimator, input_name)\u001b[0m\n\u001b[1;32m    951\u001b[0m         \u001b[39mraise\u001b[39;00m \u001b[39mValueError\u001b[39;00m(\n\u001b[1;32m    952\u001b[0m             \u001b[39m\"\u001b[39m\u001b[39mFound array with dim \u001b[39m\u001b[39m%d\u001b[39;00m\u001b[39m. \u001b[39m\u001b[39m%s\u001b[39;00m\u001b[39m expected <= 2.\u001b[39m\u001b[39m\"\u001b[39m\n\u001b[1;32m    953\u001b[0m             \u001b[39m%\u001b[39m (array\u001b[39m.\u001b[39mndim, estimator_name)\n\u001b[1;32m    954\u001b[0m         )\n\u001b[1;32m    956\u001b[0m     \u001b[39mif\u001b[39;00m force_all_finite:\n\u001b[0;32m--> 957\u001b[0m         _assert_all_finite(\n\u001b[1;32m    958\u001b[0m             array,\n\u001b[1;32m    959\u001b[0m             input_name\u001b[39m=\u001b[39;49minput_name,\n\u001b[1;32m    960\u001b[0m             estimator_name\u001b[39m=\u001b[39;49mestimator_name,\n\u001b[1;32m    961\u001b[0m             allow_nan\u001b[39m=\u001b[39;49mforce_all_finite \u001b[39m==\u001b[39;49m \u001b[39m\"\u001b[39;49m\u001b[39mallow-nan\u001b[39;49m\u001b[39m\"\u001b[39;49m,\n\u001b[1;32m    962\u001b[0m         )\n\u001b[1;32m    964\u001b[0m \u001b[39mif\u001b[39;00m ensure_min_samples \u001b[39m>\u001b[39m \u001b[39m0\u001b[39m:\n\u001b[1;32m    965\u001b[0m     n_samples \u001b[39m=\u001b[39m _num_samples(array)\n",
      "File \u001b[0;32m~/Desktop/culture_agromap_DS/venv/lib/python3.10/site-packages/sklearn/utils/validation.py:122\u001b[0m, in \u001b[0;36m_assert_all_finite\u001b[0;34m(X, allow_nan, msg_dtype, estimator_name, input_name)\u001b[0m\n\u001b[1;32m    119\u001b[0m \u001b[39mif\u001b[39;00m first_pass_isfinite:\n\u001b[1;32m    120\u001b[0m     \u001b[39mreturn\u001b[39;00m\n\u001b[0;32m--> 122\u001b[0m _assert_all_finite_element_wise(\n\u001b[1;32m    123\u001b[0m     X,\n\u001b[1;32m    124\u001b[0m     xp\u001b[39m=\u001b[39;49mxp,\n\u001b[1;32m    125\u001b[0m     allow_nan\u001b[39m=\u001b[39;49mallow_nan,\n\u001b[1;32m    126\u001b[0m     msg_dtype\u001b[39m=\u001b[39;49mmsg_dtype,\n\u001b[1;32m    127\u001b[0m     estimator_name\u001b[39m=\u001b[39;49mestimator_name,\n\u001b[1;32m    128\u001b[0m     input_name\u001b[39m=\u001b[39;49minput_name,\n\u001b[1;32m    129\u001b[0m )\n",
      "File \u001b[0;32m~/Desktop/culture_agromap_DS/venv/lib/python3.10/site-packages/sklearn/utils/validation.py:171\u001b[0m, in \u001b[0;36m_assert_all_finite_element_wise\u001b[0;34m(X, xp, allow_nan, msg_dtype, estimator_name, input_name)\u001b[0m\n\u001b[1;32m    154\u001b[0m \u001b[39mif\u001b[39;00m estimator_name \u001b[39mand\u001b[39;00m input_name \u001b[39m==\u001b[39m \u001b[39m\"\u001b[39m\u001b[39mX\u001b[39m\u001b[39m\"\u001b[39m \u001b[39mand\u001b[39;00m has_nan_error:\n\u001b[1;32m    155\u001b[0m     \u001b[39m# Improve the error message on how to handle missing values in\u001b[39;00m\n\u001b[1;32m    156\u001b[0m     \u001b[39m# scikit-learn.\u001b[39;00m\n\u001b[1;32m    157\u001b[0m     msg_err \u001b[39m+\u001b[39m\u001b[39m=\u001b[39m (\n\u001b[1;32m    158\u001b[0m         \u001b[39mf\u001b[39m\u001b[39m\"\u001b[39m\u001b[39m\\n\u001b[39;00m\u001b[39m{\u001b[39;00mestimator_name\u001b[39m}\u001b[39;00m\u001b[39m does not accept missing values\u001b[39m\u001b[39m\"\u001b[39m\n\u001b[1;32m    159\u001b[0m         \u001b[39m\"\u001b[39m\u001b[39m encoded as NaN natively. For supervised learning, you might want\u001b[39m\u001b[39m\"\u001b[39m\n\u001b[0;32m   (...)\u001b[0m\n\u001b[1;32m    169\u001b[0m         \u001b[39m\"\u001b[39m\u001b[39m#estimators-that-handle-nan-values\u001b[39m\u001b[39m\"\u001b[39m\n\u001b[1;32m    170\u001b[0m     )\n\u001b[0;32m--> 171\u001b[0m \u001b[39mraise\u001b[39;00m \u001b[39mValueError\u001b[39;00m(msg_err)\n",
      "\u001b[0;31mValueError\u001b[0m: Input X contains NaN.\nGradientBoostingClassifier does not accept missing values encoded as NaN natively. For supervised learning, you might want to consider sklearn.ensemble.HistGradientBoostingClassifier and Regressor which accept missing values encoded as NaNs natively. Alternatively, it is possible to preprocess the data, for instance by using an imputer transformer in a pipeline or drop samples with missing values. See https://scikit-learn.org/stable/modules/impute.html You can find a list of all estimators that handle NaN values at the following page: https://scikit-learn.org/stable/modules/impute.html#estimators-that-handle-nan-values"
     ]
    }
   ],
   "source": [
    "from sklearn.linear_model import LogisticRegression\n",
    "from sklearn.ensemble import RandomForestClassifier, GradientBoostingClassifier\n",
    "from sklearn.metrics import accuracy_score, classification_report\n",
    "\n",
    "# Initializing the models\n",
    "# logistic_regression = LogisticRegression(max_iter=1000, random_state=42)\n",
    "# random_forest = RandomForestClassifier(random_state=42)\n",
    "gradient_boosting = GradientBoostingClassifier(random_state=42)\n",
    "\n",
    "# Training the models\n",
    "# logistic_regression.fit(X_train, y_train)\n",
    "# random_forest.fit(X_train, y_train)\n",
    "gradient_boosting.fit(X_train, y_train)\n",
    "\n",
    "# Making predictions with the models\n",
    "# lr_predictions = logistic_regression.predict(X_test)\n",
    "# rf_predictions = random_forest.predict(X_test)\n",
    "gb_predictions = gradient_boosting.predict(X_test)\n",
    "\n",
    "# Evaluating the models\n",
    "# lr_accuracy = accuracy_score(y_test, lr_predictions)\n",
    "# rf_accuracy = accuracy_score(y_test, rf_predictions)\n",
    "gb_accuracy = accuracy_score(y_test, gb_predictions)\n",
    "\n",
    "# Classification reports\n",
    "# lr_report = classification_report(y_test, lr_predictions)\n",
    "# rf_report = classification_report(y_test, rf_predictions)\n",
    "gb_report = classification_report(y_test, gb_predictions)\n",
    "\n",
    "# lr_accuracy, rf_accuracy, gb_accuracy, lr_report, rf_report, gb_report\n",
    "\n"
   ]
  },
  {
   "cell_type": "code",
   "execution_count": 13,
   "metadata": {},
   "outputs": [
    {
     "name": "stderr",
     "output_type": "stream",
     "text": [
      "/home/dan/Desktop/culture_agromap_DS/venv/lib/python3.10/site-packages/sklearn/metrics/_classification.py:1469: UndefinedMetricWarning: Precision and F-score are ill-defined and being set to 0.0 in labels with no predicted samples. Use `zero_division` parameter to control this behavior.\n",
      "  _warn_prf(average, modifier, msg_start, len(result))\n",
      "/home/dan/Desktop/culture_agromap_DS/venv/lib/python3.10/site-packages/sklearn/metrics/_classification.py:1469: UndefinedMetricWarning: Precision and F-score are ill-defined and being set to 0.0 in labels with no predicted samples. Use `zero_division` parameter to control this behavior.\n",
      "  _warn_prf(average, modifier, msg_start, len(result))\n",
      "/home/dan/Desktop/culture_agromap_DS/venv/lib/python3.10/site-packages/sklearn/metrics/_classification.py:1469: UndefinedMetricWarning: Precision and F-score are ill-defined and being set to 0.0 in labels with no predicted samples. Use `zero_division` parameter to control this behavior.\n",
      "  _warn_prf(average, modifier, msg_start, len(result))\n"
     ]
    },
    {
     "data": {
      "text/plain": [
       "(0.45161290322580644,\n",
       " '              precision    recall  f1-score   support\\n\\n           0       0.40      0.55      0.46        11\\n           1       0.20      0.25      0.22         4\\n           2       0.77      0.50      0.61        20\\n           3       0.25      0.38      0.30         8\\n           4       0.44      0.54      0.48        13\\n           5       0.00      0.00      0.00         2\\n           6       0.00      0.00      0.00         1\\n           7       1.00      0.33      0.50         3\\n\\n    accuracy                           0.45        62\\n   macro avg       0.38      0.32      0.32        62\\nweighted avg       0.50      0.45      0.46        62\\n')"
      ]
     },
     "execution_count": 13,
     "metadata": {},
     "output_type": "execute_result"
    }
   ],
   "source": [
    "from xgboost import XGBClassifier\n",
    "\n",
    "# Initializing the XGBoost classifier\n",
    "xgb_classifier = XGBClassifier(random_state=42, use_label_encoder=False, eval_metric='mlogloss')\n",
    "\n",
    "# Training the XGBoost classifier\n",
    "xgb_classifier.fit(X_train, y_train)\n",
    "\n",
    "# Making predictions with the XGBoost classifier\n",
    "xgb_predictions = xgb_classifier.predict(X_test)\n",
    "\n",
    "# Evaluating the XGBoost classifier\n",
    "xgb_accuracy = accuracy_score(y_test, xgb_predictions)\n",
    "xgb_report = classification_report(y_test, xgb_predictions)\n",
    "\n",
    "xgb_accuracy, xgb_report\n",
    "\n"
   ]
  },
  {
   "cell_type": "code",
   "execution_count": null,
   "metadata": {},
   "outputs": [],
   "source": []
  },
  {
   "cell_type": "code",
   "execution_count": null,
   "metadata": {},
   "outputs": [],
   "source": []
  }
 ],
 "metadata": {
  "kernelspec": {
   "display_name": "venv",
   "language": "python",
   "name": "python3"
  },
  "language_info": {
   "codemirror_mode": {
    "name": "ipython",
    "version": 3
   },
   "file_extension": ".py",
   "mimetype": "text/x-python",
   "name": "python",
   "nbconvert_exporter": "python",
   "pygments_lexer": "ipython3",
   "version": "3.10.12"
  }
 },
 "nbformat": 4,
 "nbformat_minor": 2
}
