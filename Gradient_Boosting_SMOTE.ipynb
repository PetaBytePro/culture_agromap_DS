{
 "cells": [
  {
   "cell_type": "code",
   "execution_count": 1,
   "metadata": {},
   "outputs": [],
   "source": [
    "import numpy as np\n",
    "import pandas as pd\n",
    "from sklearn.model_selection import train_test_split, RandomizedSearchCV\n",
    "from sklearn.ensemble import GradientBoostingClassifier\n",
    "from sklearn.metrics import accuracy_score, precision_score, recall_score, f1_score, roc_auc_score, mean_squared_error\n",
    "from sklearn.preprocessing import LabelEncoder\n",
    "from sklearn.impute import KNNImputer\n",
    "import re\n",
    "import matplotlib.pyplot as plt\n",
    "\n",
    "from imblearn.over_sampling import SMOTE\n",
    "from sklearn.datasets import make_classification\n",
    "\n",
    "%matplotlib inline\n",
    "# ignore warnings\n",
    "import warnings\n",
    "warnings.filterwarnings(\"ignore\")\n"
   ]
  },
  {
   "cell_type": "code",
   "execution_count": 2,
   "metadata": {},
   "outputs": [],
   "source": [
    "df = pd.read_json('./data/dataSet_Culture_06102023-POINT.json')"
   ]
  },
  {
   "cell_type": "code",
   "execution_count": 3,
   "metadata": {},
   "outputs": [],
   "source": [
    "# Extract the year from 'Analysis Date'\n",
    "df['year'] = df['Analysis Date'].apply(lambda x: x.split('-')[0])\n",
    "\n",
    "df['polygon_x'] = df['polygon'].apply(lambda x: x['x'])\n",
    "df['polygon_y'] = df['polygon'].apply(lambda x: x['y'])\n",
    "df['month'] = df['Analysis Date'].apply(lambda x: x.split('-')[1])\n",
    "df['day'] = df['Analysis Date'].apply(lambda x: x.split('-')[2])\n",
    "\n",
    "df['vegetation'] = (df['indextype'] == 'NDVI') & (df['averagevalue'] >= 0.15)\n",
    "df = df.drop(['polygon', 'soil_id'] , axis = 1)\n",
    "\n",
    "# Modify the 'combined' column to include year\n",
    "df['combined'] = df['polygon_x'].astype(str) + '_' + df['polygon_y'].astype(str) + '_' + df['year'].astype(str)\n",
    "\n",
    "# Assign unique ID based on the grouped column\n",
    "df['id'] = df.groupby('combined').ngroup() + 1\n",
    "\n",
    "# Drop the combined column and other temporary columns\n",
    "df = df.drop(columns=['combined', 'polygon_x', 'polygon_y', 'year'])"
   ]
  },
  {
   "cell_type": "code",
   "execution_count": 4,
   "metadata": {},
   "outputs": [],
   "source": [
    "df = df[df['indextype'] == 'NDVI']\n",
    "df = df.drop(columns=['indextype', 'year contour', 'month', 'day', 'vegetation', 'type_culture_name'])\n",
    "df = df.rename(columns={'culture_name': 'class'})\n",
    "df = df.rename(columns={'averagevalue': 'red'})\n",
    "df = df.rename(columns={'Analysis Date': 'date'})\n",
    "df['date'] = pd.to_datetime(df['date'])"
   ]
  },
  {
   "cell_type": "code",
   "execution_count": 5,
   "metadata": {},
   "outputs": [
    {
     "name": "stdout",
     "output_type": "stream",
     "text": [
      "         red       date  elevation_contour       district_name  \\\n",
      "0      0.217 2020-06-04               1544      Kemin district   \n",
      "1      0.215 2020-08-03               1544      Kemin district   \n",
      "2      0.150 2020-09-02               1544      Kemin district   \n",
      "3      0.052 2021-04-10               1544      Kemin district   \n",
      "4      0.056 2021-05-05               1544      Kemin district   \n",
      "...      ...        ...                ...                 ...   \n",
      "22923  0.192 2022-05-08                672  Yssyk-Ata district   \n",
      "22924  0.234 2022-06-07                672  Yssyk-Ata district   \n",
      "22925  0.157 2022-07-02                672  Yssyk-Ata district   \n",
      "22926  0.163 2022-08-01                672  Yssyk-Ata district   \n",
      "22927  0.133 2022-10-05                672  Yssyk-Ata district   \n",
      "\n",
      "                                       soil_name      class   id group_class  \n",
      "0                       Горные светло-каштановые  Картофель  986  Root Crops  \n",
      "1                       Горные светло-каштановые  Картофель  986  Root Crops  \n",
      "2                       Горные светло-каштановые  Картофель  986  Root Crops  \n",
      "3                       Горные светло-каштановые  Картофель  987  Root Crops  \n",
      "4                       Горные светло-каштановые  Картофель  987  Root Crops  \n",
      "...                                          ...        ...  ...         ...  \n",
      "22923  Сероземно-луговые, местами солончаковатые   Кукуруза  752     Cereals  \n",
      "22924  Сероземно-луговые, местами солончаковатые   Кукуруза  752     Cereals  \n",
      "22925  Сероземно-луговые, местами солончаковатые   Кукуруза  752     Cereals  \n",
      "22926  Сероземно-луговые, местами солончаковатые   Кукуруза  752     Cereals  \n",
      "22927  Сероземно-луговые, местами солончаковатые   Кукуруза  752     Cereals  \n",
      "\n",
      "[5698 rows x 8 columns]\n"
     ]
    }
   ],
   "source": [
    "# Step 1: Create a mapping dictionary\n",
    "group_mapping = {\n",
    "    'Ячмень': 'Cereals', 'Пшеница': 'Cereals', 'Кукуруза': 'Cereals', 'Яровой': 'Cereals',\n",
    "    'Соя': 'Legumes', 'Фасоль': 'Legumes', 'Клевер': 'Legumes', 'Люцерна': 'Legumes',\n",
    "    'Картофель': 'Root Crops', 'Свекла': 'Root Crops', 'Морковь': 'Root Crops', 'Лук-Морковка': 'Root Crops',\n",
    "    'Рапс': 'Oilseeds', 'Подсолнечник': 'Oilseeds', 'Софлор': 'Oilseeds',\n",
    "    'Лук': 'Vegetables', 'Томат': 'Vegetables', 'Помидор': 'Vegetables', 'Капуста': 'Vegetables',\n",
    "    'Арбуз': 'Melons',\n",
    "    # Add more mappings as needed\n",
    "}\n",
    "\n",
    "# Step 2: Function to map class to group\n",
    "def map_class_to_group(class_name):\n",
    "    # Handle cases where the class_name is not in the dictionary (e.g., 'Сил', 'Экпарцет')\n",
    "    return group_mapping.get(class_name, 'Miscellaneous')\n",
    "\n",
    "# Step 3: Apply the function to create a new column\n",
    "df['group_class'] = df['class'].apply(map_class_to_group)\n",
    "\n",
    "# Show the updated DataFrame\n",
    "print(df)"
   ]
  },
  {
   "cell_type": "code",
   "execution_count": 6,
   "metadata": {},
   "outputs": [
    {
     "data": {
      "text/plain": [
       "array([ 2, 16, 21,  4, 11, 13,  7, 20, 18,  3,  0,  5, 17,  8, 12, 10, 15,\n",
       "       14,  6,  1, 19,  9])"
      ]
     },
     "execution_count": 6,
     "metadata": {},
     "output_type": "execute_result"
    }
   ],
   "source": [
    "label_encoder = LabelEncoder() \n",
    "  \n",
    "# Encode labels in column 'class'. \n",
    "df['class']= label_encoder.fit_transform(df['class']) \n",
    "df['group_class']= label_encoder.fit_transform(df['group_class']) \n",
    "df['district_name']= label_encoder.fit_transform(df['district_name']) \n",
    "df['soil_name']= label_encoder.fit_transform(df['soil_name']) \n",
    "df['class'].unique() "
   ]
  },
  {
   "cell_type": "code",
   "execution_count": 7,
   "metadata": {},
   "outputs": [],
   "source": [
    "# Convert date to multiple columns (year, month, day)\n",
    "df['year'] = pd.to_datetime(df['date']).dt.year\n",
    "df['month'] = pd.to_datetime(df['date']).dt.month\n",
    "df['day'] = pd.to_datetime(df['date']).dt.day\n",
    "df.drop('date', axis=1, inplace=True)"
   ]
  },
  {
   "cell_type": "code",
   "execution_count": 8,
   "metadata": {},
   "outputs": [],
   "source": [
    "# Pivot table\n",
    "pivot_df = df.pivot_table(index='id', columns='month', values='red', aggfunc='mean')\n",
    "\n",
    "# Fill NaN values (assuming you want to fill with zeros, adjust if needed)\n",
    "pivot_df = pivot_df.fillna(0)\n",
    "\n",
    "# Rename columns as needed\n",
    "pivot_df.columns = [f'red_{col}_month' for col in pivot_df.columns]\n",
    "\n",
    "# Reset the index so 'id' becomes a column\n",
    "pivot_df = pivot_df.reset_index()\n",
    "\n",
    "# Assuming each 'id' has a unique 'class', get the 'class' value for each 'id' and add to the pivot dataframe\n",
    "pivot_df['class'] = pivot_df['id'].map(df.drop_duplicates(subset='id').set_index('id')['group_class'])\n",
    "pivot_df['elevation_contour'] = pivot_df['id'].map(df.drop_duplicates(subset='id').set_index('id')['elevation_contour'])\n",
    "pivot_df['district_name'] = pivot_df['id'].map(df.drop_duplicates(subset='id').set_index('id')['district_name'])\n",
    "pivot_df['soil_name'] = pivot_df['id'].map(df.drop_duplicates(subset='id').set_index('id')['soil_name'])\n",
    "\n",
    "# Reordering columns\n",
    "pivot_df = pivot_df[['red_4_month', 'red_5_month', 'red_6_month', 'red_8_month', 'red_9_month', 'id', 'elevation_contour', 'district_name', 'soil_name', 'class']]\n"
   ]
  },
  {
   "cell_type": "code",
   "execution_count": 9,
   "metadata": {},
   "outputs": [],
   "source": [
    "# Splitting the data\n",
    "X = pivot_df.drop(['id', 'class'], axis=1)  # Features excluding 'id' and 'class'\n",
    "y = pivot_df['class']  # Target variable"
   ]
  },
  {
   "cell_type": "code",
   "execution_count": 10,
   "metadata": {},
   "outputs": [],
   "source": [
    "# imputer = KNNImputer(n_neighbors=5)\n",
    "# X = pd.DataFrame(imputer.fit_transform(X), columns=X.columns)"
   ]
  },
  {
   "cell_type": "code",
   "execution_count": 11,
   "metadata": {},
   "outputs": [],
   "source": [
    "class_counts = y.value_counts()\n",
    "single_sample_classes = class_counts[class_counts <= 2].index\n",
    "filter_mask = ~y.isin(single_sample_classes)\n",
    "X = X[filter_mask]\n",
    "y = y[filter_mask]"
   ]
  },
  {
   "cell_type": "code",
   "execution_count": 12,
   "metadata": {},
   "outputs": [
    {
     "data": {
      "text/plain": [
       "class\n",
       "0    609\n",
       "5    204\n",
       "1    144\n",
       "6     18\n",
       "4      9\n",
       "2      6\n",
       "3      5\n",
       "Name: count, dtype: int64"
      ]
     },
     "execution_count": 12,
     "metadata": {},
     "output_type": "execute_result"
    }
   ],
   "source": [
    "y.value_counts()"
   ]
  },
  {
   "cell_type": "code",
   "execution_count": 13,
   "metadata": {},
   "outputs": [
    {
     "name": "stdout",
     "output_type": "stream",
     "text": [
      "Class distribution before SMOTE:\n",
      " class\n",
      "0    609\n",
      "5    204\n",
      "1    144\n",
      "6     18\n",
      "4      9\n",
      "2      6\n",
      "3      5\n",
      "Name: count, dtype: int64\n",
      "Class distribution after SMOTE:\n",
      " class\n",
      "1    609\n",
      "5    609\n",
      "0    609\n",
      "6    609\n",
      "4    609\n",
      "3    609\n",
      "2    609\n",
      "Name: count, dtype: int64\n"
     ]
    }
   ],
   "source": [
    "\n",
    "y = pd.Series(y)\n",
    "\n",
    "# Print class distribution before SMOTE\n",
    "print('Class distribution before SMOTE:\\n', y.value_counts())\n",
    "\n",
    "# Apply SMOTE\n",
    "smote = SMOTE(sampling_strategy='auto', k_neighbors=2)\n",
    "X_resampled, y_resampled = smote.fit_resample(X, y)\n",
    "\n",
    "# Convert y_resampled to a pandas Series (for value_counts)\n",
    "y_resampled = pd.Series(y_resampled)\n",
    "\n",
    "# Print class distribution after SMOTE\n",
    "print('Class distribution after SMOTE:\\n', y_resampled.value_counts())"
   ]
  },
  {
   "cell_type": "code",
   "execution_count": 14,
   "metadata": {},
   "outputs": [],
   "source": [
    "X_train, X_test, y_train, y_test = train_test_split(X, y, test_size=0.3, stratify=y)"
   ]
  },
  {
   "cell_type": "code",
   "execution_count": 15,
   "metadata": {},
   "outputs": [
    {
     "name": "stdout",
     "output_type": "stream",
     "text": [
      "Fitting 5 folds for each of 100 candidates, totalling 500 fits\n",
      "Best Parameters: {'subsample': 0.9, 'n_estimators': 500, 'max_features': 'sqrt', 'max_depth': 5, 'learning_rate': 0.1}\n",
      "Best Score: 0.6681397738951695\n",
      "Test Set Score: 0.6521739130434783\n"
     ]
    }
   ],
   "source": [
    "# Defining the parameter grid for GradientBoostingClassifier\n",
    "param_dist = {\n",
    "    'n_estimators': [10, 50, 100, 200, 500],\n",
    "    'learning_rate': [0.001, 0.01, 0.1, 0.5, 1],\n",
    "    'max_depth': [3, 4, 5, 6, 7],\n",
    "    'subsample': [0.6, 0.7, 0.8, 0.9, 1.0],\n",
    "    'max_features': ['sqrt', 'log2', None]\n",
    "}\n",
    "\n",
    "# Instantiating GradientBoostingClassifier\n",
    "gbm = GradientBoostingClassifier()\n",
    "\n",
    "# Setting up RandomizedSearchCV\n",
    "random_search = RandomizedSearchCV(\n",
    "    gbm, param_distributions=param_dist, n_iter=100, scoring='accuracy', \n",
    "    cv=5, verbose=1, n_jobs=-1\n",
    ")\n",
    "\n",
    "# Fitting the RandomizedSearchCV object to the data\n",
    "random_search.fit(X_train, y_train)\n",
    "\n",
    "# Getting the best parameters and the best score\n",
    "print(\"Best Parameters:\", random_search.best_params_)\n",
    "print(\"Best Score:\", random_search.best_score_)\n",
    "\n",
    "# Evaluate on the test set\n",
    "print(\"Test Set Score:\", random_search.score(X_test, y_test))"
   ]
  },
  {
   "cell_type": "code",
   "execution_count": 16,
   "metadata": {},
   "outputs": [
    {
     "name": "stdout",
     "output_type": "stream",
     "text": [
      "Train Set Score: 1.0\n"
     ]
    }
   ],
   "source": [
    "print(\"Train Set Score:\", random_search.score(X_train, y_train))"
   ]
  },
  {
   "cell_type": "code",
   "execution_count": null,
   "metadata": {},
   "outputs": [],
   "source": []
  }
 ],
 "metadata": {
  "kernelspec": {
   "display_name": "venv",
   "language": "python",
   "name": "python3"
  },
  "language_info": {
   "codemirror_mode": {
    "name": "ipython",
    "version": 3
   },
   "file_extension": ".py",
   "mimetype": "text/x-python",
   "name": "python",
   "nbconvert_exporter": "python",
   "pygments_lexer": "ipython3",
   "version": "3.10.12"
  }
 },
 "nbformat": 4,
 "nbformat_minor": 2
}
