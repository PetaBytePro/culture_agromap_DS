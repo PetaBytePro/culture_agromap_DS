{
 "cells": [
  {
   "cell_type": "code",
   "execution_count": 1,
   "metadata": {},
   "outputs": [],
   "source": [
    "import numpy as np\n",
    "import pandas as pd\n",
    "\n",
    "from matplotlib import pyplot as plt\n",
    "import seaborn as sns\n",
    "\n",
    "from sklearn.model_selection import train_test_split, GridSearchCV\n",
    "from sklearn.ensemble import RandomForestClassifier\n",
    "from sklearn.metrics import accuracy_score, classification_report, confusion_matrix\n",
    "from sklearn import preprocessing \n",
    "\n",
    "import lightgbm as lgb\n",
    "\n",
    "# ignore warnings\n",
    "import warnings\n",
    "warnings.filterwarnings(\"ignore\")\n"
   ]
  },
  {
   "cell_type": "code",
   "execution_count": 2,
   "metadata": {},
   "outputs": [],
   "source": [
    "from collections import Counter\n",
    "import lightgbm as lgb\n",
    "from sklearn.model_selection import train_test_split\n",
    "from sklearn.preprocessing import StandardScaler\n",
    "from sklearn.ensemble import GradientBoostingClassifier\n",
    "from sklearn.metrics import mean_squared_error,roc_auc_score,precision_score\n",
    "pd.options.display.max_columns = 999"
   ]
  },
  {
   "cell_type": "code",
   "execution_count": 3,
   "metadata": {},
   "outputs": [],
   "source": [
    "df = pd.read_json('./data/dataSet_Culture_06102023-POINT.json')"
   ]
  },
  {
   "cell_type": "code",
   "execution_count": 4,
   "metadata": {},
   "outputs": [],
   "source": [
    "# Extract the year from 'Analysis Date'\n",
    "df['year'] = df['Analysis Date'].apply(lambda x: x.split('-')[0])\n",
    "\n",
    "df['polygon_x'] = df['polygon'].apply(lambda x: x['x'])\n",
    "df['polygon_y'] = df['polygon'].apply(lambda x: x['y'])\n",
    "df['month'] = df['Analysis Date'].apply(lambda x: x.split('-')[1])\n",
    "df['day'] = df['Analysis Date'].apply(lambda x: x.split('-')[2])\n",
    "\n",
    "df['vegetation'] = (df['indextype'] == 'NDVI') & (df['averagevalue'] >= 0.15)\n",
    "df = df.drop(['polygon', 'soil_id'] , axis = 1)\n",
    "\n",
    "# Modify the 'combined' column to include year\n",
    "df['combined'] = df['polygon_x'].astype(str) + '_' + df['polygon_y'].astype(str) + '_' + df['year'].astype(str)\n",
    "\n",
    "# Assign unique ID based on the grouped column\n",
    "df['id'] = df.groupby('combined').ngroup() + 1\n",
    "\n",
    "# Drop the combined column and other temporary columns\n",
    "df = df.drop(columns=['combined', 'polygon_x', 'polygon_y', 'year'])"
   ]
  },
  {
   "cell_type": "code",
   "execution_count": 5,
   "metadata": {},
   "outputs": [
    {
     "data": {
      "text/html": [
       "<div>\n",
       "<style scoped>\n",
       "    .dataframe tbody tr th:only-of-type {\n",
       "        vertical-align: middle;\n",
       "    }\n",
       "\n",
       "    .dataframe tbody tr th {\n",
       "        vertical-align: top;\n",
       "    }\n",
       "\n",
       "    .dataframe thead th {\n",
       "        text-align: right;\n",
       "    }\n",
       "</style>\n",
       "<table border=\"1\" class=\"dataframe\">\n",
       "  <thead>\n",
       "    <tr style=\"text-align: right;\">\n",
       "      <th></th>\n",
       "      <th>indextype</th>\n",
       "      <th>averagevalue</th>\n",
       "      <th>Analysis Date</th>\n",
       "      <th>year contour</th>\n",
       "      <th>elevation_contour</th>\n",
       "      <th>district_name</th>\n",
       "      <th>soil_name</th>\n",
       "      <th>culture_name</th>\n",
       "      <th>type_culture_name</th>\n",
       "      <th>month</th>\n",
       "      <th>day</th>\n",
       "      <th>vegetation</th>\n",
       "      <th>id</th>\n",
       "    </tr>\n",
       "  </thead>\n",
       "  <tbody>\n",
       "    <tr>\n",
       "      <th>0</th>\n",
       "      <td>NDVI</td>\n",
       "      <td>0.217</td>\n",
       "      <td>2020-06-04</td>\n",
       "      <td>2020</td>\n",
       "      <td>1544</td>\n",
       "      <td>Kemin district</td>\n",
       "      <td>Горные светло-каштановые</td>\n",
       "      <td>Картофель</td>\n",
       "      <td>Яровая</td>\n",
       "      <td>06</td>\n",
       "      <td>04</td>\n",
       "      <td>True</td>\n",
       "      <td>986</td>\n",
       "    </tr>\n",
       "    <tr>\n",
       "      <th>1</th>\n",
       "      <td>NDVI</td>\n",
       "      <td>0.215</td>\n",
       "      <td>2020-08-03</td>\n",
       "      <td>2020</td>\n",
       "      <td>1544</td>\n",
       "      <td>Kemin district</td>\n",
       "      <td>Горные светло-каштановые</td>\n",
       "      <td>Картофель</td>\n",
       "      <td>Яровая</td>\n",
       "      <td>08</td>\n",
       "      <td>03</td>\n",
       "      <td>True</td>\n",
       "      <td>986</td>\n",
       "    </tr>\n",
       "    <tr>\n",
       "      <th>2</th>\n",
       "      <td>NDVI</td>\n",
       "      <td>0.150</td>\n",
       "      <td>2020-09-02</td>\n",
       "      <td>2020</td>\n",
       "      <td>1544</td>\n",
       "      <td>Kemin district</td>\n",
       "      <td>Горные светло-каштановые</td>\n",
       "      <td>Картофель</td>\n",
       "      <td>Яровая</td>\n",
       "      <td>09</td>\n",
       "      <td>02</td>\n",
       "      <td>True</td>\n",
       "      <td>986</td>\n",
       "    </tr>\n",
       "    <tr>\n",
       "      <th>3</th>\n",
       "      <td>NDVI</td>\n",
       "      <td>0.052</td>\n",
       "      <td>2021-04-10</td>\n",
       "      <td>2021</td>\n",
       "      <td>1544</td>\n",
       "      <td>Kemin district</td>\n",
       "      <td>Горные светло-каштановые</td>\n",
       "      <td>Картофель</td>\n",
       "      <td>Яровая</td>\n",
       "      <td>04</td>\n",
       "      <td>10</td>\n",
       "      <td>False</td>\n",
       "      <td>987</td>\n",
       "    </tr>\n",
       "    <tr>\n",
       "      <th>4</th>\n",
       "      <td>NDVI</td>\n",
       "      <td>0.056</td>\n",
       "      <td>2021-05-05</td>\n",
       "      <td>2021</td>\n",
       "      <td>1544</td>\n",
       "      <td>Kemin district</td>\n",
       "      <td>Горные светло-каштановые</td>\n",
       "      <td>Картофель</td>\n",
       "      <td>Яровая</td>\n",
       "      <td>05</td>\n",
       "      <td>05</td>\n",
       "      <td>False</td>\n",
       "      <td>987</td>\n",
       "    </tr>\n",
       "    <tr>\n",
       "      <th>...</th>\n",
       "      <td>...</td>\n",
       "      <td>...</td>\n",
       "      <td>...</td>\n",
       "      <td>...</td>\n",
       "      <td>...</td>\n",
       "      <td>...</td>\n",
       "      <td>...</td>\n",
       "      <td>...</td>\n",
       "      <td>...</td>\n",
       "      <td>...</td>\n",
       "      <td>...</td>\n",
       "      <td>...</td>\n",
       "      <td>...</td>\n",
       "    </tr>\n",
       "    <tr>\n",
       "      <th>22977</th>\n",
       "      <td>VARI</td>\n",
       "      <td>0.055</td>\n",
       "      <td>2022-05-08</td>\n",
       "      <td>2022</td>\n",
       "      <td>672</td>\n",
       "      <td>Yssyk-Ata district</td>\n",
       "      <td>Сероземно-луговые, местами солончаковатые</td>\n",
       "      <td>Кукуруза</td>\n",
       "      <td>Яровая</td>\n",
       "      <td>05</td>\n",
       "      <td>08</td>\n",
       "      <td>False</td>\n",
       "      <td>752</td>\n",
       "    </tr>\n",
       "    <tr>\n",
       "      <th>22978</th>\n",
       "      <td>VARI</td>\n",
       "      <td>0.072</td>\n",
       "      <td>2022-06-07</td>\n",
       "      <td>2022</td>\n",
       "      <td>672</td>\n",
       "      <td>Yssyk-Ata district</td>\n",
       "      <td>Сероземно-луговые, местами солончаковатые</td>\n",
       "      <td>Кукуруза</td>\n",
       "      <td>Яровая</td>\n",
       "      <td>06</td>\n",
       "      <td>07</td>\n",
       "      <td>False</td>\n",
       "      <td>752</td>\n",
       "    </tr>\n",
       "    <tr>\n",
       "      <th>22979</th>\n",
       "      <td>VARI</td>\n",
       "      <td>-0.002</td>\n",
       "      <td>2022-07-02</td>\n",
       "      <td>2022</td>\n",
       "      <td>672</td>\n",
       "      <td>Yssyk-Ata district</td>\n",
       "      <td>Сероземно-луговые, местами солончаковатые</td>\n",
       "      <td>Кукуруза</td>\n",
       "      <td>Яровая</td>\n",
       "      <td>07</td>\n",
       "      <td>02</td>\n",
       "      <td>False</td>\n",
       "      <td>752</td>\n",
       "    </tr>\n",
       "    <tr>\n",
       "      <th>22980</th>\n",
       "      <td>VARI</td>\n",
       "      <td>0.006</td>\n",
       "      <td>2022-08-01</td>\n",
       "      <td>2022</td>\n",
       "      <td>672</td>\n",
       "      <td>Yssyk-Ata district</td>\n",
       "      <td>Сероземно-луговые, местами солончаковатые</td>\n",
       "      <td>Кукуруза</td>\n",
       "      <td>Яровая</td>\n",
       "      <td>08</td>\n",
       "      <td>01</td>\n",
       "      <td>False</td>\n",
       "      <td>752</td>\n",
       "    </tr>\n",
       "    <tr>\n",
       "      <th>22981</th>\n",
       "      <td>VARI</td>\n",
       "      <td>-0.007</td>\n",
       "      <td>2022-10-05</td>\n",
       "      <td>2022</td>\n",
       "      <td>672</td>\n",
       "      <td>Yssyk-Ata district</td>\n",
       "      <td>Сероземно-луговые, местами солончаковатые</td>\n",
       "      <td>Кукуруза</td>\n",
       "      <td>Яровая</td>\n",
       "      <td>10</td>\n",
       "      <td>05</td>\n",
       "      <td>False</td>\n",
       "      <td>752</td>\n",
       "    </tr>\n",
       "  </tbody>\n",
       "</table>\n",
       "<p>22982 rows × 13 columns</p>\n",
       "</div>"
      ],
      "text/plain": [
       "      indextype  averagevalue Analysis Date  year contour  elevation_contour  \\\n",
       "0          NDVI         0.217    2020-06-04          2020               1544   \n",
       "1          NDVI         0.215    2020-08-03          2020               1544   \n",
       "2          NDVI         0.150    2020-09-02          2020               1544   \n",
       "3          NDVI         0.052    2021-04-10          2021               1544   \n",
       "4          NDVI         0.056    2021-05-05          2021               1544   \n",
       "...         ...           ...           ...           ...                ...   \n",
       "22977      VARI         0.055    2022-05-08          2022                672   \n",
       "22978      VARI         0.072    2022-06-07          2022                672   \n",
       "22979      VARI        -0.002    2022-07-02          2022                672   \n",
       "22980      VARI         0.006    2022-08-01          2022                672   \n",
       "22981      VARI        -0.007    2022-10-05          2022                672   \n",
       "\n",
       "            district_name                                  soil_name  \\\n",
       "0          Kemin district                   Горные светло-каштановые   \n",
       "1          Kemin district                   Горные светло-каштановые   \n",
       "2          Kemin district                   Горные светло-каштановые   \n",
       "3          Kemin district                   Горные светло-каштановые   \n",
       "4          Kemin district                   Горные светло-каштановые   \n",
       "...                   ...                                        ...   \n",
       "22977  Yssyk-Ata district  Сероземно-луговые, местами солончаковатые   \n",
       "22978  Yssyk-Ata district  Сероземно-луговые, местами солончаковатые   \n",
       "22979  Yssyk-Ata district  Сероземно-луговые, местами солончаковатые   \n",
       "22980  Yssyk-Ata district  Сероземно-луговые, местами солончаковатые   \n",
       "22981  Yssyk-Ata district  Сероземно-луговые, местами солончаковатые   \n",
       "\n",
       "      culture_name type_culture_name month day  vegetation   id  \n",
       "0        Картофель            Яровая    06  04        True  986  \n",
       "1        Картофель            Яровая    08  03        True  986  \n",
       "2        Картофель            Яровая    09  02        True  986  \n",
       "3        Картофель            Яровая    04  10       False  987  \n",
       "4        Картофель            Яровая    05  05       False  987  \n",
       "...            ...               ...   ...  ..         ...  ...  \n",
       "22977     Кукуруза            Яровая    05  08       False  752  \n",
       "22978     Кукуруза            Яровая    06  07       False  752  \n",
       "22979     Кукуруза            Яровая    07  02       False  752  \n",
       "22980     Кукуруза            Яровая    08  01       False  752  \n",
       "22981     Кукуруза            Яровая    10  05       False  752  \n",
       "\n",
       "[22982 rows x 13 columns]"
      ]
     },
     "execution_count": 5,
     "metadata": {},
     "output_type": "execute_result"
    }
   ],
   "source": [
    "df"
   ]
  },
  {
   "cell_type": "code",
   "execution_count": 6,
   "metadata": {},
   "outputs": [],
   "source": [
    "df = df[df['indextype'] == 'NDVI']\n",
    "df = df.drop(columns=['indextype', 'year contour', 'month', 'day', 'vegetation', 'type_culture_name'])\n",
    "df = df.rename(columns={'culture_name': 'class'})\n",
    "df = df.rename(columns={'averagevalue': 'red'})\n",
    "df = df.rename(columns={'Analysis Date': 'date'})\n",
    "df['date'] = pd.to_datetime(df['date'])"
   ]
  },
  {
   "cell_type": "code",
   "execution_count": 7,
   "metadata": {},
   "outputs": [],
   "source": [
    "df = df[df['date'] <= '2021-01-01']"
   ]
  },
  {
   "cell_type": "code",
   "execution_count": 8,
   "metadata": {},
   "outputs": [
    {
     "data": {
      "text/plain": [
       "array([ 2, 13,  4,  8, 10, 16,  7,  3,  5, 14,  0, 12, 11,  6,  1, 15,  9])"
      ]
     },
     "execution_count": 8,
     "metadata": {},
     "output_type": "execute_result"
    }
   ],
   "source": [
    "label_encoder = preprocessing.LabelEncoder() \n",
    "  \n",
    "# Encode labels in column 'class'. \n",
    "df['class']= label_encoder.fit_transform(df['class']) \n",
    "df['district_name']= label_encoder.fit_transform(df['district_name']) \n",
    "df['soil_name']= label_encoder.fit_transform(df['soil_name']) \n",
    "df['class'].unique() "
   ]
  },
  {
   "cell_type": "code",
   "execution_count": 9,
   "metadata": {},
   "outputs": [],
   "source": [
    "# Convert date to multiple columns (year, month, day)\n",
    "df['year'] = pd.to_datetime(df['date']).dt.year\n",
    "df['month'] = pd.to_datetime(df['date']).dt.month\n",
    "df['day'] = pd.to_datetime(df['date']).dt.day\n",
    "df.drop('date', axis=1, inplace=True)\n",
    "\n",
    "# Splitting data    \n",
    "X = df.drop('class', axis=1) \n",
    "y = df['class']\n",
    "X_train, X_test, y_train, y_test = train_test_split(X, y, test_size=0.2, random_state=42)"
   ]
  },
  {
   "cell_type": "code",
   "execution_count": 10,
   "metadata": {},
   "outputs": [
    {
     "name": "stdout",
     "output_type": "stream",
     "text": [
      "Accuracy: 72%\n"
     ]
    }
   ],
   "source": [
    "# Training the model\n",
    "clf = RandomForestClassifier(n_estimators=220, random_state=42)\n",
    "clf.fit(X_train, y_train)\n",
    "\n",
    "# Predictions and accuracy\n",
    "y_pred = clf.predict(X_test)\n",
    "accuracy = accuracy_score(y_test, y_pred)\n",
    "print(f\"Accuracy: {accuracy*100:.0f}%\")"
   ]
  },
  {
   "cell_type": "code",
   "execution_count": 11,
   "metadata": {},
   "outputs": [],
   "source": [
    "# Pivot table\n",
    "pivot_df = df.pivot_table(index='id', columns='month', values='red', aggfunc='mean')\n",
    "\n",
    "# Fill NaN values (assuming you want to fill with zeros, adjust if needed)\n",
    "# pivot_df = pivot_df.fillna(0)\n",
    "\n",
    "# Rename columns as needed\n",
    "pivot_df.columns = [f'red_{col}_month' for col in pivot_df.columns]\n",
    "\n",
    "# Reset the index so 'id' becomes a column\n",
    "pivot_df = pivot_df.reset_index()\n",
    "\n",
    "# Assuming each 'id' has a unique 'class', get the 'class' value for each 'id' and add to the pivot dataframe\n",
    "pivot_df['class'] = pivot_df['id'].map(df.drop_duplicates(subset='id').set_index('id')['class'])\n",
    "pivot_df['elevation_contour'] = pivot_df['id'].map(df.drop_duplicates(subset='id').set_index('id')['elevation_contour'])\n",
    "pivot_df['district_name'] = pivot_df['id'].map(df.drop_duplicates(subset='id').set_index('id')['district_name'])\n",
    "pivot_df['soil_name'] = pivot_df['id'].map(df.drop_duplicates(subset='id').set_index('id')['soil_name'])\n",
    "\n",
    "# Reordering columns\n",
    "pivot_df = pivot_df[['red_4_month', 'red_5_month', 'red_6_month', 'red_8_month', 'red_9_month', 'id', 'elevation_contour', 'district_name', 'soil_name', 'class']]\n"
   ]
  },
  {
   "cell_type": "code",
   "execution_count": 12,
   "metadata": {},
   "outputs": [],
   "source": [
    "# Splitting the data\n",
    "X = pivot_df.drop(['id', 'class'], axis=1)  # Features excluding 'id' and 'class'\n",
    "y = pivot_df['class']  # Target variable"
   ]
  },
  {
   "cell_type": "code",
   "execution_count": 13,
   "metadata": {},
   "outputs": [],
   "source": [
    "# class_counts = y.value_counts()\n",
    "# single_sample_classes = class_counts[class_counts == 1].index\n",
    "# filter_mask = ~y.isin(single_sample_classes)\n",
    "# X = X[filter_mask]\n",
    "# y = y[filter_mask]"
   ]
  },
  {
   "cell_type": "code",
   "execution_count": 14,
   "metadata": {},
   "outputs": [],
   "source": [
    "X_train, X_test, y_train, y_test = train_test_split(X, y, test_size=0.2, random_state=42)"
   ]
  },
  {
   "cell_type": "code",
   "execution_count": 15,
   "metadata": {},
   "outputs": [],
   "source": [
    "#Converting the dataset in proper LGB format\n",
    "d_train=lgb.Dataset(X_train, label=y_train)"
   ]
  },
  {
   "cell_type": "code",
   "execution_count": 16,
   "metadata": {},
   "outputs": [],
   "source": [
    "#setting up the parameters\n",
    "params={}\n",
    "params['learning_rate']=0.03\n",
    "params['boosting_type']='gbdt' #GradientBoostingDecisionTree\n",
    "params['objective']='multiclass' #Multi-class target feature\n",
    "params['metric']='multi_logloss' #metric for multi-class\n",
    "params['num_class']=16"
   ]
  },
  {
   "cell_type": "code",
   "execution_count": 17,
   "metadata": {},
   "outputs": [
    {
     "name": "stderr",
     "output_type": "stream",
     "text": [
      "[LightGBM] [Fatal] Label must be in [0, 16), but found 16 in label\n"
     ]
    },
    {
     "ename": "LightGBMError",
     "evalue": "Label must be in [0, 16), but found 16 in label",
     "output_type": "error",
     "traceback": [
      "\u001b[0;31m---------------------------------------------------------------------------\u001b[0m",
      "\u001b[0;31mLightGBMError\u001b[0m                             Traceback (most recent call last)",
      "\u001b[1;32m/home/dan/Desktop/culture_agromap_DS/LightGBM.ipynb Cell 17\u001b[0m line \u001b[0;36m1\n\u001b[0;32m----> <a href='vscode-notebook-cell:/home/dan/Desktop/culture_agromap_DS/LightGBM.ipynb#X34sZmlsZQ%3D%3D?line=0'>1</a>\u001b[0m clf\u001b[39m=\u001b[39mlgb\u001b[39m.\u001b[39;49mtrain(params,d_train,\u001b[39m100\u001b[39;49m)   \u001b[39m#обучение модели на 100 эпохах\u001b[39;00m\n",
      "File \u001b[0;32m~/Desktop/culture_agromap_DS/venv/lib/python3.10/site-packages/lightgbm/engine.py:255\u001b[0m, in \u001b[0;36mtrain\u001b[0;34m(params, train_set, num_boost_round, valid_sets, valid_names, feval, init_model, feature_name, categorical_feature, keep_training_booster, callbacks)\u001b[0m\n\u001b[1;32m    253\u001b[0m \u001b[39m# construct booster\u001b[39;00m\n\u001b[1;32m    254\u001b[0m \u001b[39mtry\u001b[39;00m:\n\u001b[0;32m--> 255\u001b[0m     booster \u001b[39m=\u001b[39m Booster(params\u001b[39m=\u001b[39;49mparams, train_set\u001b[39m=\u001b[39;49mtrain_set)\n\u001b[1;32m    256\u001b[0m     \u001b[39mif\u001b[39;00m is_valid_contain_train:\n\u001b[1;32m    257\u001b[0m         booster\u001b[39m.\u001b[39mset_train_data_name(train_data_name)\n",
      "File \u001b[0;32m~/Desktop/culture_agromap_DS/venv/lib/python3.10/site-packages/lightgbm/basic.py:3204\u001b[0m, in \u001b[0;36mBooster.__init__\u001b[0;34m(self, params, train_set, model_file, model_str)\u001b[0m\n\u001b[1;32m   3202\u001b[0m params\u001b[39m.\u001b[39mupdate(train_set\u001b[39m.\u001b[39mget_params())\n\u001b[1;32m   3203\u001b[0m params_str \u001b[39m=\u001b[39m _param_dict_to_str(params)\n\u001b[0;32m-> 3204\u001b[0m _safe_call(_LIB\u001b[39m.\u001b[39;49mLGBM_BoosterCreate(\n\u001b[1;32m   3205\u001b[0m     train_set\u001b[39m.\u001b[39;49m_handle,\n\u001b[1;32m   3206\u001b[0m     _c_str(params_str),\n\u001b[1;32m   3207\u001b[0m     ctypes\u001b[39m.\u001b[39;49mbyref(\u001b[39mself\u001b[39;49m\u001b[39m.\u001b[39;49m_handle)))\n\u001b[1;32m   3208\u001b[0m \u001b[39m# save reference to data\u001b[39;00m\n\u001b[1;32m   3209\u001b[0m \u001b[39mself\u001b[39m\u001b[39m.\u001b[39mtrain_set \u001b[39m=\u001b[39m train_set\n",
      "File \u001b[0;32m~/Desktop/culture_agromap_DS/venv/lib/python3.10/site-packages/lightgbm/basic.py:242\u001b[0m, in \u001b[0;36m_safe_call\u001b[0;34m(ret)\u001b[0m\n\u001b[1;32m    234\u001b[0m \u001b[39m\u001b[39m\u001b[39m\"\"\"Check the return value from C API call.\u001b[39;00m\n\u001b[1;32m    235\u001b[0m \n\u001b[1;32m    236\u001b[0m \u001b[39mParameters\u001b[39;00m\n\u001b[0;32m   (...)\u001b[0m\n\u001b[1;32m    239\u001b[0m \u001b[39m    The return value from C API calls.\u001b[39;00m\n\u001b[1;32m    240\u001b[0m \u001b[39m\"\"\"\u001b[39;00m\n\u001b[1;32m    241\u001b[0m \u001b[39mif\u001b[39;00m ret \u001b[39m!=\u001b[39m \u001b[39m0\u001b[39m:\n\u001b[0;32m--> 242\u001b[0m     \u001b[39mraise\u001b[39;00m LightGBMError(_LIB\u001b[39m.\u001b[39mLGBM_GetLastError()\u001b[39m.\u001b[39mdecode(\u001b[39m'\u001b[39m\u001b[39mutf-8\u001b[39m\u001b[39m'\u001b[39m))\n",
      "\u001b[0;31mLightGBMError\u001b[0m: Label must be in [0, 16), but found 16 in label"
     ]
    }
   ],
   "source": [
    "clf=lgb.train(params,d_train,100)   #обучение модели на 100 эпохах"
   ]
  },
  {
   "cell_type": "code",
   "execution_count": null,
   "metadata": {},
   "outputs": [],
   "source": [
    "y_pred"
   ]
  },
  {
   "cell_type": "code",
   "execution_count": null,
   "metadata": {},
   "outputs": [],
   "source": [
    "y_pred=clf.predict(X_test)\n",
    "y_pred_train = clf.predict(X_train)"
   ]
  },
  {
   "cell_type": "code",
   "execution_count": null,
   "metadata": {},
   "outputs": [],
   "source": [
    "#argmax() method \n",
    "y_pred = [np.argmax(line) for line in y_pred]\n",
    "#printing the predictions\n",
    "\n",
    "#using precision score for error metrics\n",
    "precision_score(y_pred,y_test,average=None).mean()\n",
    "# 0.9545454545454546"
   ]
  },
  {
   "cell_type": "code",
   "execution_count": null,
   "metadata": {},
   "outputs": [],
   "source": []
  },
  {
   "cell_type": "code",
   "execution_count": null,
   "metadata": {},
   "outputs": [],
   "source": []
  },
  {
   "cell_type": "code",
   "execution_count": null,
   "metadata": {},
   "outputs": [],
   "source": [
    "cm = confusion_matrix(y_test, y_pred)\n",
    "print('Confusion matrix\\n\\n', cm)\n",
    "print('\\nTrue Positives(TP) = ', cm[0,0])\n",
    "print('\\nTrue Negatives(TN) = ', cm[1,1])\n",
    "print('\\nFalse Positives(FP) = ', cm[0,1])\n",
    "print('\\nFalse Negatives(FN) = ', cm[1,0])"
   ]
  },
  {
   "cell_type": "code",
   "execution_count": null,
   "metadata": {},
   "outputs": [],
   "source": [
    "print(classification_report(y_test, y_pred))"
   ]
  },
  {
   "cell_type": "code",
   "execution_count": null,
   "metadata": {},
   "outputs": [],
   "source": []
  }
 ],
 "metadata": {
  "kernelspec": {
   "display_name": "venv",
   "language": "python",
   "name": "python3"
  },
  "language_info": {
   "codemirror_mode": {
    "name": "ipython",
    "version": 3
   },
   "file_extension": ".py",
   "mimetype": "text/x-python",
   "name": "python",
   "nbconvert_exporter": "python",
   "pygments_lexer": "ipython3",
   "version": "3.10.12"
  }
 },
 "nbformat": 4,
 "nbformat_minor": 2
}
